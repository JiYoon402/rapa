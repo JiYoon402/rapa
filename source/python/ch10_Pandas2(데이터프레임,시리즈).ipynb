{
 "cells": [
  {
   "cell_type": "markdown",
   "id": "a9a480c9-1326-4148-8919-ce5ac0c5122c",
   "metadata": {},
   "source": [
    "<font color=\"violet\" size=\"6\"><b>ch10 Pandas(데이터프레임,시리즈)<b/></font>\n",
    "- pip install pandas (cmd창에서 실행)"
   ]
  },
  {
   "cell_type": "markdown",
   "id": "c6e6e146-98c0-47a8-b79c-c279cfb8230b",
   "metadata": {},
   "source": [
    "# 1절 판다스 패키지\n",
    "- 데이터 분석을 위한 반드시 알아야 할 패키지\n",
    "- numpy를 기반으로 하며, 다른 라이브러리와 잘 통합되어 설계\n",
    "- 1차원 구조를 갖는 시리즈, 2차원 구조를 갖는 데이터 프레임을 제공\n",
    "- 결측치처리, 크기변경(열삭제/추가, 행삭제/추가), 데이터정렬, 데이터분할/병합, 통계처리, 부분데이터 추출, 파일입출력, 레이블링, 시각화용이, ...)"
   ]
  },
  {
   "cell_type": "code",
   "execution_count": null,
   "id": "5b65ecde-81de-4434-8e74-daae6af0b757",
   "metadata": {},
   "outputs": [],
   "source": [
    "import numpy as np\n",
    "np.pi"
   ]
  },
  {
   "cell_type": "code",
   "execution_count": null,
   "id": "f23d272f-f0ea-42ca-845b-83e0f98d944d",
   "metadata": {},
   "outputs": [],
   "source": [
    "import pandas as pd\n",
    "pd.__version__"
   ]
  },
  {
   "cell_type": "code",
   "execution_count": null,
   "id": "00206a2b-897c-4a0f-8250-68dc2b9f731d",
   "metadata": {},
   "outputs": [],
   "source": [
    "data=pd.read_json('data/ch10_member1.json',encoding=\"cp949\")#디폴트가 UTF-8\n",
    "print(type(data))\n",
    "data"
   ]
  },
  {
   "cell_type": "code",
   "execution_count": null,
   "id": "2e3ddb6e-cc2d-4a6e-bf2a-8e9c3c8a8f60",
   "metadata": {},
   "outputs": [],
   "source": [
    "data=pd.read_json('data/ch10_member2.json')#UTF-8로 read, encoding 다르면 에러\n",
    "print(type(data))\n",
    "data"
   ]
  },
  {
   "cell_type": "code",
   "execution_count": null,
   "id": "fb2a3b12-d134-4cc4-abcd-27295d002d9e",
   "metadata": {},
   "outputs": [],
   "source": [
    "member1=pd.read_csv('data/ch09_member1.csv',header=None, names=['name','age','email','address'],encoding='utf-8')\n",
    "member1"
   ]
  },
  {
   "cell_type": "markdown",
   "id": "3fb06993-6ace-482b-89c4-3590563e86c5",
   "metadata": {},
   "source": [
    "# 2절 데이터 프레임 만들기\n",
    "## 2.1 딕셔너리를 이용해 데이터프레임 만들기"
   ]
  },
  {
   "cell_type": "code",
   "execution_count": 12,
   "id": "09cc07af-a485-461a-a784-7e4763ec840b",
   "metadata": {},
   "outputs": [
    {
     "data": {
      "text/html": [
       "<div>\n",
       "<style scoped>\n",
       "    .dataframe tbody tr th:only-of-type {\n",
       "        vertical-align: middle;\n",
       "    }\n",
       "\n",
       "    .dataframe tbody tr th {\n",
       "        vertical-align: top;\n",
       "    }\n",
       "\n",
       "    .dataframe thead th {\n",
       "        text-align: right;\n",
       "    }\n",
       "</style>\n",
       "<table border=\"1\" class=\"dataframe\">\n",
       "  <thead>\n",
       "    <tr style=\"text-align: right;\">\n",
       "      <th></th>\n",
       "      <th>name</th>\n",
       "      <th>age</th>\n",
       "    </tr>\n",
       "  </thead>\n",
       "  <tbody>\n",
       "    <tr>\n",
       "      <th>0</th>\n",
       "      <td>홍길동</td>\n",
       "      <td>20</td>\n",
       "    </tr>\n",
       "    <tr>\n",
       "      <th>1</th>\n",
       "      <td>신길동</td>\n",
       "      <td>30</td>\n",
       "    </tr>\n",
       "  </tbody>\n",
       "</table>\n",
       "</div>"
      ],
      "text/plain": [
       "  name  age\n",
       "0  홍길동   20\n",
       "1  신길동   30"
      ]
     },
     "execution_count": 12,
     "metadata": {},
     "output_type": "execute_result"
    }
   ],
   "source": [
    "d={'name':['홍길동','신길동'],'age':[20,30]}\n",
    "df=pd.DataFrame(data=d)\n",
    "df"
   ]
  },
  {
   "cell_type": "markdown",
   "id": "e0c9f05e-c036-4e96-bfd2-10944dbd1955",
   "metadata": {},
   "source": [
    "## 2.2 리스트를 이용해 데이터프레임 만들기"
   ]
  },
  {
   "cell_type": "code",
   "execution_count": 13,
   "id": "8125ecf5-23a3-4b41-932c-7c9344c7dcbf",
   "metadata": {},
   "outputs": [],
   "source": [
    "d=[{'name':'홍길동','age':20},{'name':'신길동','age':30}]"
   ]
  },
  {
   "cell_type": "code",
   "execution_count": 14,
   "id": "d3347154-07e4-43b7-872c-895eb3b192b3",
   "metadata": {},
   "outputs": [],
   "source": [
    "df=pd.DataFrame(data=d)\n"
   ]
  },
  {
   "cell_type": "markdown",
   "id": "bb4563af-9e83-499a-bdee-13b9c088fdce",
   "metadata": {},
   "source": [
    "## 2.3 read_csv()"
   ]
  },
  {
   "cell_type": "code",
   "execution_count": null,
   "id": "a1b8ae9a-e245-4a13-9efc-7acb93900587",
   "metadata": {},
   "outputs": [],
   "source": [
    "df= pd.read_csv('data/전국 평균 평당 분양가격(2013년 9월부터 2015년 8월까지).csv',encoding='cp949')\n",
    "df.shape #행, 열\n",
    "df"
   ]
  },
  {
   "cell_type": "code",
   "execution_count": null,
   "id": "ca913e37-57a5-466d-9f1c-8e5c3ada6c7f",
   "metadata": {},
   "outputs": [],
   "source": [
    "df.head(2)"
   ]
  },
  {
   "cell_type": "code",
   "execution_count": null,
   "id": "aecaba99-8eb3-4b25-9044-93bde65c239b",
   "metadata": {},
   "outputs": [],
   "source": [
    "pd.options.display.max_columns # 최대 데이터 프레임의 표현될 수 있는 열 수"
   ]
  },
  {
   "cell_type": "code",
   "execution_count": null,
   "id": "ea1f10e3-90de-43e9-89c5-812de4d6be93",
   "metadata": {},
   "outputs": [],
   "source": [
    "pd.options.display.max_colums"
   ]
  },
  {
   "cell_type": "markdown",
   "id": "129166da-0e05-4459-9c4c-550e75869877",
   "metadata": {},
   "source": [
    "## 2.4 sklearn, statsmodels, seaborn 등의 라이브러리에서 데이터프레임 불러오기"
   ]
  },
  {
   "cell_type": "code",
   "execution_count": null,
   "id": "0743bacf-d6a5-498a-859a-6bb65160b5c6",
   "metadata": {},
   "outputs": [],
   "source": [
    "import statsmodels.api as sm\n",
    "iris=sm.datasets.get_rdataset(\"iris\",package=\"datasets\").data\n",
    "iris.tail() #끝 5행"
   ]
  },
  {
   "cell_type": "markdown",
   "id": "b5df07b5-899c-454e-99a9-c95f7a164a98",
   "metadata": {},
   "source": [
    "# 3절 이름(열,행) 지정하기"
   ]
  },
  {
   "cell_type": "code",
   "execution_count": null,
   "id": "37ab7d0c-009e-4360-9ff0-dcc38c3c98d8",
   "metadata": {},
   "outputs": [],
   "source": [
    "member_df=pd.read_csv('data/ch09_member1.csv',header=None)\n",
    "member_df"
   ]
  },
  {
   "cell_type": "code",
   "execution_count": null,
   "id": "6c228161-ddb2-4460-899c-25bf7407eefb",
   "metadata": {},
   "outputs": [],
   "source": [
    "#열이름 지정하기\n",
    "member_df.columns=['name','age','email','address']\n",
    "member_df"
   ]
  },
  {
   "cell_type": "code",
   "execution_count": null,
   "id": "5f23bdd3-9238-41ac-a4de-b6e3cb05e38e",
   "metadata": {},
   "outputs": [],
   "source": [
    "member_df=pd.concat([member_df,member_df]) # 행 이름이 연속되지 않음\n",
    "member_df"
   ]
  },
  {
   "cell_type": "code",
   "execution_count": null,
   "id": "4a012e16-0717-4169-81e6-2ee990123dc8",
   "metadata": {},
   "outputs": [],
   "source": [
    "member_df.index"
   ]
  },
  {
   "cell_type": "code",
   "execution_count": null,
   "id": "bf6e0288-e06e-4032-88d8-6a6d45bb3e4e",
   "metadata": {},
   "outputs": [],
   "source": [
    "member_df.index=range(len(member_df))\n",
    "member_df"
   ]
  },
  {
   "cell_type": "code",
   "execution_count": null,
   "id": "5a7e90d2-ffd5-4aa2-ae64-ad1c28a25e96",
   "metadata": {},
   "outputs": [],
   "source": [
    "# name열을 행(index)이름으로\n",
    "#member_df=member_df.set_index(\"name\")#inplace=false적용된 내용 return\n",
    "member_df.set_index(\"name\",inplace=True)#inplace=true 데이터프레임에 적용\n",
    "member_df"
   ]
  },
  {
   "cell_type": "code",
   "execution_count": null,
   "id": "3e7cbb61-e5c1-4952-88cb-80ba3f957c00",
   "metadata": {},
   "outputs": [],
   "source": [
    "#행 이름을 컬럼에 편입시키기\n",
    "#member_df=member_df.reset_index()#reset 적용한 것을 return\n",
    "member_df.reset_index(inplace=True) #reset을 member_df에 적용\n",
    "member_df"
   ]
  },
  {
   "cell_type": "code",
   "execution_count": null,
   "id": "3854da7b-f369-4018-bcce-c96a1497fdb5",
   "metadata": {},
   "outputs": [],
   "source": [
    "name=member_df['name'] #1차원 데이터 시리즈\n",
    "print(type(name))\n",
    "name"
   ]
  },
  {
   "cell_type": "markdown",
   "id": "c7d0d8b0-6438-4f13-8c48-2aa721225c95",
   "metadata": {},
   "source": [
    "member=member_df.loc[0] # 0번 인덱스 행 =>시리즈(1차원)\n",
    "print(type(member))\n",
    "member"
   ]
  },
  {
   "cell_type": "code",
   "execution_count": null,
   "id": "f5ca7cc4-c17b-412e-a163-d8b72c8fb703",
   "metadata": {},
   "outputs": [],
   "source": [
    "member_df.info()"
   ]
  },
  {
   "cell_type": "code",
   "execution_count": null,
   "id": "3631a6eb-0376-46fa-84cb-06b9b7d8d52e",
   "metadata": {},
   "outputs": [],
   "source": [
    "#타입 바꾸기\n",
    "member_df['age']=member_df['age'].astype('float64')#데이터 프레임의 열의 타입을 변경\n",
    "member_df.info()"
   ]
  },
  {
   "cell_type": "markdown",
   "id": "5941135e-9916-425f-857b-c13064fdbdba",
   "metadata": {},
   "source": [
    "# 4절 부분 데이터 조회\n",
    "- 특정열, 특정행, 특정행의 특정열, 특정조건의 행 모든열, 특정조건의 행의 특정열"
   ]
  },
  {
   "cell_type": "code",
   "execution_count": null,
   "id": "60c0a5f3-ee4e-47ae-8692-ce3f5565cbf1",
   "metadata": {},
   "outputs": [],
   "source": [
    "member=pd.read_csv('data/ch09_member2.csv')\n",
    "member"
   ]
  },
  {
   "cell_type": "markdown",
   "id": "ac504b1b-d1c6-42df-84ed-8e8e503abae8",
   "metadata": {},
   "source": [
    "## 4.1 단일열 조회"
   ]
  },
  {
   "cell_type": "code",
   "execution_count": null,
   "id": "5c9a4146-05ef-4ab6-9822-c058e55a0d17",
   "metadata": {},
   "outputs": [],
   "source": [
    "member['name'] # 시리즈\n",
    "member['name'].to_frame() #시리즈를 데이터프레임으로"
   ]
  },
  {
   "cell_type": "markdown",
   "id": "5dd06d22-7eee-46a5-be59-a7a9111d9842",
   "metadata": {},
   "source": [
    "## 4.2 loc[]을 이용한 이름(열,행)으로 조회\n",
    "- 단일행, 여러열, 행과 열 동시에 접근\n",
    "- member.loc[행,열] #행/열 슬라이싱 가능(0~4행:loc[[0:5],열])\n",
    "- "
   ]
  },
  {
   "cell_type": "code",
   "execution_count": null,
   "id": "2e689dae-0295-498f-8bcd-822b11903559",
   "metadata": {},
   "outputs": [],
   "source": [
    "# 단일행\n",
    "member.loc[0] #시리즈"
   ]
  },
  {
   "cell_type": "code",
   "execution_count": null,
   "id": "bb646045-d160-4686-b24c-084455435f20",
   "metadata": {},
   "outputs": [],
   "source": [
    "# 여러행\n",
    "member.loc[0:5] #0~4행"
   ]
  },
  {
   "cell_type": "code",
   "execution_count": null,
   "id": "59cebe80-c58f-4a4d-9369-6015901f68e1",
   "metadata": {},
   "outputs": [],
   "source": [
    "# 여러열\n",
    "member.loc['name']\n",
    "#name열부터 email열까지 ==age열포함\n",
    "member.loc[:'name':'email']#from:to:step"
   ]
  },
  {
   "cell_type": "code",
   "execution_count": null,
   "id": "6c5c9f57-2221-42da-a97d-b3ec96b0b40a",
   "metadata": {},
   "outputs": [],
   "source": [
    "#여러열(name열과 email 열)\n",
    "member.loc[:,['name','email']]"
   ]
  },
  {
   "cell_type": "code",
   "execution_count": null,
   "id": "4b092fbd-c3ab-4cad-b25a-46c689e18537",
   "metadata": {},
   "outputs": [],
   "source": [
    "#1행부터 4행까지 name과 email\n",
    "member.loc[1:4,['name','email']]"
   ]
  },
  {
   "cell_type": "code",
   "execution_count": null,
   "id": "bb5d3f7d-5340-4915-8458-3418da230fc4",
   "metadata": {},
   "outputs": [],
   "source": [
    "#1행과 4행, name,email,address\n",
    "member.loc[[1,4],['name','email','address']]"
   ]
  },
  {
   "cell_type": "code",
   "execution_count": null,
   "id": "183dd428-22a0-4881-b163-1aaa15c5c401",
   "metadata": {},
   "outputs": [],
   "source": [
    "#1행~4행까지 name~email열 출력\n",
    "member.loc[1:4,'name':'address;]]"
   ]
  },
  {
   "cell_type": "markdown",
   "id": "7518b148-6b7f-4044-b52f-087c878bd9a1",
   "metadata": {},
   "source": [
    "## 4.3 iloc[]을 이용한 숫자(index)로 조회\n",
    "- 몇번째 행부터 몇번째 행 앞까지, 몇번째 열부터 몇번째 열 앞까지;\n",
    "- 음수가능"
   ]
  },
  {
   "cell_type": "code",
   "execution_count": null,
   "id": "e94f5dd5-122e-4d68-ade6-d8748fb780e3",
   "metadata": {},
   "outputs": [],
   "source": [
    "member.iloc[0:4] #slicing from:to:step"
   ]
  },
  {
   "cell_type": "code",
   "execution_count": null,
   "id": "d8de5d86-22bf-4123-86db-8e5a2019a6b8",
   "metadata": {},
   "outputs": [],
   "source": [
    "member.iloc[0,0:3] #0열부터 3열 앞까지"
   ]
  },
  {
   "cell_type": "code",
   "execution_count": null,
   "id": "71a8aa6c-bc6a-4f27-8898-24693e739259",
   "metadata": {},
   "outputs": [],
   "source": [
    "#맨 오른쪽 열을 제외하고 입력\n",
    "member.illoc[:,:-1]"
   ]
  },
  {
   "cell_type": "code",
   "execution_count": null,
   "id": "287047a0-80db-436f-b4b9-255973560cb3",
   "metadata": {},
   "outputs": [],
   "source": [
    "#짝수번째 행의 모든 열 출력\n",
    "member.illoc[::2,0:2]"
   ]
  },
  {
   "cell_type": "code",
   "execution_count": null,
   "id": "822cb676-e830-4198-b4de-a5cf01011fda",
   "metadata": {},
   "outputs": [],
   "source": [
    "#member의 행순서를 역순 출력(맨 마지막 열을 제외하고)\n",
    "member.illoc[::-1,:-1]"
   ]
  },
  {
   "cell_type": "markdown",
   "id": "a4f00a0e-476a-4d32-9ba5-53aaa06a8029",
   "metadata": {},
   "source": [
    "## 4.4 조건으로 조회하기"
   ]
  },
  {
   "cell_type": "code",
   "execution_count": null,
   "id": "d4192653-ed10-42aa-b953-665bed23bd63",
   "metadata": {},
   "outputs": [],
   "source": []
  },
  {
   "cell_type": "code",
   "execution_count": null,
   "id": "16ec82a2-817d-424d-811f-1e68558917be",
   "metadata": {},
   "outputs": [],
   "source": []
  }
 ],
 "metadata": {
  "kernelspec": {
   "display_name": "Python 3 (ipykernel)",
   "language": "python",
   "name": "python3"
  },
  "language_info": {
   "codemirror_mode": {
    "name": "ipython",
    "version": 3
   },
   "file_extension": ".py",
   "mimetype": "text/x-python",
   "name": "python",
   "nbconvert_exporter": "python",
   "pygments_lexer": "ipython3",
   "version": "3.11.7"
  }
 },
 "nbformat": 4,
 "nbformat_minor": 5
}
