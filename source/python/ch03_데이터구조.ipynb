{
 "cells": [
  {
   "cell_type": "markdown",
   "id": "7542e693-c44d-4edc-9116-486b5ca46803",
   "metadata": {},
   "source": [
    "<font color=\"skyblue\" size=\"7\"><b>ch03 데이터 구조<b/></font>\n",
    "- list[], tuple(), dictionary(구조체와 유사), set(집합)"
   ]
  },
  {
   "cell_type": "markdown",
   "id": "79ed0e06-78dd-463c-a69a-c567b6c46aa0",
   "metadata": {},
   "source": [
    "# 1절 list\n",
    "## 1.1 list 만들기\n",
    "    - []\n",
    "    - index:0부터 시작, -1은 맨 마지막 index\n",
    "    - slicing([from:to:step]) 이용하여 원하는 data추출가능"
   ]
  },
  {
   "cell_type": "code",
   "execution_count": 5,
   "id": "c1b1414b-1ec3-46b5-8c26-063e7e665298",
   "metadata": {},
   "outputs": [
    {
     "data": {
      "text/plain": [
       "list"
      ]
     },
     "execution_count": 5,
     "metadata": {},
     "output_type": "execute_result"
    }
   ],
   "source": [
    "fruits=[1,'banana','apple',True] #동일 자료형의 집합이 아니여도 됨\n",
    "type(fruits)"
   ]
  },
  {
   "cell_type": "code",
   "execution_count": 3,
   "id": "526240ef-0126-40b2-9de2-db16f55aeaa1",
   "metadata": {},
   "outputs": [
    {
     "name": "stdout",
     "output_type": "stream",
     "text": [
      "[1, 'banana', 'apple']\n"
     ]
    }
   ],
   "source": [
    "print(fruits)"
   ]
  },
  {
   "cell_type": "code",
   "execution_count": 4,
   "id": "0ee05936-e776-4ecb-b075-29d2f093c06a",
   "metadata": {},
   "outputs": [
    {
     "name": "stdout",
     "output_type": "stream",
     "text": [
      "banana\n"
     ]
    }
   ],
   "source": [
    "print(fruits[1])"
   ]
  },
  {
   "cell_type": "code",
   "execution_count": 6,
   "id": "cdd8e30f-b8b2-4ef4-910d-bb0023eb4bd1",
   "metadata": {},
   "outputs": [
    {
     "data": {
      "text/plain": [
       "[1, 'mango', 'apple', True]"
      ]
     },
     "execution_count": 6,
     "metadata": {},
     "output_type": "execute_result"
    }
   ],
   "source": [
    "fruits[1]='mango'\n",
    "fruits"
   ]
  },
  {
   "cell_type": "code",
   "execution_count": 8,
   "id": "afcffa69-5dbe-47e9-bc5c-30f40bf2a5ba",
   "metadata": {},
   "outputs": [
    {
     "name": "stdout",
     "output_type": "stream",
     "text": [
      "1\n",
      "mango\n",
      "apple\n",
      "True\n"
     ]
    },
    {
     "data": {
      "text/plain": [
       "True"
      ]
     },
     "execution_count": 8,
     "metadata": {},
     "output_type": "execute_result"
    }
   ],
   "source": [
    "for fruit in fruits:# 0번index부터 받는 변수 in list/tuple\n",
    "    print(fruit)"
   ]
  },
  {
   "cell_type": "code",
   "execution_count": 14,
   "id": "569e4dad-12b5-4f5a-858b-e078f9b127d0",
   "metadata": {},
   "outputs": [
    {
     "data": {
      "text/plain": [
       "range(0, 5)"
      ]
     },
     "execution_count": 14,
     "metadata": {},
     "output_type": "execute_result"
    }
   ],
   "source": [
    "range(0,5)"
   ]
  },
  {
   "cell_type": "code",
   "execution_count": 20,
   "id": "63fd21ba-6c97-4953-915d-a24f88ff70ff",
   "metadata": {},
   "outputs": [
    {
     "data": {
      "text/plain": [
       "[0, 1, 2, 3]"
      ]
     },
     "execution_count": 20,
     "metadata": {},
     "output_type": "execute_result"
    }
   ],
   "source": [
    "list(range(len(fruits))) #len(list):요소의 갯수"
   ]
  },
  {
   "cell_type": "code",
   "execution_count": 21,
   "id": "06ae9661-58f6-49fb-91bd-e172a12dc7ec",
   "metadata": {},
   "outputs": [
    {
     "name": "stdout",
     "output_type": "stream",
     "text": [
      "0 1\n",
      "1 mango\n",
      "2 apple\n",
      "3 True\n"
     ]
    }
   ],
   "source": [
    "for i in range(4):\n",
    "    print(i,fruits[i])"
   ]
  },
  {
   "cell_type": "code",
   "execution_count": 22,
   "id": "150a0de6-27b3-4b49-b7c5-50fcf34ec5d9",
   "metadata": {},
   "outputs": [
    {
     "name": "stdout",
     "output_type": "stream",
     "text": [
      "0 1\n",
      "1 mango\n",
      "2 apple\n",
      "3 True\n"
     ]
    }
   ],
   "source": [
    "for idx, value in enumerate(fruits):#enumerate: i,list[i] 반환\n",
    "    print(idx, value)"
   ]
  },
  {
   "cell_type": "code",
   "execution_count": 24,
   "id": "577d009c-b0a0-4d73-9169-fa241ffc8e3f",
   "metadata": {},
   "outputs": [
    {
     "data": {
      "text/plain": [
       "enumerate"
      ]
     },
     "execution_count": 24,
     "metadata": {},
     "output_type": "execute_result"
    }
   ],
   "source": []
  },
  {
   "cell_type": "code",
   "execution_count": 12,
   "id": "153d2752-28e7-4ac0-b502-8e683386b097",
   "metadata": {},
   "outputs": [
    {
     "name": "stdout",
     "output_type": "stream",
     "text": [
      "0 1\n",
      "1 mango\n",
      "2 apple\n",
      "3 True\n"
     ]
    }
   ],
   "source": [
    "#index로 접근\n",
    "for i in [0,1,2,3]:\n",
    "    print(i,fruits[i])"
   ]
  },
  {
   "cell_type": "markdown",
   "id": "0bbffd76-74a8-461f-8fa1-937929f76741",
   "metadata": {},
   "source": [
    "## 1.2 기본정보 조회"
   ]
  },
  {
   "cell_type": "code",
   "execution_count": 27,
   "id": "a662033e-4d95-4be2-a9c1-4c7bbe9da074",
   "metadata": {},
   "outputs": [
    {
     "name": "stdout",
     "output_type": "stream",
     "text": [
      "요소의 수: 5\n",
      "min: 1 max: 5\n"
     ]
    }
   ],
   "source": [
    "numbers=[1,2,3,4,5]\n",
    "print('요소의 수:',len(numbers))\n",
    "print('min:',min(numbers),'max:',max(numbers))"
   ]
  },
  {
   "cell_type": "markdown",
   "id": "aa4cd782-fa76-4e1e-9a57-785f8feaac98",
   "metadata": {},
   "source": [
    "## 1.3 요소 추가"
   ]
  },
  {
   "cell_type": "code",
   "execution_count": 28,
   "id": "d705313c-c8f8-4836-9fce-6ac514e95436",
   "metadata": {},
   "outputs": [],
   "source": [
    "# + 두 리스트를 연결\n",
    "# list*n: list를 n만큼 반목\n",
    "# append(): 요소 뒤에 추가\n",
    "# extend(): 요소별로 뒤에 추가"
   ]
  },
  {
   "cell_type": "code",
   "execution_count": 32,
   "id": "e5f3763a-d0fa-43bd-b807-eab0ebb3b650",
   "metadata": {},
   "outputs": [
    {
     "name": "stdout",
     "output_type": "stream",
     "text": [
      "[1, 2, 3, 1, 2, 3, 1, 2, 3]\n"
     ]
    }
   ],
   "source": [
    "numbers=[1,2,3]\n",
    "print(numbers+numbers*2)"
   ]
  },
  {
   "cell_type": "code",
   "execution_count": 33,
   "id": "ba4da661-0712-4b70-b805-67ad946dd4e5",
   "metadata": {},
   "outputs": [
    {
     "data": {
      "text/plain": [
       "[1, 2, 3, 4]"
      ]
     },
     "execution_count": 33,
     "metadata": {},
     "output_type": "execute_result"
    }
   ],
   "source": [
    "numbers.append(4)\n",
    "numbers"
   ]
  },
  {
   "cell_type": "code",
   "execution_count": 34,
   "id": "943397e2-0ff7-4c5a-8f50-244d789b6b3c",
   "metadata": {},
   "outputs": [
    {
     "data": {
      "text/plain": [
       "[1, 2, 3, 4, 5, 6]"
      ]
     },
     "execution_count": 34,
     "metadata": {},
     "output_type": "execute_result"
    }
   ],
   "source": [
    "num=[5,6]\n",
    "#numbers를 [1,2,3,4,5,6] vs [1,2,3,4,[5,6]]\n",
    "numbers.extend(num)\n",
    "numbers\n"
   ]
  },
  {
   "cell_type": "code",
   "execution_count": 35,
   "id": "c6a8488b-867e-488f-9aaf-d36c3289f898",
   "metadata": {},
   "outputs": [
    {
     "data": {
      "text/plain": [
       "[1, 2, 3, 4, 'hello']"
      ]
     },
     "execution_count": 35,
     "metadata": {},
     "output_type": "execute_result"
    }
   ],
   "source": [
    "numbers=[1,2,3,4]\n",
    "numbers.append('hello')\n",
    "numbers"
   ]
  },
  {
   "cell_type": "code",
   "execution_count": 36,
   "id": "6730aaae-3466-4235-b8a5-43debadef20b",
   "metadata": {},
   "outputs": [
    {
     "data": {
      "text/plain": [
       "[1, 2, 3, 4, 'h', 'e', 'l', 'l', 'o']"
      ]
     },
     "execution_count": 36,
     "metadata": {},
     "output_type": "execute_result"
    }
   ],
   "source": [
    "numbers=[1,2,3,4]\n",
    "numbers.extend('hello')\n",
    "numbers"
   ]
  },
  {
   "cell_type": "markdown",
   "id": "9d48604e-72db-4387-967e-2dfd2937e180",
   "metadata": {},
   "source": [
    "## 1.4 인덱싱\n",
    "- index(찾고자하는 값, 1): 찾고자하는 값이 1번 인덱스부터 찾아 그 위치를 반환\n",
    "- count(찾고자하는 값): 찾고자하는 값이 몇번 나오는지 counter"
   ]
  },
  {
   "cell_type": "code",
   "execution_count": 41,
   "id": "f2293e39-6cc0-4c7d-be13-254c03d2bfae",
   "metadata": {},
   "outputs": [
    {
     "name": "stdout",
     "output_type": "stream",
     "text": [
      "0\n",
      "2\n"
     ]
    }
   ],
   "source": [
    "numbers=[1,2,3,[1,2,3],1,2,3] #1은 두개 있음!\n",
    "print(numbers.count(4))\n",
    "print(numbers.count(1))"
   ]
  },
  {
   "cell_type": "code",
   "execution_count": 42,
   "id": "36ad70d8-1cbb-46b3-97bb-ad3e65d0b607",
   "metadata": {},
   "outputs": [
    {
     "data": {
      "text/plain": [
       "True"
      ]
     },
     "execution_count": 42,
     "metadata": {},
     "output_type": "execute_result"
    }
   ],
   "source": [
    "2 in numbers # 2가있는지 여부"
   ]
  },
  {
   "cell_type": "code",
   "execution_count": 43,
   "id": "12d838dd-99bc-47f7-8742-6f1e0f0b4e95",
   "metadata": {},
   "outputs": [
    {
     "data": {
      "text/plain": [
       "5"
      ]
     },
     "execution_count": 43,
     "metadata": {},
     "output_type": "execute_result"
    }
   ],
   "source": [
    "numbers.index(2,3) #3번째 인덱스부터 2가 처음 나오는 인덱스를 반환"
   ]
  },
  {
   "cell_type": "markdown",
   "id": "a43286a1-289d-45b0-b7a9-3b07b4b987e5",
   "metadata": {},
   "source": [
    "## 1.5 리스트의 원하는 내용만 추출\n",
    "- 슬라이싱 [from:to:step]: 원하는 인덱스의 값 추출\n",
    "- 리스트 컴프리헨션: 원하는 데이터만 추출"
   ]
  },
  {
   "cell_type": "code",
   "execution_count": 44,
   "id": "f6e18e9a-5bf4-4c9d-a399-3f079724a99e",
   "metadata": {},
   "outputs": [
    {
     "data": {
      "text/plain": [
       "[20, 19, 18, 13, 12, 10, 9, 4, 3, 1]"
      ]
     },
     "execution_count": 44,
     "metadata": {},
     "output_type": "execute_result"
    }
   ],
   "source": [
    "numbers =[1,3,4,9,10,12,13,18,19,20]\n",
    "numbers[::-1]"
   ]
  },
  {
   "cell_type": "code",
   "execution_count": 45,
   "id": "6ab4ed01-24e1-4edd-94e8-1aabf65e7f54",
   "metadata": {},
   "outputs": [
    {
     "data": {
      "text/plain": [
       "[1, 4, 10, 13, 19]"
      ]
     },
     "execution_count": 45,
     "metadata": {},
     "output_type": "execute_result"
    }
   ],
   "source": [
    "numbers[::2]#인덱스가 짝수인 것만 추출"
   ]
  },
  {
   "cell_type": "code",
   "execution_count": 48,
   "id": "c849f7a7-4f8f-4b56-ad22-d32e55241a4b",
   "metadata": {},
   "outputs": [
    {
     "data": {
      "text/plain": [
       "[4, 10, 12, 18, 20]"
      ]
     },
     "execution_count": 48,
     "metadata": {},
     "output_type": "execute_result"
    }
   ],
   "source": [
    "#쩍수 값만 추출\n",
    "result=[]\n",
    "for num in numbers:\n",
    "    if num%2==0:\n",
    "        result.append(num)\n",
    "result"
   ]
  },
  {
   "cell_type": "code",
   "execution_count": 51,
   "id": "61d09068-cf32-490e-b26c-ae34ee708ce9",
   "metadata": {},
   "outputs": [
    {
     "data": {
      "text/plain": [
       "[4, 10, 12, 18, 20]"
      ]
     },
     "execution_count": 51,
     "metadata": {},
     "output_type": "execute_result"
    }
   ],
   "source": [
    "#라스트 컴프리헨션 4줄->1줄 축소\n",
    "#[변수 for 변수 in list if 조건]: 조건 만족하는 list의 요소만 추출\n",
    "result=[num for num in numbers if num%2==0]\n",
    "result\n"
   ]
  },
  {
   "cell_type": "code",
   "execution_count": 53,
   "id": "990f842e-c667-4fa3-8a58-8b0f3da87499",
   "metadata": {},
   "outputs": [
    {
     "data": {
      "text/plain": [
       "[1, 9, 25]"
      ]
     },
     "execution_count": 53,
     "metadata": {},
     "output_type": "execute_result"
    }
   ],
   "source": [
    "#numbers 리스트의 제곱값을 리스트로 생성하여라\n",
    "numbers=[1,3,5]\n",
    "result=[num*num for num in numbers]\n",
    "result"
   ]
  },
  {
   "cell_type": "code",
   "execution_count": 56,
   "id": "18225b24-bf0e-4bea-8427-a1091d23802d",
   "metadata": {},
   "outputs": [
    {
     "data": {
      "text/plain": [
       "['orange', 'apple', 'mango']"
      ]
     },
     "execution_count": 56,
     "metadata": {},
     "output_type": "execute_result"
    }
   ],
   "source": [
    "#과일의 글자가 5글자 이상인 과일 추출하세요\n",
    "fruits=[\"orange\",\"apple\",'mango','kiwi']\n",
    "res=[fru for fru in fruits if len(fru)>=5]\n",
    "res"
   ]
  },
  {
   "cell_type": "code",
   "execution_count": 58,
   "id": "ee2dd718-7f64-44a4-8560-b154d5c44f5a",
   "metadata": {},
   "outputs": [
    {
     "data": {
      "text/plain": [
       "[6, 5, 5]"
      ]
     },
     "execution_count": 58,
     "metadata": {},
     "output_type": "execute_result"
    }
   ],
   "source": [
    "#과일의 글자가 5글자 이상인 글자수 추출하세요\n",
    "res=[len(fru) for fru in fruits if len(fru)>=5]\n",
    "res"
   ]
  },
  {
   "cell_type": "markdown",
   "id": "004785c0-8598-4769-9754-0a151bd3a395",
   "metadata": {},
   "source": [
    "## 1.6 삭제하기\n",
    "- remove(data): 해당 data 제거\n",
    "- del list[idx]:idx 요소 제거\n",
    "- pop(): 가장 마지막 인덱스 요소가 return 되고 삭제\n",
    "  "
   ]
  },
  {
   "cell_type": "code",
   "execution_count": 66,
   "id": "f4a10ab7-dc45-43d8-9de3-85c9e6e76a15",
   "metadata": {},
   "outputs": [
    {
     "name": "stdout",
     "output_type": "stream",
     "text": [
      "4\n",
      "[1, 2, 3]\n"
     ]
    }
   ],
   "source": [
    "numbers=[1,2,3,4]\n",
    "print(numbers.pop())\n",
    "print(numbers)"
   ]
  },
  {
   "cell_type": "code",
   "execution_count": 67,
   "id": "d1ce6985-22f9-457b-9950-fcbd20d2bbed",
   "metadata": {},
   "outputs": [
    {
     "data": {
      "text/plain": [
       "[2, 3]"
      ]
     },
     "execution_count": 67,
     "metadata": {},
     "output_type": "execute_result"
    }
   ],
   "source": [
    "numbers.remove(1)\n",
    "numbers\n",
    "#numbers.remove(1) 없는 데이터 remove시 에러 발생"
   ]
  },
  {
   "cell_type": "code",
   "execution_count": 69,
   "id": "3cac598c-da3e-4edf-ab29-027e4d500ba1",
   "metadata": {},
   "outputs": [
    {
     "data": {
      "text/plain": [
       "[3]"
      ]
     },
     "execution_count": 69,
     "metadata": {},
     "output_type": "execute_result"
    }
   ],
   "source": [
    "del numbers[0]\n",
    "numbers"
   ]
  },
  {
   "cell_type": "code",
   "execution_count": 70,
   "id": "499672c8-8ff8-4f80-b756-ce5660c5f7e5",
   "metadata": {},
   "outputs": [],
   "source": [
    "del numbers#list numbers 자체를 delete"
   ]
  },
  {
   "cell_type": "markdown",
   "id": "a7da28ad-6037-452c-8067-292a65d6f449",
   "metadata": {},
   "source": [
    "## 1.7 정렬하기\n"
   ]
  },
  {
   "cell_type": "code",
   "execution_count": 77,
   "id": "a31a603d-a995-4a33-9ffd-2c24e0d599cd",
   "metadata": {},
   "outputs": [
    {
     "data": {
      "text/plain": [
       "[53, 9, 7, 6, 6, 5, 3, 3, 2]"
      ]
     },
     "execution_count": 77,
     "metadata": {},
     "output_type": "execute_result"
    }
   ],
   "source": [
    "numbers=[3,6,3,9,6,53,5,2,7]\n",
    "numbers.sort(reverse=True)\n",
    "numbers"
   ]
  },
  {
   "cell_type": "markdown",
   "id": "c69c8656-be6d-4a9c-98b7-f6c2d5994df7",
   "metadata": {},
   "source": [
    "## 1.8 list 복제"
   ]
  },
  {
   "cell_type": "code",
   "execution_count": 82,
   "id": "b35d7cc4-0e3d-46b4-9e84-e04457351692",
   "metadata": {},
   "outputs": [
    {
     "name": "stdout",
     "output_type": "stream",
     "text": [
      "[1, 2, 3, 6] [1, 2, 3, 6]\n"
     ]
    }
   ],
   "source": [
    "numbers=[6,1,2,3]\n",
    "new_numbers=numbers;#얕은복사\n",
    "numbers.sort()\n",
    "print(new_numbers,numbers)#new_numbers도 바뀜"
   ]
  },
  {
   "cell_type": "code",
   "execution_count": 83,
   "id": "070349a2-4d82-49a2-bb04-4d5183ed0e9b",
   "metadata": {},
   "outputs": [
    {
     "name": "stdout",
     "output_type": "stream",
     "text": [
      "[6, 1, 2, 3] [1, 2, 3, 6]\n"
     ]
    }
   ],
   "source": [
    "numbers=[6,1,2,3]\n",
    "new_numbers=numbers.copy();#깊은복사\n",
    "numbers.sort()\n",
    "print(new_numbers,numbers)#new_numbers 안바뀜"
   ]
  },
  {
   "cell_type": "markdown",
   "id": "8394f5be-fb7b-499e-9983-1cabcfecea11",
   "metadata": {},
   "source": [
    "# 2절 tuple\n",
    "- 리스트와 유사하지만 읽기 전용(수정 안됨!)\n",
    "- ()이용해서 생성"
   ]
  },
  {
   "cell_type": "code",
   "execution_count": 84,
   "id": "22af7c75-4797-4779-9d52-66bf3125f5a5",
   "metadata": {},
   "outputs": [
    {
     "name": "stdout",
     "output_type": "stream",
     "text": [
      "<class 'tuple'>\n"
     ]
    },
    {
     "data": {
      "text/plain": [
       "('서울', '부산', '광주', '대전')"
      ]
     },
     "execution_count": 84,
     "metadata": {},
     "output_type": "execute_result"
    }
   ],
   "source": [
    "city=('서울','부산','광주','대전')\n",
    "print(type(city))\n",
    "city"
   ]
  },
  {
   "cell_type": "code",
   "execution_count": 85,
   "id": "a41c200c-831f-42f3-a114-77c1fa52e013",
   "metadata": {},
   "outputs": [
    {
     "data": {
      "text/plain": [
       "'서울~부산~광주~대전'"
      ]
     },
     "execution_count": 85,
     "metadata": {},
     "output_type": "execute_result"
    }
   ],
   "source": [
    "'~'.join(city)"
   ]
  },
  {
   "cell_type": "code",
   "execution_count": 86,
   "id": "ae57ce7f-fe1d-407e-9b8a-93d31bdf98bf",
   "metadata": {},
   "outputs": [
    {
     "data": {
      "text/plain": [
       "list"
      ]
     },
     "execution_count": 86,
     "metadata": {},
     "output_type": "execute_result"
    }
   ],
   "source": [
    "list_=['서울']\n",
    "type(list_)"
   ]
  },
  {
   "cell_type": "code",
   "execution_count": 90,
   "id": "ef49bd24-a529-4592-872a-ecd206a9677d",
   "metadata": {},
   "outputs": [
    {
     "data": {
      "text/plain": [
       "tuple"
      ]
     },
     "execution_count": 90,
     "metadata": {},
     "output_type": "execute_result"
    }
   ],
   "source": [
    "t=('서울',) # 요소가 하나인 튜플은 뒤에 (,)필수!\n",
    "type(t)"
   ]
  },
  {
   "cell_type": "markdown",
   "id": "8daae321-2fd7-4c90-8865-814b6ccabba2",
   "metadata": {},
   "source": [
    "# 3절 dictionary\n",
    "- 구조체와 유사\n",
    "- {}를 이용해서 생성, key-value의 쌍으로 구성\n",
    "- key는 중복 불가! val은 중복 가능\n",
    "- index를 이용한 참조 불가 "
   ]
  },
  {
   "cell_type": "code",
   "execution_count": 98,
   "id": "828ab9ab-c519-4e74-9f4a-e6d90271c005",
   "metadata": {},
   "outputs": [
    {
     "name": "stdout",
     "output_type": "stream",
     "text": [
      "<class 'dict'>\n",
      "{'name': '홍길동', 'address': '서울시 금천구'}\n"
     ]
    },
    {
     "data": {
      "text/plain": [
       "('홍길동', '서울시 금천구')"
      ]
     },
     "execution_count": 98,
     "metadata": {},
     "output_type": "execute_result"
    }
   ],
   "source": [
    "dic={'name':'홍길동', 'address': '서울시 금천구'}\n",
    "print(type(dic))\n",
    "print(dic)\n",
    "dic['name'],dic['address'] #key를 이용하여 참조"
   ]
  },
  {
   "cell_type": "code",
   "execution_count": 100,
   "id": "ccfd1a9d-5d9a-4700-8c1a-25170eb56864",
   "metadata": {},
   "outputs": [
    {
     "ename": "TypeError",
     "evalue": "unhashable type: 'slice'",
     "output_type": "error",
     "traceback": [
      "\u001b[1;31m---------------------------------------------------------------------------\u001b[0m",
      "\u001b[1;31mTypeError\u001b[0m                                 Traceback (most recent call last)",
      "Cell \u001b[1;32mIn[100], line 1\u001b[0m\n\u001b[1;32m----> 1\u001b[0m dic[\u001b[38;5;124m'\u001b[39m\u001b[38;5;124mscore\u001b[39m\u001b[38;5;124m'\u001b[39m:\u001b[38;5;241m95\u001b[39m]\n",
      "\u001b[1;31mTypeError\u001b[0m: unhashable type: 'slice'"
     ]
    }
   ],
   "source": [
    "dic['score']# key 값 없을시 error"
   ]
  },
  {
   "cell_type": "code",
   "execution_count": 103,
   "id": "33e13782-edae-4146-ba17-95937c8aab6c",
   "metadata": {},
   "outputs": [
    {
     "data": {
      "text/plain": [
       "('홍길동', None)"
      ]
     },
     "execution_count": 103,
     "metadata": {},
     "output_type": "execute_result"
    }
   ],
   "source": [
    "dic.get('name'), dic.get('score')# key값 없을시 None 반환"
   ]
  },
  {
   "cell_type": "code",
   "execution_count": 107,
   "id": "e892ef76-650e-49c4-838f-ca7a5cd74647",
   "metadata": {},
   "outputs": [
    {
     "data": {
      "text/plain": [
       "{'name': '홍길동', 'address': '서울시 금천구', 'score': 90, 'sport': 'sleep'}"
      ]
     },
     "execution_count": 107,
     "metadata": {},
     "output_type": "execute_result"
    }
   ],
   "source": [
    "#수정\n",
    "dic['score']=90 # 걍 냅다 정의\n",
    "dic['sport']='sleep'\n",
    "dic"
   ]
  },
  {
   "cell_type": "code",
   "execution_count": 110,
   "id": "65f2f002-e0fc-4fd3-9931-65be3eab280c",
   "metadata": {},
   "outputs": [
    {
     "data": {
      "text/plain": [
       "'sleep'"
      ]
     },
     "execution_count": 110,
     "metadata": {},
     "output_type": "execute_result"
    }
   ],
   "source": [
    "#제거\n",
    "dic.pop('sport')"
   ]
  },
  {
   "cell_type": "code",
   "execution_count": 114,
   "id": "0d692173-a580-4efa-8683-6d8aab6ef8e8",
   "metadata": {},
   "outputs": [
    {
     "name": "stdout",
     "output_type": "stream",
     "text": [
      "name\n",
      "address\n",
      "score\n"
     ]
    }
   ],
   "source": [
    "for key in dic:\n",
    "    print(key)\n",
    "for idx,value in enumerate(dic):\n",
    "    print(idx,value)"
   ]
  },
  {
   "cell_type": "code",
   "execution_count": 120,
   "id": "942a5640-2dbd-4a5f-8831-19cfe098b455",
   "metadata": {},
   "outputs": [
    {
     "name": "stdout",
     "output_type": "stream",
     "text": [
      "dict_keys(['name', 'address', 'score'])\n",
      "dict_values(['홍길동', '서울시 금천구', 90])\n",
      "dict_items([('name', '홍길동'), ('address', '서울시 금천구'), ('score', 90)])\n"
     ]
    }
   ],
   "source": [
    "# 출력\n",
    "print(dic.keys())\n",
    "print(dic.values())\n",
    "print(dic.items())"
   ]
  },
  {
   "cell_type": "code",
   "execution_count": 121,
   "id": "057b7152-704c-4451-a37c-d5802d86ccd7",
   "metadata": {},
   "outputs": [
    {
     "name": "stdout",
     "output_type": "stream",
     "text": [
      "홍길동\n",
      "서울시 금천구\n",
      "90\n"
     ]
    }
   ],
   "source": [
    "for data in dic.values():\n",
    "    print(data)"
   ]
  },
  {
   "cell_type": "code",
   "execution_count": 123,
   "id": "3eb15dff-e17d-4c74-b0e2-1e8659b34a91",
   "metadata": {},
   "outputs": [
    {
     "name": "stdout",
     "output_type": "stream",
     "text": [
      "name:홍길동\n",
      "address:서울시 금천구\n",
      "score:90\n"
     ]
    }
   ],
   "source": [
    "for key,value in dic.items():\n",
    "    print(\"{}:{}\".format(key,value))"
   ]
  },
  {
   "cell_type": "code",
   "execution_count": 124,
   "id": "98947be5-417a-40d6-9491-4026cd5dff28",
   "metadata": {},
   "outputs": [
    {
     "data": {
      "text/plain": [
       "True"
      ]
     },
     "execution_count": 124,
     "metadata": {},
     "output_type": "execute_result"
    }
   ],
   "source": [
    "l=['a','b','c']\n",
    "'c' in l"
   ]
  },
  {
   "cell_type": "code",
   "execution_count": 125,
   "id": "b2c77590-136f-4f89-aeaa-c3052d8471ac",
   "metadata": {},
   "outputs": [
    {
     "data": {
      "text/plain": [
       "True"
      ]
     },
     "execution_count": 125,
     "metadata": {},
     "output_type": "execute_result"
    }
   ],
   "source": [
    "'name' in dic"
   ]
  },
  {
   "cell_type": "code",
   "execution_count": 127,
   "id": "0725920c-a310-42a0-ba1d-a2a2e6ba04cf",
   "metadata": {},
   "outputs": [
    {
     "data": {
      "text/plain": [
       "False"
      ]
     },
     "execution_count": 127,
     "metadata": {},
     "output_type": "execute_result"
    }
   ],
   "source": [
    "'홍길동' in dic #dictionary에서 in은 key값을 나타냄"
   ]
  },
  {
   "cell_type": "code",
   "execution_count": 130,
   "id": "946681f8-9540-488e-af9c-98dbcbea35c6",
   "metadata": {},
   "outputs": [
    {
     "data": {
      "text/plain": [
       "3"
      ]
     },
     "execution_count": 130,
     "metadata": {},
     "output_type": "execute_result"
    }
   ],
   "source": [
    "len(dic) # data 갯수"
   ]
  },
  {
   "cell_type": "markdown",
   "id": "9df68e63-2d8c-40bf-b0c3-53bd4e778e78",
   "metadata": {},
   "source": [
    "# 4절 set\n",
    "- 중복을 허용하지 않는 집합\n",
    "- 순서 없음=>index 없음"
   ]
  },
  {
   "cell_type": "code",
   "execution_count": 138,
   "id": "c3b66863-e650-4493-aee5-63331e31c170",
   "metadata": {},
   "outputs": [
    {
     "name": "stdout",
     "output_type": "stream",
     "text": [
      "{1, 2, 3, 'a'}\n",
      "<class 'set'>\n"
     ]
    }
   ],
   "source": [
    "fruit={1,3,2,1,True,'a',3}\n",
    "print(fruit)\n",
    "print(type(fruit))"
   ]
  },
  {
   "cell_type": "code",
   "execution_count": 141,
   "id": "b953b89b-ffb3-4cb2-be02-afc2127d1a59",
   "metadata": {},
   "outputs": [
    {
     "name": "stdout",
     "output_type": "stream",
     "text": [
      "{1, 2, 3, 'a', 'kiwi'}\n"
     ]
    }
   ],
   "source": [
    "fruit.add('kiwi')\n",
    "print(fruit)"
   ]
  },
  {
   "cell_type": "code",
   "execution_count": 143,
   "id": "db77b752-cad9-47ec-9719-fca217e926a3",
   "metadata": {},
   "outputs": [
    {
     "name": "stdout",
     "output_type": "stream",
     "text": [
      "{1, 2, 3, 'a', 'kiwi'}\n"
     ]
    }
   ],
   "source": [
    "fruit.add('a')\n",
    "print(fruit)"
   ]
  },
  {
   "cell_type": "code",
   "execution_count": 144,
   "id": "cb8de59e-b4b2-4cc1-bc8d-b35ceb8c9416",
   "metadata": {},
   "outputs": [
    {
     "name": "stdout",
     "output_type": "stream",
     "text": [
      "0: 1\n",
      "1: 2\n",
      "2: 3\n",
      "3: a\n",
      "4: kiwi\n"
     ]
    }
   ],
   "source": [
    "for i,val in enumerate(fruit):\n",
    "    print(\"{}: {}\".format(i,val))"
   ]
  },
  {
   "cell_type": "code",
   "execution_count": 145,
   "id": "c9fd3fcd-d272-457d-858c-c04e7d9d0007",
   "metadata": {},
   "outputs": [
    {
     "name": "stdout",
     "output_type": "stream",
     "text": [
      "orange\n",
      "apple\n",
      "mango\n",
      "kiwi\n"
     ]
    }
   ],
   "source": [
    "for data in fruits:\n",
    "    print(data)"
   ]
  },
  {
   "cell_type": "markdown",
   "id": "359987e6-be72-4d8b-a99a-af0c60ebdb33",
   "metadata": {},
   "source": [
    "# 5절. 연습문제"
   ]
  },
  {
   "cell_type": "code",
   "execution_count": 159,
   "id": "6d9b154f-f812-4bc8-a9ab-d8a5a48780ac",
   "metadata": {},
   "outputs": [],
   "source": [
    "numbers=[1,2,3,4,5,6,7,8,9,10]"
   ]
  },
  {
   "cell_type": "code",
   "execution_count": 160,
   "id": "2320613d-9646-4de6-851c-fe631c8cac58",
   "metadata": {},
   "outputs": [
    {
     "data": {
      "text/plain": [
       "[1, 2, 3, 4, 5, 6, 7, 8, 9, 10, 100]"
      ]
     },
     "execution_count": 160,
     "metadata": {},
     "output_type": "execute_result"
    }
   ],
   "source": [
    "#1\n",
    "numbers.append(100)\n",
    "numbers"
   ]
  },
  {
   "cell_type": "code",
   "execution_count": 161,
   "id": "e5a45ea7-7ad4-4ef9-97c5-8ac0d34b2251",
   "metadata": {},
   "outputs": [
    {
     "data": {
      "text/plain": [
       "[1, 2, 3, 4, 5, 6, 7, 8, 9, 10, 100, 200, 300, 400, 500]"
      ]
     },
     "execution_count": 161,
     "metadata": {},
     "output_type": "execute_result"
    }
   ],
   "source": [
    "#2\n",
    "data=[200,300,400,500]\n",
    "numbers+=data\n",
    "numbers"
   ]
  },
  {
   "cell_type": "code",
   "execution_count": 162,
   "id": "5570df82-a825-4b48-9e16-f87497c360cf",
   "metadata": {},
   "outputs": [
    {
     "data": {
      "text/plain": [
       "[1, 2, 3, 4, 5]"
      ]
     },
     "execution_count": 162,
     "metadata": {},
     "output_type": "execute_result"
    }
   ],
   "source": [
    "#3\n",
    "numbers[:5]"
   ]
  },
  {
   "cell_type": "code",
   "execution_count": 163,
   "id": "728b84cc-1c62-4299-bc27-9025b3aec50c",
   "metadata": {},
   "outputs": [
    {
     "data": {
      "text/plain": [
       "[2, 4, 6, 8, 10, 200, 400]"
      ]
     },
     "execution_count": 163,
     "metadata": {},
     "output_type": "execute_result"
    }
   ],
   "source": [
    "#4\n",
    "numbers[1::2]"
   ]
  },
  {
   "cell_type": "code",
   "execution_count": 164,
   "id": "184cbd2d-2985-4508-a17b-d5ecadbaa120",
   "metadata": {},
   "outputs": [
    {
     "data": {
      "text/plain": [
       "[1, 0, 3, 0, 5, 0, 7, 0, 9, 0, 100, 0, 300, 0, 500]"
      ]
     },
     "execution_count": 164,
     "metadata": {},
     "output_type": "execute_result"
    }
   ],
   "source": [
    "#5\n",
    "for i,val in enumerate(numbers):\n",
    "    if(i%2==1): numbers[i]=0\n",
    "\n",
    "numbers"
   ]
  },
  {
   "cell_type": "code",
   "execution_count": 165,
   "id": "a4ecbe47-3ae7-4127-8b66-3037e8798b20",
   "metadata": {},
   "outputs": [
    {
     "data": {
      "text/plain": [
       "[500, 0, 300, 0, 100, 0, 9, 0, 7, 0, 5, 0, 3, 0, 1]"
      ]
     },
     "execution_count": 165,
     "metadata": {},
     "output_type": "execute_result"
    }
   ],
   "source": [
    "#6\n",
    "numbers.reverse()\n",
    "numbers"
   ]
  },
  {
   "cell_type": "code",
   "execution_count": 167,
   "id": "1f2759a7-eb05-42ad-af66-c6af1df7012a",
   "metadata": {},
   "outputs": [],
   "source": [
    "member={'name':'홍길동', \"age\":20, \"address\": \"서울시 금천구\", \"score\": 90}"
   ]
  },
  {
   "cell_type": "code",
   "execution_count": 170,
   "id": "952060ce-159b-440a-b498-6b8812c6a46a",
   "metadata": {},
   "outputs": [
    {
     "data": {
      "text/plain": [
       "'서울시 금천구'"
      ]
     },
     "execution_count": 170,
     "metadata": {},
     "output_type": "execute_result"
    }
   ],
   "source": [
    "#7\n",
    "member['address']"
   ]
  },
  {
   "cell_type": "code",
   "execution_count": 172,
   "id": "b7906e68-3967-47ef-ba4f-80fc44ed0f6c",
   "metadata": {},
   "outputs": [
    {
     "name": "stdout",
     "output_type": "stream",
     "text": [
      "90\n"
     ]
    },
    {
     "data": {
      "text/plain": [
       "90"
      ]
     },
     "execution_count": 172,
     "metadata": {},
     "output_type": "execute_result"
    }
   ],
   "source": [
    "#8\n",
    "print(member['score'])\n",
    "member.pop('score')"
   ]
  },
  {
   "cell_type": "code",
   "execution_count": 174,
   "id": "7abd34c6-30e8-48f1-a2c1-cfb3a96d6aba",
   "metadata": {},
   "outputs": [
    {
     "name": "stdout",
     "output_type": "stream",
     "text": [
      "{'name': '홍길동', 'age': 20, 'address': '서울시 금천구', 'adress': '서울시 서대문구'}\n"
     ]
    }
   ],
   "source": [
    "member['adress']='서울시 서대문구'\n",
    "print(member)"
   ]
  },
  {
   "cell_type": "code",
   "execution_count": null,
   "id": "6b6ea1d6-1632-465b-8626-6e71186f2ac5",
   "metadata": {},
   "outputs": [],
   "source": []
  }
 ],
 "metadata": {
  "kernelspec": {
   "display_name": "Python 3 (ipykernel)",
   "language": "python",
   "name": "python3"
  },
  "language_info": {
   "codemirror_mode": {
    "name": "ipython",
    "version": 3
   },
   "file_extension": ".py",
   "mimetype": "text/x-python",
   "name": "python",
   "nbconvert_exporter": "python",
   "pygments_lexer": "ipython3",
   "version": "3.11.7"
  }
 },
 "nbformat": 4,
 "nbformat_minor": 5
}
