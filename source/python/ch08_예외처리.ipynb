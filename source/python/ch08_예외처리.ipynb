{
 "cells": [
  {
   "cell_type": "markdown",
   "id": "6cc439bd-c8d8-4b9e-b5cb-89fed2e878e2",
   "metadata": {},
   "source": [
    "<font color=\"79e5cb\" size=\"6\"><b>ch08 예외처리<b/></font>"
   ]
  },
  {
   "cell_type": "markdown",
   "id": "1a22c93d-41c4-413f-bbdd-c991fbd4190f",
   "metadata": {},
   "source": [
    "# 1절 예외처리\n",
    "- 예외가 날 가능성이 있는 부분을 미리 예상하고 그에 대한 처리를 프로그래밍하는 것   \n",
    "    (이유: 안정적으로 실행될 수 잇도록 하기 위함)"
   ]
  },
  {
   "cell_type": "code",
   "execution_count": 4,
   "id": "31d258d3-9a37-4254-be76-ce68b416bbb3",
   "metadata": {},
   "outputs": [
    {
     "name": "stdin",
     "output_type": "stream",
     "text": [
      "파일명: ch08.txt\n"
     ]
    },
    {
     "data": {
      "text/plain": [
       "['This is Test File\\n', 'Hello, Python\\n', '테스트 파일입니다.\\n']"
      ]
     },
     "execution_count": 4,
     "metadata": {},
     "output_type": "execute_result"
    }
   ],
   "source": [
    "# 있는 파일의 경우 예외 발생 안함\n",
    "filename=input('파일명:')\n",
    "f=open('data/'+filename,'r',encoding=\"utf-8\")#encoding의 default 값은 cp949\n",
    "f.readlines()"
   ]
  },
  {
   "cell_type": "code",
   "execution_count": 5,
   "id": "438cb8f3-ca09-4094-8418-18773013749b",
   "metadata": {},
   "outputs": [],
   "source": [
    "f.close()#파일 열면 꼭 닫기! 안닫으면 저장 안됨!"
   ]
  },
  {
   "cell_type": "code",
   "execution_count": 6,
   "id": "31874cee-afd1-405e-be71-504c3448d6c8",
   "metadata": {},
   "outputs": [
    {
     "name": "stdin",
     "output_type": "stream",
     "text": [
      "파일명: aa.txt\n"
     ]
    },
    {
     "ename": "FileNotFoundError",
     "evalue": "[Errno 2] No such file or directory: 'data/aa.txt'",
     "output_type": "error",
     "traceback": [
      "\u001b[1;31m---------------------------------------------------------------------------\u001b[0m",
      "\u001b[1;31mFileNotFoundError\u001b[0m                         Traceback (most recent call last)",
      "Cell \u001b[1;32mIn[6], line 3\u001b[0m\n\u001b[0;32m      1\u001b[0m \u001b[38;5;66;03m# 없는 파일의 경우 예외 발생 \u001b[39;00m\n\u001b[0;32m      2\u001b[0m filename\u001b[38;5;241m=\u001b[39m\u001b[38;5;28minput\u001b[39m(\u001b[38;5;124m'\u001b[39m\u001b[38;5;124m파일명:\u001b[39m\u001b[38;5;124m'\u001b[39m)\n\u001b[1;32m----> 3\u001b[0m f\u001b[38;5;241m=\u001b[39m\u001b[38;5;28mopen\u001b[39m(\u001b[38;5;124m'\u001b[39m\u001b[38;5;124mdata/\u001b[39m\u001b[38;5;124m'\u001b[39m\u001b[38;5;241m+\u001b[39mfilename,\u001b[38;5;124m'\u001b[39m\u001b[38;5;124mr\u001b[39m\u001b[38;5;124m'\u001b[39m,encoding\u001b[38;5;241m=\u001b[39m\u001b[38;5;124m\"\u001b[39m\u001b[38;5;124mutf-8\u001b[39m\u001b[38;5;124m\"\u001b[39m)\u001b[38;5;66;03m#encoding의 default 값은 cp949\u001b[39;00m\n\u001b[0;32m      4\u001b[0m f\u001b[38;5;241m.\u001b[39mreadlines()\n",
      "File \u001b[1;32m~\\anaconda3\\Lib\\site-packages\\IPython\\core\\interactiveshell.py:310\u001b[0m, in \u001b[0;36m_modified_open\u001b[1;34m(file, *args, **kwargs)\u001b[0m\n\u001b[0;32m    303\u001b[0m \u001b[38;5;28;01mif\u001b[39;00m file \u001b[38;5;129;01min\u001b[39;00m {\u001b[38;5;241m0\u001b[39m, \u001b[38;5;241m1\u001b[39m, \u001b[38;5;241m2\u001b[39m}:\n\u001b[0;32m    304\u001b[0m     \u001b[38;5;28;01mraise\u001b[39;00m \u001b[38;5;167;01mValueError\u001b[39;00m(\n\u001b[0;32m    305\u001b[0m         \u001b[38;5;124mf\u001b[39m\u001b[38;5;124m\"\u001b[39m\u001b[38;5;124mIPython won\u001b[39m\u001b[38;5;124m'\u001b[39m\u001b[38;5;124mt let you open fd=\u001b[39m\u001b[38;5;132;01m{\u001b[39;00mfile\u001b[38;5;132;01m}\u001b[39;00m\u001b[38;5;124m by default \u001b[39m\u001b[38;5;124m\"\u001b[39m\n\u001b[0;32m    306\u001b[0m         \u001b[38;5;124m\"\u001b[39m\u001b[38;5;124mas it is likely to crash IPython. If you know what you are doing, \u001b[39m\u001b[38;5;124m\"\u001b[39m\n\u001b[0;32m    307\u001b[0m         \u001b[38;5;124m\"\u001b[39m\u001b[38;5;124myou can use builtins\u001b[39m\u001b[38;5;124m'\u001b[39m\u001b[38;5;124m open.\u001b[39m\u001b[38;5;124m\"\u001b[39m\n\u001b[0;32m    308\u001b[0m     )\n\u001b[1;32m--> 310\u001b[0m \u001b[38;5;28;01mreturn\u001b[39;00m io_open(file, \u001b[38;5;241m*\u001b[39margs, \u001b[38;5;241m*\u001b[39m\u001b[38;5;241m*\u001b[39mkwargs)\n",
      "\u001b[1;31mFileNotFoundError\u001b[0m: [Errno 2] No such file or directory: 'data/aa.txt'"
     ]
    }
   ],
   "source": [
    "# 없는 파일의 경우 예외 발생: FileNotFoundError\n",
    "filename=input('파일명:')\n",
    "f=open('data/'+filename,'r',encoding=\"utf-8\")#encoding의 default 값은 cp949\n",
    "f.readlines()"
   ]
  },
  {
   "cell_type": "code",
   "execution_count": 8,
   "id": "a757a808-c4e5-4d10-985e-790bc7ba8923",
   "metadata": {},
   "outputs": [
    {
     "name": "stdin",
     "output_type": "stream",
     "text": [
      "나눌숫자를입력하세요>> 0\n"
     ]
    },
    {
     "ename": "ZeroDivisionError",
     "evalue": "division by zero",
     "output_type": "error",
     "traceback": [
      "\u001b[1;31m---------------------------------------------------------------------------\u001b[0m",
      "\u001b[1;31mZeroDivisionError\u001b[0m                         Traceback (most recent call last)",
      "Cell \u001b[1;32mIn[8], line 4\u001b[0m\n\u001b[0;32m      1\u001b[0m \u001b[38;5;66;03m# 문자 입력시 예외 발생:ValueError \u001b[39;00m\n\u001b[0;32m      2\u001b[0m \u001b[38;5;66;03m# 0 입력시:\u001b[39;00m\n\u001b[0;32m      3\u001b[0m num\u001b[38;5;241m=\u001b[39m\u001b[38;5;28mint\u001b[39m(\u001b[38;5;28minput\u001b[39m(\u001b[38;5;124m'\u001b[39m\u001b[38;5;124m나눌숫자를입력하세요>>\u001b[39m\u001b[38;5;124m'\u001b[39m))\n\u001b[1;32m----> 4\u001b[0m \u001b[38;5;241m100\u001b[39m\u001b[38;5;241m/\u001b[39mnum\n",
      "\u001b[1;31mZeroDivisionError\u001b[0m: division by zero"
     ]
    }
   ],
   "source": [
    "# 문자 입력시 예외 발생:ValueError \n",
    "# 0 입력시 예외:ZeroDivisionError  \n",
    "num=int(input('나눌숫자를입력하세요>>'))\n",
    "100/num"
   ]
  },
  {
   "cell_type": "code",
   "execution_count": 10,
   "id": "90e43963-c871-4f23-b3d5-5d043d10085c",
   "metadata": {},
   "outputs": [
    {
     "ename": "IndexError",
     "evalue": "list index out of range",
     "output_type": "error",
     "traceback": [
      "\u001b[1;31m---------------------------------------------------------------------------\u001b[0m",
      "\u001b[1;31mIndexError\u001b[0m                                Traceback (most recent call last)",
      "Cell \u001b[1;32mIn[10], line 3\u001b[0m\n\u001b[0;32m      1\u001b[0m \u001b[38;5;66;03m#index를 벗어났을 경우:IndexError   \u001b[39;00m\n\u001b[0;32m      2\u001b[0m a\u001b[38;5;241m=\u001b[39m[\u001b[38;5;241m1\u001b[39m,\u001b[38;5;241m2\u001b[39m,\u001b[38;5;241m3\u001b[39m]\n\u001b[1;32m----> 3\u001b[0m a[\u001b[38;5;241m3\u001b[39m]\n",
      "\u001b[1;31mIndexError\u001b[0m: list index out of range"
     ]
    }
   ],
   "source": [
    "#index를 벗어났을 경우:IndexError   \n",
    "a=[1,2,3]\n",
    "a[3]"
   ]
  },
  {
   "cell_type": "markdown",
   "id": "0b2a1c39-a415-418b-8e1d-04f17c319a7a",
   "metadata": {},
   "source": [
    "# 2절 try~except로 예외 처리\n",
    "```python\n",
    "try:\n",
    "    예외 발생할 가능성이 있는 명령어\n",
    "except[예외타입[as 예외객체변수명]]:#여러번 입력 가능\n",
    "    예외가 발생했을 경우 실행할 문장\n",
    "else:#잘 안씀\n",
    "    예외가 발생되지 않을 경우 수행명령어\n",
    "finally:#database,file access 할때만 사용\n",
    "    예외가 발생되든 안되든 반드시 실행할 명령어\n",
    "```"
   ]
  },
  {
   "cell_type": "code",
   "execution_count": 38,
   "id": "45cbeb37-9556-4dc7-bcd2-5015a4faaca5",
   "metadata": {},
   "outputs": [
    {
     "name": "stdin",
     "output_type": "stream",
     "text": [
      "100을 나눌 정수를 입력: 1\n"
     ]
    },
    {
     "name": "stdout",
     "output_type": "stream",
     "text": [
      "입력한 수는 1\n",
      "100/1=100.00\n"
     ]
    }
   ],
   "source": [
    "# 100을 입력받은 정수값으로 나눠 출력한다\n",
    "x=int(input('100을 나눌 정수를 입력:'))\n",
    "print(\"입력한 수는\",x)\n",
    "print(\"100/{}={:.2f}\".format(x,100/x))"
   ]
  },
  {
   "cell_type": "code",
   "execution_count": 18,
   "id": "3881d325-2409-470f-af28-0ccca79dd1ab",
   "metadata": {},
   "outputs": [
    {
     "name": "stdin",
     "output_type": "stream",
     "text": [
      "100을 나눌 정수를 입력: 0\n"
     ]
    },
    {
     "name": "stdout",
     "output_type": "stream",
     "text": [
      "입력한 수는 0\n",
      "에러\n"
     ]
    }
   ],
   "source": [
    "# 100을 입력받은 정수값으로 나눠 출력한다\n",
    "#ValueError \n",
    "#ZeroDivisionError  \n",
    "try:\n",
    "    x=int(input('100을 나눌 정수를 입력:'))\n",
    "    print(\"입력한 수는\",x)\n",
    "    print(\"100/{}={:.2f}\".format(x,100/x))\n",
    "except:\n",
    "    print('에러')"
   ]
  },
  {
   "cell_type": "code",
   "execution_count": 28,
   "id": "f7d74100-6067-4e55-8050-4dda087f6cd9",
   "metadata": {},
   "outputs": [
    {
     "name": "stdin",
     "output_type": "stream",
     "text": [
      "100을 나눌 정수를 입력: 0\n"
     ]
    },
    {
     "name": "stdout",
     "output_type": "stream",
     "text": [
      "입력한 수는 0\n",
      "0이 아닌 숫자를 입력하세요.\n"
     ]
    }
   ],
   "source": [
    "# 100을 입력받은 정수값으로 나눠 출력한다\n",
    "#ValueError \n",
    "#ZeroDivisionError  \n",
    "try:\n",
    "    x=int(input('100을 나눌 정수를 입력:'))\n",
    "    print(\"입력한 수는\",x)\n",
    "    print(\"100/{}={:.2f}\".format(x,100/x))\n",
    "except ValueError:\n",
    "    print('유효한 숫자를 입력하세요.')\n",
    "except ZeroDivisionError:# Exception 예외들의 상위 class (가장 후순위에 입력)\n",
    "    print('0이 아닌 숫자를 입력하세요.')\n",
    "except Exception:# Exception 예외들의 상위 class (가장 후순위에 입력)\n",
    "    print('알 수 없는 예외 발생')\n",
    "\n"
   ]
  },
  {
   "cell_type": "code",
   "execution_count": 31,
   "id": "d3dd12d0-8984-4918-8eab-65be0f9c1e3f",
   "metadata": {},
   "outputs": [
    {
     "name": "stdin",
     "output_type": "stream",
     "text": [
      "100을 나눌 정수를 입력: 10 3\n"
     ]
    },
    {
     "name": "stdout",
     "output_type": "stream",
     "text": [
      "유효한 숫자를 입력하세요.\n"
     ]
    },
    {
     "name": "stdin",
     "output_type": "stream",
     "text": [
      "100을 나눌 정수를 입력: 1\n"
     ]
    },
    {
     "name": "stdout",
     "output_type": "stream",
     "text": [
      "입력한 수는 1\n",
      "100/1=100.00\n"
     ]
    }
   ],
   "source": [
    "# 100을 입력받은 정수값으로 나눠 출력한다, 유효한 숫자를 입력할 때까지 수를 입력받음\n",
    "#ValueError \n",
    "#ZeroDivisionError  \n",
    "while 1:\n",
    "    try:\n",
    "        x=int(input('100을 나눌 정수를 입력:'))\n",
    "        print(\"입력한 수는\",x)\n",
    "        print(\"100/{}={:.2f}\".format(x,100/x))\n",
    "        break\n",
    "    except ValueError:\n",
    "        print('유효한 숫자를 입력하세요.')\n",
    "    except ZeroDivisionError:# Exception 예외들의 상위 class (가장 후순위에 입력)\n",
    "        print('0이 아닌 숫자를 입력하세요.')\n",
    "    except Exception:# Exception 예외들의 상위 class (가장 후순위에 입력)\n",
    "        print('알 수 없는 예외 발생')\n",
    "\n"
   ]
  },
  {
   "cell_type": "code",
   "execution_count": 33,
   "id": "e077318d-9c5b-4c8c-8ed7-4c4b6dca9328",
   "metadata": {},
   "outputs": [
    {
     "name": "stdin",
     "output_type": "stream",
     "text": [
      "100을 나눌 정수를 입력: 0\n"
     ]
    },
    {
     "name": "stdout",
     "output_type": "stream",
     "text": [
      "입력한 수는 0\n",
      "유효한 숫자를 입력하세요.\n"
     ]
    },
    {
     "name": "stdin",
     "output_type": "stream",
     "text": [
      "100을 나눌 정수를 입력: 1\n"
     ]
    },
    {
     "name": "stdout",
     "output_type": "stream",
     "text": [
      "입력한 수는 1\n",
      "100/1=100.00\n"
     ]
    }
   ],
   "source": [
    "# 100을 입력받은 정수값으로 나눠 출력한다, 유효한 숫자를 입력할 때까지 수를 입력받음\n",
    "#ValueError \n",
    "#ZeroDivisionError  \n",
    "while 1: #에러 발생 안할때까지 수행\n",
    "    try:\n",
    "        x=int(input('100을 나눌 정수를 입력:'))\n",
    "        print(\"입력한 수는\",x)\n",
    "        print(\"100/{}={:.2f}\".format(x,100/x))\n",
    "        break\n",
    "    except (ValueError,ZeroDivisionError):#예외 나열 가능\n",
    "        print('유효한 숫자를 입력하세요.')\n",
    "    except Exception:# Exception 예외들의 상위 class (가장 후순위에 입력)\n",
    "        print('알 수 없는 예외 발생')\n",
    "\n"
   ]
  },
  {
   "cell_type": "code",
   "execution_count": 37,
   "id": "4597f0d8-75f7-4bd5-9c5c-7b4832f1e376",
   "metadata": {},
   "outputs": [
    {
     "name": "stdin",
     "output_type": "stream",
     "text": [
      "100을 나눌 정수를 입력: 0\n"
     ]
    },
    {
     "name": "stdout",
     "output_type": "stream",
     "text": [
      "입력한 수는 0\n",
      "예외 객체의 타입: <class 'ZeroDivisionError'>\n",
      "예외 메세지: ('division by zero',)\n"
     ]
    },
    {
     "name": "stdin",
     "output_type": "stream",
     "text": [
      "100을 나눌 정수를 입력: \n"
     ]
    },
    {
     "name": "stdout",
     "output_type": "stream",
     "text": [
      "예외 객체의 타입: <class 'ValueError'>\n",
      "예외 메세지: (\"invalid literal for int() with base 10: ''\",)\n"
     ]
    },
    {
     "name": "stdin",
     "output_type": "stream",
     "text": [
      "100을 나눌 정수를 입력: 1\n"
     ]
    },
    {
     "name": "stdout",
     "output_type": "stream",
     "text": [
      "입력한 수는 1\n",
      "100/1=100.00\n"
     ]
    }
   ],
   "source": [
    "# 100을 입력받은 정수값으로 나눠 출력한다, 유효한 숫자를 입력할 때까지 수를 입력받음\n",
    "#ValueError \n",
    "#ZeroDivisionError  \n",
    "while 1:\n",
    "    try:\n",
    "        x=int(input('100을 나눌 정수를 입력:'))\n",
    "        print(\"입력한 수는\",x)\n",
    "        print(\"100/{}={:.2f}\".format(x,100/x))\n",
    "        break\n",
    "    except (ValueError,ZeroDivisionError) as e:#예외 발생시 변수명 e\n",
    "        print('예외 객체의 타입:',type(e)) # 에러 코드 출력\n",
    "        print('예외 메세지:',e.args)\n",
    "\n"
   ]
  },
  {
   "cell_type": "code",
   "execution_count": 45,
   "id": "53c2c77a-f949-4598-b677-8c3205c943db",
   "metadata": {},
   "outputs": [
    {
     "name": "stdout",
     "output_type": "stream",
     "text": [
      "This is Test File\n",
      "Hello, Python\n",
      "테스트 파일입니다.\n",
      "\n"
     ]
    }
   ],
   "source": [
    "try:\n",
    "    f=open('data/ch08.txt','r',encoding='utf-8')\n",
    "    data=f.read() # 파일을 끝까지 text형태로 읽어서 반환\n",
    "except FileNotFoundError as e:\n",
    "    print(e)\n",
    "else:\n",
    "    print(data)\n",
    "finally:\n",
    "    f.close()\n"
   ]
  },
  {
   "cell_type": "markdown",
   "id": "ece205ea-b6fd-4066-bf76-1ff1df5ce4e2",
   "metadata": {},
   "source": [
    "# 3절 강제로 예외 발생(raise)"
   ]
  },
  {
   "cell_type": "code",
   "execution_count": 48,
   "id": "163b735f-dc2d-446d-b0ba-2206931d468e",
   "metadata": {},
   "outputs": [
    {
     "ename": "Exception",
     "evalue": "예외 발생",
     "output_type": "error",
     "traceback": [
      "\u001b[1;31m---------------------------------------------------------------------------\u001b[0m",
      "\u001b[1;31mException\u001b[0m                                 Traceback (most recent call last)",
      "Cell \u001b[1;32mIn[48], line 1\u001b[0m\n\u001b[1;32m----> 1\u001b[0m \u001b[38;5;28;01mraise\u001b[39;00m \u001b[38;5;167;01mException\u001b[39;00m(\u001b[38;5;124m\"\u001b[39m\u001b[38;5;124m예외 발생\u001b[39m\u001b[38;5;124m\"\u001b[39m)\n\u001b[0;32m      2\u001b[0m \u001b[38;5;28mprint\u001b[39m(\u001b[38;5;124m\"\u001b[39m\u001b[38;5;124md\u001b[39m\u001b[38;5;124m\"\u001b[39m)\n",
      "\u001b[1;31mException\u001b[0m: 예외 발생"
     ]
    }
   ],
   "source": [
    "raise Exception(\"예외 발생\")"
   ]
  },
  {
   "cell_type": "code",
   "execution_count": 54,
   "id": "4d19979b-59ce-42b9-81b4-7e46441f636b",
   "metadata": {},
   "outputs": [],
   "source": [
    "# 사용자 정의 예외 타입: 기존 파이썬에서 제공되는 Exception 상속\n",
    "class LengthZeroError(Exception):\n",
    "    \"길이가 0일때 발생하는 예외\" #도움말\n",
    "    def __init__(self):\n",
    "        super().__init__(\"매개변수 길이가 0이면 예외\")"
   ]
  },
  {
   "cell_type": "code",
   "execution_count": 55,
   "id": "6243d2ee-ca8a-45d8-8e2a-99324975dfa3",
   "metadata": {},
   "outputs": [
    {
     "ename": "LengthZeroError",
     "evalue": "매개변수 길이가 0이면 예외",
     "output_type": "error",
     "traceback": [
      "\u001b[1;31m---------------------------------------------------------------------------\u001b[0m",
      "\u001b[1;31mLengthZeroError\u001b[0m                           Traceback (most recent call last)",
      "Cell \u001b[1;32mIn[55], line 1\u001b[0m\n\u001b[1;32m----> 1\u001b[0m \u001b[38;5;28;01mraise\u001b[39;00m LengthZeroError()\n",
      "\u001b[1;31mLengthZeroError\u001b[0m: 매개변수 길이가 0이면 예외"
     ]
    }
   ],
   "source": [
    "raise LengthZeroError()"
   ]
  },
  {
   "cell_type": "code",
   "execution_count": 58,
   "id": "57fa35e3-b4cc-44a9-ad67-0c222ee8c178",
   "metadata": {},
   "outputs": [],
   "source": [
    "def insert(*data): #tuple 매개변수\n",
    "    if len(data)==0:\n",
    "        raise LengthZeroError()\n",
    "    for item in data:\n",
    "        print(item,end=\" \")\n",
    "    print(\"등을 입력하셨습니다\")"
   ]
  },
  {
   "cell_type": "code",
   "execution_count": 60,
   "id": "632aab51-47f7-4b3b-afc6-d904ccf633f7",
   "metadata": {},
   "outputs": [
    {
     "ename": "LengthZeroError",
     "evalue": "매개변수 길이가 0이면 예외",
     "output_type": "error",
     "traceback": [
      "\u001b[1;31m---------------------------------------------------------------------------\u001b[0m",
      "\u001b[1;31mLengthZeroError\u001b[0m                           Traceback (most recent call last)",
      "Cell \u001b[1;32mIn[60], line 1\u001b[0m\n\u001b[1;32m----> 1\u001b[0m insert()\n",
      "Cell \u001b[1;32mIn[58], line 3\u001b[0m, in \u001b[0;36minsert\u001b[1;34m(*data)\u001b[0m\n\u001b[0;32m      1\u001b[0m \u001b[38;5;28;01mdef\u001b[39;00m \u001b[38;5;21minsert\u001b[39m(\u001b[38;5;241m*\u001b[39mdata): \u001b[38;5;66;03m#tuple 매개변수\u001b[39;00m\n\u001b[0;32m      2\u001b[0m     \u001b[38;5;28;01mif\u001b[39;00m \u001b[38;5;28mlen\u001b[39m(data)\u001b[38;5;241m==\u001b[39m\u001b[38;5;241m0\u001b[39m:\n\u001b[1;32m----> 3\u001b[0m         \u001b[38;5;28;01mraise\u001b[39;00m LengthZeroError()\n\u001b[0;32m      4\u001b[0m     \u001b[38;5;28;01mfor\u001b[39;00m item \u001b[38;5;129;01min\u001b[39;00m data:\n\u001b[0;32m      5\u001b[0m         \u001b[38;5;28mprint\u001b[39m(item,end\u001b[38;5;241m=\u001b[39m\u001b[38;5;124m\"\u001b[39m\u001b[38;5;124m \u001b[39m\u001b[38;5;124m\"\u001b[39m)\n",
      "\u001b[1;31mLengthZeroError\u001b[0m: 매개변수 길이가 0이면 예외"
     ]
    }
   ],
   "source": [
    "insert()"
   ]
  },
  {
   "cell_type": "code",
   "execution_count": 62,
   "id": "f7e25f38-0cdd-43c7-9ea0-dc3150fc09c6",
   "metadata": {},
   "outputs": [
    {
     "name": "stdout",
     "output_type": "stream",
     "text": [
      "1 2 3 등을 입력하셨습니다\n"
     ]
    }
   ],
   "source": [
    "l=[1,2,3]\n",
    "insert(*l)#언패킹"
   ]
  },
  {
   "cell_type": "markdown",
   "id": "fa46532e-d613-4d4e-85f9-b4d90349a970",
   "metadata": {},
   "source": [
    "# 4절 파일 정리 작업(with절 이용)"
   ]
  },
  {
   "cell_type": "code",
   "execution_count": 73,
   "id": "71f563cd-0d75-4dc0-b4fb-17689d654945",
   "metadata": {},
   "outputs": [
    {
     "name": "stdout",
     "output_type": "stream",
     "text": [
      "없는 파일이거나 encoding 확인 요망 [Errno 2] No such file or directory: 'data/h08.txt'\n"
     ]
    }
   ],
   "source": [
    "# 파일 입출력시 자원 반납 필수(close)\n",
    "try:\n",
    "    f=open('data/ch08.txt','r',encoding=\"utf-8\")\n",
    "    lines=f.readlines()#한줄한줄 모든 줄을 list 형태로 반환\n",
    "    print(lines)\n",
    "except Exception as e :\n",
    "    print('없는 파일이거나 encoding 확인 요망',e)\n",
    "finally:\n",
    "    f.close()"
   ]
  },
  {
   "cell_type": "code",
   "execution_count": 74,
   "id": "db577ffc-a073-4d97-90bc-dbb00080d11b",
   "metadata": {},
   "outputs": [
    {
     "name": "stdout",
     "output_type": "stream",
     "text": [
      "['This is Test File\\n', 'Hello, Python\\n', '테스트 파일입니다.\\n']\n"
     ]
    }
   ],
   "source": [
    "# with절 이용시 자동 close()실행\n",
    "with open('data/ch08.txt','r',encoding=\"utf-8\") as f:#f:지역변수\n",
    "    lines=f.readlines()\n",
    "print(lines)"
   ]
  },
  {
   "cell_type": "markdown",
   "id": "09bfa500-264b-4956-99fe-cf252d53683d",
   "metadata": {},
   "source": [
    "# 5절 연습문제"
   ]
  },
  {
   "cell_type": "code",
   "execution_count": null,
   "id": "8d9f1c78-6283-42fd-8658-ad2bbcd05d3a",
   "metadata": {},
   "outputs": [],
   "source": [
    "#1\n",
    "while 1:\n",
    "    try:\n",
    "        num1=int(input('첫 번째 숫자:'))\n",
    "        num2=int(input('두 번째 숫자:'))\n",
    "        ans=num1/num2\n",
    "        print(num1, num2)\n",
    "        print(ans)\n",
    "        break;   \n",
    "    except:\n",
    "        print(\"유효한 숫자가 아닙니다. 다시 시도하세요.\")"
   ]
  },
  {
   "cell_type": "code",
   "execution_count": null,
   "id": "5604e2fe-9264-42ab-8a31-50913a1a9e51",
   "metadata": {},
   "outputs": [],
   "source": []
  }
 ],
 "metadata": {
  "kernelspec": {
   "display_name": "Python 3 (ipykernel)",
   "language": "python",
   "name": "python3"
  },
  "language_info": {
   "codemirror_mode": {
    "name": "ipython",
    "version": 3
   },
   "file_extension": ".py",
   "mimetype": "text/x-python",
   "name": "python",
   "nbconvert_exporter": "python",
   "pygments_lexer": "ipython3",
   "version": "3.11.7"
  }
 },
 "nbformat": 4,
 "nbformat_minor": 5
}
