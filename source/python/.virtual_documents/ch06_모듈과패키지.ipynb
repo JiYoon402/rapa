








import sys
sys.path.append('C:\JiYoon\\C_python\\source\pylib')


sys.path





#1
import fibonacci
fibonacci.fibonacci(100)


del fibonacci


#2
import fibonacci as fibo
fibo.fibonacci(1000)


del fibo


#3
from fibonacci import fibonacci # ,이용해서 다수의 함수 로드 가능
fibonacci(100)


del fibonacci


#4
from fibonacci import fibonacci as fibo
fibo(30)


del fibo


import fibonacci
dir(fibonacci)



