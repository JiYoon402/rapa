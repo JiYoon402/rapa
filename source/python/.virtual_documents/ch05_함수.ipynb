





def my_hello(x,msg): #함수 정의
    for i in range(x):
        print(i,msg)



my_hello(5,'Hello World')


type(my_hello)


my_hello=10
type(my_hello)


def my_add(num1,num2,num3=0):# 기본값을 갖는 인수는 순서 인수 뒤에
    return num1+num2+num3
print(my_add(1,2,3))
print(my_add(1,2))





def fibonacci(n):
    """
    매개변수로 들어온 n값 미만의 피보나치 수열을 출력하는 함수
    n3=n1+n2
    ex. n=10: 0, 1, 1, 2, 3, 5, 8
    """
    a,b=0,1
    while a<n:
        print(a,end=', ')
        a,b=b,a+b
    print()


fibonacci(100)


fibonacci #__main__: main영역에서 작동하는 함수


__name__


if __name__=='__main__':
    fibonacci(1000)


import fibonacci as fibo#fibonacci.py이 해석되서 memory에 로드됨



fibo.fibonacci(1000)






global_var=100 #전역변수
def func1():
    print(global_var)
func1()


def func2():
    local_var=10 # 함수 안의 지역변수
    print(local_var)
func2()
local_var #함수 밖에서 호출 불가





g_var=100 #전역변수
def func3():
    print(g_var)# 코드가 위에서부터 시행되지않아서 혼란 야기
    g_var=200 #지역변수
    print(g_var)

func3()    
print(g_var)





g_var=100 #전역변수
def func3():
    global g_var
    print(g_var)
    g_var=200 #지역변수
    print(g_var)

func3()    
print(g_var)





foo='ab'#스칼라변수(문자=문자열
id(foo)


def func1(f):
    print("Before : {}의 주소는 {}".format(f,id(f)))
    f*=3 #매개변수는 지역변수
    print("After : {}의 주소는 {}".format(f,id(f)))

func1(foo)
print("함수 호출 후 foo:{}의 주소는{}".format(foo,id(foo)))





L=[1,2,3]
print("L의 내용은 {}, 주소는 {}". format(L,id(L)))


def func2(f):
    print("함수 내 before: L의 내용은 {}, 주소는 {}". format(L,id(L)))
    f.append(4)
    print("함수 내 after: L의 내용은 {}, 주소는 {}". format(L,id(L)))

func2(L)
print("L의 내용은 {}, 주소는 {}". format(L,id(L)))





#여러값을 return
def swap(a,b):
    return b,a


x,y=5,10
print('함수 실행 전 x={}, y={}'.format(x,y))
x,y=swap(x,y)
print('함수 실행 후 x={}, y={}'.format(x,y))





def make_url(ip,port=80):
    # 순서인수, 기본값을 갖는 인수 순으로 
    return "http//{}:{}".format(ip,port)


print(make_url("localhost"))
print(make_url("localhost",8090))
print(make_url(port=8090,ip="localhost"))             





print('Hello','World') # 인수의 갯수가 가변 = 가변인수


#args 앞에 *: args가 튜플로 전달
def add1(args): # * 사용 안할 시 tuple 형태로 입력받아야함
    print("전달받은 args:",args)
    print(type(args))
    sum=0
    for num in args:
        sum+=num;
    return sum

def add2(*args): # * 사용시 인수 형태로 입력 받을 수 있음
    print("전달받은 args:",args)
    print(type(args))
    sum=0
    for num in args:
        sum+=num;
    return sum


print(add1((1,2,3,4)))
print(add2(1,2,3,4))


def concat(*args, sep):
    return sep.join(args)


concat('C','python','oracle','~')# 어디까지 arg인지 몰라서 에러 발생


# 해결책1
concat('C','python','oracle',sep='~')

# 해결책2: args를 뒤에쪽으로!
def concat(sep,*args):
    return sep.join(args)
concat('~','C','python','oracle')

#해결책3: default값을 가질 경우 뒤에 배치해야함
#순서인수>튜플인수>키워드인수(변수명을 기재해야되는 인수)
def concat(*args, sep='/'):
    return sep.join(args)
concat('C','python','oracle',sep='~')





def func1(args): # args가 딕셔너리로 전달
    print(args)
    print(type(args))

def func2(**args): # args가 딕셔너리로 전달
    print(args)
    print(type(args))
    


dic={"name":"홍길동", 'age':20}
func1(dic)
func2(name='홍길동',age=20)


def func(**args): # args가 딕셔너리로 전달
    for key,value in args.items():
        print("{} : {}".format(key,value))


func(gameName='서바이벌C', year=2024,price=33000)





def func(a,b,c,*d,e=10,**f):
    print('a=',a)
    print('b=',b)
    print('c=',c)
    print('d=',d)
    print('e=',e)
    print('f=',f)


func(10,20,30, 1,2,3,4,5, e=100, height=180,name="홍길동",address='서울시')



