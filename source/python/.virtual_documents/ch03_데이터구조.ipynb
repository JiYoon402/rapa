





fruits=[1,'banana','apple',True] #동일 자료형의 집합이 아니여도 됨
type(fruits)


print(fruits)


print(fruits[1])


fruits[1]='mango'
fruits


for fruit in fruits:# 0번index부터 받는 변수 in list/tuple
    print(fruit)


range(0,5)


list(range(len(fruits))) #len(list):요소의 갯수


for i in range(4):
    print(i,fruits[i])


for idx, value in enumerate(fruits):#enumerate: i,list[i] 반환
    print(idx, value)





#index로 접근
for i in [0,1,2,3]:
    print(i,fruits[i])





numbers=[1,2,3,4,5]
print('요소의 수:',len(numbers))
print('min:',min(numbers),'max:',max(numbers))





# + 두 리스트를 연결
# list*n: list를 n만큼 반목
# append(): 요소 뒤에 추가
# extend(): 요소별로 뒤에 추가


numbers=[1,2,3]
print(numbers+numbers*2)


numbers.append(4)
numbers


num=[5,6]
#numbers를 [1,2,3,4,5,6] vs [1,2,3,4,[5,6]]
numbers.extend(num)
numbers



numbers=[1,2,3,4]
numbers.append('hello')
numbers


numbers=[1,2,3,4]
numbers.extend('hello')
numbers





numbers=[1,2,3,[1,2,3],1,2,3] #1은 두개 있음!
print(numbers.count(4))
print(numbers.count(1))


2 in numbers # 2가있는지 여부


numbers.index(2,3) #3번째 인덱스부터 2가 처음 나오는 인덱스를 반환





numbers =[1,3,4,9,10,12,13,18,19,20]
numbers[::-1]


numbers[::2]#인덱스가 짝수인 것만 추출


#쩍수 값만 추출
result=[]
for num in numbers:
    if num%2==0:
        result.append(num)
result


#라스트 컴프리헨션 4줄->1줄 축소
#[변수 for 변수 in list if 조건]: 조건 만족하는 list의 요소만 추출
result=[num for num in numbers if num%2==0]
result



#numbers 리스트의 제곱값을 리스트로 생성하여라
numbers=[1,3,5]
result=[num*num for num in numbers]
result


#과일의 글자가 5글자 이상인 과일 추출하세요
fruits=["orange","apple",'mango','kiwi']
res=[fru for fru in fruits if len(fru)>=5]
res


#과일의 글자가 5글자 이상인 글자수 추출하세요
res=[len(fru) for fru in fruits if len(fru)>=5]
res





numbers=[1,2,3,4]
print(numbers.pop())
print(numbers)


numbers.remove(1)
numbers
#numbers.remove(1) 없는 데이터 remove시 에러 발생


del numbers[0]
numbers


del numbers#list numbers 자체를 delete





numbers=[3,6,3,9,6,53,5,2,7]
numbers.sort(reverse=True)
numbers





numbers=[6,1,2,3]
new_numbers=numbers;#얕은복사
numbers.sort()
print(new_numbers,numbers)#new_numbers도 바뀜


numbers=[6,1,2,3]
new_numbers=numbers.copy();#깊은복사
numbers.sort()
print(new_numbers,numbers)#new_numbers 안바뀜





city=('서울','부산','광주','대전')
print(type(city))
city


'~'.join(city)


list_=['서울']
type(list_)


t=('서울',) # 요소가 하나인 튜플은 뒤에 (,)필수!
type(t)





dic={'name':'홍길동', 'address': '서울시 금천구'}
print(type(dic))
print(dic)
dic['name'],dic['address'] #key를 이용하여 참조


dic['score']# key 값 없을시 error


dic.get('name'), dic.get('score')# key값 없을시 None 반환


#수정
dic['score']=90 # 걍 냅다 정의
dic['sport']='sleep'
dic


#제거
dic.pop('sport')


for key in dic:
    print(key)
for idx,value in enumerate(dic):
    print(idx,value)


# 출력
print(dic.keys())
print(dic.values())
print(dic.items())


for data in dic.values():
    print(data)


for key,value in dic.items():
    print("{}:{}".format(key,value))


l=['a','b','c']
'c' in l


'name' in dic


'홍길동' in dic #dictionary에서 in은 key값을 나타냄


len(dic) # data 갯수





fruit={1,3,2,1,True,'a',3}
print(fruit)
print(type(fruit))


fruit.add('kiwi')
print(fruit)


fruit.add('a')
print(fruit)


for i,val in enumerate(fruit):
    print("{}: {}".format(i,val))


for data in fruits:
    print(data)





numbers=[1,2,3,4,5,6,7,8,9,10]


#1
numbers.append(100)
numbers


#2
data=[200,300,400,500]
numbers+=data
numbers


#3
numbers[:5]


#4
numbers[1::2]


#5
for i,val in enumerate(numbers):
    if(i%2==1): numbers[i]=0

numbers


#6
numbers.reverse()
numbers


member={'name':'홍길동', "age":20, "address": "서울시 금천구", "score": 90}


#7
member['address']


#8
print(member['score'])
member.pop('score')


member['adress']='서울시 서대문구'
print(member)



