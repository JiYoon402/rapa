





class Person:
    "Person 클래스는 어쩌구 저쩌구 여러 줄 설명하는 독스트링"
    pass
p1=Person()


class Person():#객체 안의 함수는 self가 다 들어감!
    "Person은 이름과 성별 멤버 변수가 있는 객체타입입니다."
    def __init__(self,name='홍길동',gender='남자'):#생성자함수 self:내객체다
        self.name=name
        self.gender=gender
        print("{} {} Person 객체가 생성되었습니다".format(self.name,self.gender))
    def print_info(self):
        print("{}님은 {}입니다.".format(self.name,self.gender),end='\t')
    def printCnt(self,cnt):
        for i in range(cnt):
            print(self.name,end='\t')
    def __str__(self):#p1호출시 p1.__str__호출됨 => 원하는 출력 문자열로 설정
        return "name:{}\tgender:{}".format(self.name,self.gender)


p1=Person('성춘향','여자')


print(p1.name,p1.gender)
p1.print_info()
p1.printCnt(3)


print(p1)





class Student(Person):#Person을 상속받음
    'name,gender,major 멤버 변수를 갖는 Student 타입'
    def __init__(self, name, gender, major):
        #부모 클래스의 생성자 함수로 name,gender 초기화
        super().__init__(name,gender)#Person.__init__(nmae,gender)
        self.major=major
    def print_info(self):
        super().print_info()
        print('전공은',self.major)
    def __str__(self):
        return super().__str__()+'\tmajor:'+self.major


s1=Student('김철수','남자','컴공')


print(s1)


s1.print_info()


s1.printCnt(5)





#1
class Shape():
    def __init__(self,width=0,height=0):
        self.width=width
        self.height=height
    def modify(self,width,height):
        self.width=width
        self.height=height
    def __str__(self):
        return 'width: '+str(self.width)+'height: '+str(self.height)
    def calc_area(self):
        return self.width*self.height


s1=Shape(3,4)
print(s1)


s1.modify(4,5)
print(s1)


print(s1.calc_area())






