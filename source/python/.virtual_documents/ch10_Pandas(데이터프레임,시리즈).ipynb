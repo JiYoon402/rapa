





import numpy as np
np.pi


import pandas as pd
pd.__version__


data=pd.read_json('data/ch10_member1.json',encoding="cp949")#디폴트가 UTF-8
print(type(data))
data


data=pd.read_json('data/ch10_member2.json')#UTF-8로 read, encoding 다르면 에러
print(type(data))
data


member1=pd.read_csv('data/ch09_member1.csv',header=None, names=['name','age','email','address'],encoding='utf-8')
member1





d={'name':['홍길동','신길동'],'age':[20,30]}
df=pd.DataFrame(data=d)
df





d=[{'name':'홍길동','age':20},{'name':'신길동','age':30}]


df=pd.DataFrame(data=d)






df= pd.read_csv('data/전국 평균 평당 분양가격(2013년 9월부터 2015년 8월까지).csv',encoding='cp949')
df.shape #행, 열
df


df.head(2)


pd.options.display.max_columns # 최대 데이터 프레임의 표현될 수 있는 열 수





import statsmodels.api as sm
iris=sm.datasets.get_rdataset("iris",package="datasets").data
iris.tail() #끝 5행





member_df=pd.read_csv('data/ch09_member1.csv',header=None)
member_df


#열이름 지정하기
member_df.columns=['name','age','email','address']
member_df


member_df=pd.concat([member_df,member_df]) # 행 이름이 연속되지 않음
member_df


member_df.index


member_df.index=range(len(member_df))
member_df


# name열을 행(index)이름으로
#member_df=member_df.set_index("name")#inplace=false적용된 내용 return
member_df.set_index("name",inplace=True)#inplace=true 데이터프레임에 적용
member_df


#행 이름을 컬럼에 편입시키기
#member_df=member_df.reset_index()#reset 적용한 것을 return
member_df.reset_index(inplace=True) #reset을 member_df에 적용
member_df


name=member_df['name'] #1차원 데이터 시리즈
print(type(name))
name





member_df.info()


#타입 바꾸기
member_df['age']=member_df['age'].astype('float64')#데이터 프레임의 열의 타입을 변경
member_df.info()





member=pd.read_csv('data/ch09_member2.csv')
member





member['name'] # 시리즈
member['name'].to_frame() #시리즈를 데이터프레임으로





# 단일행
member.loc[0] #시리즈


# 여러행
member.loc[0:5] #0~4행


# 여러열
member.loc[:,'name']
#name열부터 email열까지 ==age열포함
member.loc[:,'name':'email']#from:to:step


#여러열(name열과 email 열)
member.loc[:,['name','email']]


#1행부터 4행까지 name과 email
member.loc[1:4,['name','email']]


#1행과 4행, name,email,address
member.loc[[1,4],['name','email','address']]


#1행~4행까지 name~email열 출력
member.loc[1:4,'name':'address']





member.iloc[0:4] #slicing from:to:step


member.iloc[0,0:3] #0열부터 3열 앞까지


#맨 오른쪽 열을 제외하고 입력
member.iloc[:,:-1]


#짝수번째 행의 모든 열 출력
member.iloc[::2,0:2]


#member의 행순서를 역순 출력(맨 마지막 열을 제외하고)
member.iloc[::-1,:-1]





member.loc[member['age']>30] #인덱스 대신 조건


address='서울시 강동구'
address.find('강동구')





member['address'].str.find('강서구')!=-1


#address가 강서구인 데이터의 name,age, address를 출력
member.loc[member['address'].str.find('강서구')!=-1,['name','age','address']]


member.isna().sum()#결측치여부


# iris
import seaborn as sns
iris_df=sns.load_dataset('iris')
iris_df


# 0~49 setosa/ 50~99: sesicolor/ 100~149: virginica
iris_df.loc[100:149].head()


#species가 versicolor인 데이터의 상위 3개의 모든열
iris_df[iris_df['species']=='versicolor'].head(3)


#species가 versicolor인 데이터의 맨 마지막 열을 제외한 데이터
iris_df.loc[iris_df['species']=='versicolor',"sepal_length":"petal_width"].head(3)


#species가 versicolor인 데이터의 맨 마지막 열을 제외한 데이터
#iloc을 사용할때는 index만 사용 가능하므로 조건 뒤에 []로 뺌
iris_df.iloc[:,:-1][iris_df['species']=='versicolor']


#조건이 2개인 경우
#sepal_length>6.2 & species==versicolor
#iris_df['species'] == iris_df.species
iris_df[(iris_df.species=='versicolor') & (iris_df.sepal_length>6.2)]


#sepal_length>6.2 & species==versicolor인 데이터의 sepal_length와 species, sepal_width를 출력
iris_df.loc[(iris_df.species=='versicolor') & (iris_df.sepal_length>6.2),['sepal_length','sepal_width','species']]





member=pd.read_csv('data/ch09_member2.csv')
member


import numpy as np
member['major']=['컴공','전기','전자','기계','AI',np.nan]
member


hobby=pd.DataFrame({'hobby':['놀기','자기','읽기','먹기','공부','명상']})
hobby


#데이터 추가
pd.concat([member,hobby],axis=1) #axis=0: 행병합, axis=1: 열병합
member


#열삭제: axis=1
member.drop(['major'],axis=1,inplace=True)
member


member.index=range(len(member)) #index정리
member





#index기준 내림차순/오름차순
member=member.sort_index(axis=0,ascending=True)
member


#특정열의 값 기준 정렬
#inplace=True하거나 member=member.sort~에 다시 할당
member.sort_values(by=['name','age'],ascending=False,inplace=True)
member





iris_df.min(axis=0)#모든 열의  최소값
iris_df.iloc[:,:-1].min(axis=1)#행마다 모든 열의 최솟값


iris_df.max()


iris_df.iloc[:,:-1].mean()


iris_df.iloc[:,:-1].std()


iris_df.describe() #수치형 데이터의 갯수, 평균, 표준편차, 최소, 사분위수, 최대


iris_df.species.describe() #범주형데이터: 전체갯수, 가장 많은것, 가장 많은것의 갯수


iris_df.describe(include='all') # 수치형, 범주형 모두 분석


iris_df[iris_df['species'].isna()] # species가 결측치인 행을 출력





iris_df.groupby('species').max()


iris_group=iris_df.groupby('species')
iris_group.mean()





iris=sns.load_dataset("iris")
iris.sample(1)


#1 처음 다섯개의 행
iris.head()


#2 독립변수 x, 종속변수 y
y=iris.loc[:,'species'].to_frame() #한열밖에 없어서 series로 나오므로 프레임으로 변형
x=iris.iloc[:,:-1]
x,y


#3 처음 50개의 행
temp=iris.head(50)
temp


#4 모든 열의 요약정보
temp.describe(include='all')


#5 versicolor종의 데이터만 iris_versicolor에 저장
iris_versicolor=iris[iris.species=='versicolor']
iris_versicolor


#6 x,y합해서 iris_df만들기
iris_df=pd.concat([x,y],axis=1)
iris_df


#7 열 평균값
iris.describe().mean()


#8 열들 사이의 상관계수
r=iris.iloc[:,:-1].corr()


#import seaborn as sns
#import matplolib.pylot as plt
#plt.figure(figuresize=(12,6))#그래프 크기
sns.heatmap(r,annot=True,cmap="Oranges")
#plt.show()
#seaborn 라이브러리 업그레이드: 아나콘다 프롬프트 pip install seaborn --upgrade
#업그레이드 확인: pip show seaborn


#9 종별 평균
iris.groupby('species').mean()












