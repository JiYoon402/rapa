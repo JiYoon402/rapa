





import numpy as np #라이브러리 불러옴 np(닉네임_)
print('제공되는 pi값은',np.pi)
r=5
area=np.pi*r*r
print("계산된 넓이는",area)#출력할 것 ,로 연결
print('type of area',type(area))#자료형:type()
print('address of area',id(area))#주소: id()


area=10
print('value of area',area)
print('type of area',type(area))
print('address of area',id(area))#메모리 정리 자동으로 해줌


area='python'
print('value of area',area)
print('type of area',type(area))#자료형 자동 전환
print('address of area',id(area))





# 파이썬 변수는 함수 할당이 가능
print = 5 #print 변수 할당 시 print()함수 사용 불가
del print #print 변수 삭제 후 print()사용 가능
print(area)


i=3+3j #복소수
type(i)


a,b=10,20 #다중선언
print(a,b)
a,b


a,b=b,a+b # 다중선언시 병렬로 작동
a,b





help(print)


print?


# 도움말 기능 함수 내에서 shift+tab
print('a','b',sep='')#출력사이에 공백에 채울 것 sep으로 지정


# 함수 선언
def make_number(x,y=0): # y값이 주어지지 않을 경우 0으로 초기화
    #도움말 여러줄 시 """사용, 1줄시 " 사용
    """doc string(함수의 도움말)
    매개변수 2개를 이용해서 2자리 정수를 만들어요
    x: 10의 자리수
    y: 1의 자리수(default값=0)
    """
    return x*10+y


print(make_number(3,1),make_number(2))


make=make_number # 함수를 변수에 할당


make(2)





#변수 삭제
del make


make(6)





first=input('첫번째 숫자는?')#문자로 return
second=input('두번째 숫자는?')


print(int(first)+int(second))
print('두수의 합은 {}'.format(first+second))#문자+문자


print('Hello','world',sep='~',end='')#end:두개의 print 함수 사이의 형태 지정(기본값:\n)
print('Hello','Python')








import sys
print(sys.maxsize) #모든 크기의 정수를 다 처리 가능


a=sys.maxsize+10
print("값:{} / 주소:{}".format(a,id(a)))
print(type(a))


a=3/2 #정수형/정수형 =>실수형
print("값:{} / 주소:{}". format(a,id(a)))
print(type(a))



a=int(3/2) # 명시적 변환
a=3//2 # C언어 결과처럼 하고자 하면 몫 연산자
print("값:{} / 주소:{}".format(a,id(a)))
print(type(a))



f=1.12e20 #1.12의 10의 20승
print(f)
f=1.12e-20 #1.12의 10의 -20승
print(f)





name="홍길동'님'" #"님" 강조
name='홍길동"님"'
address="서울시 \"금천구\" \
가산디지털1로"
# 줄 끝의 /:다음줄로 계속
print(name, address)


text="안녕하세요\n홍길동입니다\n반갑습니다"
print(text)


text="""안녕하세요
홍길동입니다
반갑습니다
"""
print(text)


# 문자열 슬라이싱(자르기)
str_="0123456789"
str_


str_[0:3] # 0번째부터 3번째 앞까지


str_[-1] # 음수 index는 뒤에서부터


str_[-5:-1]


str_[-5:] # 시작하는/끝나는 index 없을 시 처음/끝 부터


str_[5:19] # index를 벗어나면 끝까지 라는 뜻


# str_[from:tp:step]
print(str_[0:9:2]) # 0부터 9번째 앞까지 2씩 인덱스 증가해서
print(str_[::2]) # 처음부터 끝까지 2씩 증가해서


#끝부터 처음까지(거꾸로)
print(str_[9::-1])
print(str_[::-1])





a=True
print(a)
print(type(a))
print(isinstance(a,bool)) # isinstance(a,b): a가 b형 객체인지 판단 


#False로 간주하는 것: 0 None "" ''(빈스트링) [](빈list) () {}
#True로 간주하는 것: " "(space) \0(NULL) 


if 0:
    print('True다')
else: 
    print('False다')





int('10')


int('2,000')


float(True)#bool True:1, False:0





name='홍길동'
add='서울시 금천구'
print("이름은 {1:10}, 주소는 {0}".format(add,name)) # {index:출력형태}


print("이름은 %s, 주소는 %s"%(name,add))


print(f"이름은 {name}, 주소는 {add}")





a=10
s='Hello'
print("[{0:$>10d}],[{1:*<20}]".format(a,s))





print((10>3)&(10>5)) #논리 연산자 True/False


print(12&1) # 비트연산 12: 1100
            #          1: 0001
print(12|1)





'아'<'하' #사전식


'*' < '1' < 'A' < 'a' # 특수문자<숫자<대문자<소문자


score=85
80<=score<90<100






