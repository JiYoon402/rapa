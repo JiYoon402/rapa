from IPython.display import display, HTML
display(HTML("""
<style>
div.jp-WindowedPanel-outer.lm-Widget{padding:5px;}
div.lm-Widget{width:100%;font-size:10pt;}
div.cm-content {font-family:Consolas; font-size:10pt;}
div.jp-OutputArea-output pre {font-size:15pt; font-weight:bold;}
input.jp-Stdin-input {font-family:Consolas; font-size:10pt;}
</style>
"""))








print('Hello')


a=1#t숫자
b='2'#문자
a+int(b)#형변환
#중간에 결과 있을 시 출력 안됨
#마지막 문장일 경우 출력됨
c=3


# for i in range (10):#무한루프 시 커널-shutdown
#     print(i)
# 중지: kernel > 다양한 restart 기능이나 shutdown 기능












!dir #!:cmd 명령어 시행 가능



