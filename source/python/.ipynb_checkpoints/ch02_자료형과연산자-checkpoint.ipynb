{
 "cells": [
  {
   "cell_type": "markdown",
   "id": "25e055fa-7d9d-4c2f-941b-45f8a82da82d",
   "metadata": {},
   "source": [
    "<font color=\"red\" size=\"10\"><b>ch02 자료형과 연산자<b/></font>"
   ]
  },
  {
   "cell_type": "markdown",
   "id": "b3402f91-06bc-4643-86ba-3e02e622e46f",
   "metadata": {},
   "source": [
    "# 1절.변수\n",
    "## 1.1 변수 선언\n",
    "    - 별도의 변수 선언 과정 없음\n",
    "## 1.2 변수 할당\n",
    "    - 대입연산자(=) 사용"
   ]
  },
  {
   "cell_type": "code",
   "execution_count": 8,
   "id": "ca23ca9f-6a4c-4d2e-8919-a59f90592450",
   "metadata": {},
   "outputs": [
    {
     "name": "stdout",
     "output_type": "stream",
     "text": [
      "제공되는 pi값은 3.141592653589793\n",
      "계산된 넓이는 78.53981633974483\n",
      "type of area <class 'float'>\n",
      "address of area 2258410178256\n"
     ]
    }
   ],
   "source": [
    "import numpy as np #라이브러리 불러옴 np(닉네임_)\n",
    "print('제공되는 pi값은',np.pi)\n",
    "r=5\n",
    "area=np.pi*r*r\n",
    "print(\"계산된 넓이는\",area)#출력할 것 ,로 연결\n",
    "print('type of area',type(area))#자료형:type()\n",
    "print('address of area',id(area))#주소: id()"
   ]
  },
  {
   "cell_type": "code",
   "execution_count": 7,
   "id": "2282bb22-fb23-419d-9747-664ead6d17c8",
   "metadata": {},
   "outputs": [
    {
     "name": "stdout",
     "output_type": "stream",
     "text": [
      "value of area 10\n",
      "type of area <class 'int'>\n",
      "address of area 140712752432200\n"
     ]
    }
   ],
   "source": [
    "area=10\n",
    "print('value of area',area)\n",
    "print('type of area',type(area))\n",
    "print('address of area',id(area))#메모리 정리 자동으로 해줌"
   ]
  },
  {
   "cell_type": "code",
   "execution_count": 9,
   "id": "11b10a48-bf60-4bd2-972d-00cbec65ffe3",
   "metadata": {},
   "outputs": [
    {
     "name": "stdout",
     "output_type": "stream",
     "text": [
      "value of area python\n",
      "type of area <class 'str'>\n",
      "address of area 2258361962096\n"
     ]
    }
   ],
   "source": [
    "area='python'\n",
    "print('value of area',area)\n",
    "print('type of area',type(area))#자료형 자동 전환\n",
    "print('address of area',id(area))"
   ]
  },
  {
   "cell_type": "markdown",
   "id": "1c8171df-ded0-4256-a01a-acf813ac9707",
   "metadata": {},
   "source": [
    "## 1.3 변수이름 규칙\n",
    "    - 문자(특수문자는 _제외하고 안됨), 숫자, _로 명명\n",
    "    - 문자로 시작\n",
    "    - 파이썬에서 제공되는 기본 함수명은 피하자. 꼭 써야한다면 int_식으로 _를 붙임\n",
    "    - 파이썬 예약어는 변수명 불가(ex. if) #예약어:특정 기능을 수행하도록 미리 예약되어 있는 단어\n",
    "    "
   ]
  },
  {
   "cell_type": "code",
   "execution_count": 13,
   "id": "5ea50289-00f4-4360-8211-08161ecb2408",
   "metadata": {},
   "outputs": [],
   "source": [
    "# 파이썬 변수는 함수 할당이 가능\n",
    "print = 5 #print 변수 할당 시 print()함수 사용 불가\n",
    "del print #print 변수 삭제 후 print()사용 가능\n",
    "print(area)"
   ]
  },
  {
   "cell_type": "code",
   "execution_count": 15,
   "id": "f7c63c3b-5b9d-4efb-b0fb-606f59d6c3ea",
   "metadata": {},
   "outputs": [
    {
     "data": {
      "text/plain": [
       "complex"
      ]
     },
     "execution_count": 15,
     "metadata": {},
     "output_type": "execute_result"
    }
   ],
   "source": [
    "i=3+3j #복소수\n",
    "type(i)"
   ]
  },
  {
   "cell_type": "code",
   "execution_count": 21,
   "id": "858a2570-d3a9-4ee1-8428-48bec7a5c876",
   "metadata": {},
   "outputs": [
    {
     "name": "stdout",
     "output_type": "stream",
     "text": [
      "10 20\n"
     ]
    },
    {
     "data": {
      "text/plain": [
       "(10, 20)"
      ]
     },
     "execution_count": 21,
     "metadata": {},
     "output_type": "execute_result"
    }
   ],
   "source": [
    "a,b=10,20 #다중선언\n",
    "print(a,b)\n",
    "a,b"
   ]
  },
  {
   "cell_type": "code",
   "execution_count": 22,
   "id": "7b80665f-f651-4117-909d-131cf2c7f994",
   "metadata": {},
   "outputs": [
    {
     "data": {
      "text/plain": [
       "(20, 30)"
      ]
     },
     "execution_count": 22,
     "metadata": {},
     "output_type": "execute_result"
    }
   ],
   "source": [
    "a,b=b,a+b # 다중선언시 병렬로 작동\n",
    "a,b"
   ]
  },
  {
   "cell_type": "markdown",
   "id": "4e064ebf-b8d3-4660-878d-5474aad14270",
   "metadata": {},
   "source": [
    "## 1.4 도움말"
   ]
  },
  {
   "cell_type": "code",
   "execution_count": 23,
   "id": "e5df7ea3-7f49-41e6-a709-d1ba43891397",
   "metadata": {},
   "outputs": [
    {
     "name": "stdout",
     "output_type": "stream",
     "text": [
      "Help on built-in function print in module builtins:\n",
      "\n",
      "print(*args, sep=' ', end='\\n', file=None, flush=False)\n",
      "    Prints the values to a stream, or to sys.stdout by default.\n",
      "    \n",
      "    sep\n",
      "      string inserted between values, default a space.\n",
      "    end\n",
      "      string appended after the last value, default a newline.\n",
      "    file\n",
      "      a file-like object (stream); defaults to the current sys.stdout.\n",
      "    flush\n",
      "      whether to forcibly flush the stream.\n",
      "\n"
     ]
    }
   ],
   "source": [
    "help(print)"
   ]
  },
  {
   "cell_type": "code",
   "execution_count": 24,
   "id": "6ec0baf4-ec30-47a0-bf36-ceceed87e82b",
   "metadata": {},
   "outputs": [
    {
     "data": {
      "text/plain": [
       "\u001b[1;31mSignature:\u001b[0m \u001b[0mprint\u001b[0m\u001b[1;33m(\u001b[0m\u001b[1;33m*\u001b[0m\u001b[0margs\u001b[0m\u001b[1;33m,\u001b[0m \u001b[0msep\u001b[0m\u001b[1;33m=\u001b[0m\u001b[1;34m' '\u001b[0m\u001b[1;33m,\u001b[0m \u001b[0mend\u001b[0m\u001b[1;33m=\u001b[0m\u001b[1;34m'\\n'\u001b[0m\u001b[1;33m,\u001b[0m \u001b[0mfile\u001b[0m\u001b[1;33m=\u001b[0m\u001b[1;32mNone\u001b[0m\u001b[1;33m,\u001b[0m \u001b[0mflush\u001b[0m\u001b[1;33m=\u001b[0m\u001b[1;32mFalse\u001b[0m\u001b[1;33m)\u001b[0m\u001b[1;33m\u001b[0m\u001b[1;33m\u001b[0m\u001b[0m\n",
       "\u001b[1;31mDocstring:\u001b[0m\n",
       "Prints the values to a stream, or to sys.stdout by default.\n",
       "\n",
       "sep\n",
       "  string inserted between values, default a space.\n",
       "end\n",
       "  string appended after the last value, default a newline.\n",
       "file\n",
       "  a file-like object (stream); defaults to the current sys.stdout.\n",
       "flush\n",
       "  whether to forcibly flush the stream.\n",
       "\u001b[1;31mType:\u001b[0m      builtin_function_or_method"
      ]
     },
     "metadata": {},
     "output_type": "display_data"
    }
   ],
   "source": [
    "print?"
   ]
  },
  {
   "cell_type": "code",
   "execution_count": 26,
   "id": "a4b7ef4d-bc0f-46b4-aa72-9f2bc79af0e2",
   "metadata": {},
   "outputs": [
    {
     "name": "stdout",
     "output_type": "stream",
     "text": [
      "ab\n"
     ]
    }
   ],
   "source": [
    "# 도움말 기능 함수 내에서 shift+tab\n",
    "print('a','b',sep='')#출력사이에 공백에 채울 것 sep으로 지정"
   ]
  },
  {
   "cell_type": "code",
   "execution_count": 27,
   "id": "9a657437-f5b6-456f-b3ac-79f29728259c",
   "metadata": {},
   "outputs": [],
   "source": [
    "# 함수 선언\n",
    "def make_number(x,y=0): # y값이 주어지지 않을 경우 0으로 초기화\n",
    "    #도움말 여러줄 시 \"\"\"사용, 1줄시 \" 사용\n",
    "    \"\"\"doc string(함수의 도움말)\n",
    "    매개변수 2개를 이용해서 2자리 정수를 만들어요\n",
    "    x: 10의 자리수\n",
    "    y: 1의 자리수(default값=0)\n",
    "    \"\"\"\n",
    "    return x*10+y"
   ]
  },
  {
   "cell_type": "code",
   "execution_count": 30,
   "id": "040e0961-e7b0-4ea3-885c-0b102ef37d14",
   "metadata": {},
   "outputs": [
    {
     "name": "stdout",
     "output_type": "stream",
     "text": [
      "31 20\n"
     ]
    }
   ],
   "source": [
    "print(make_number(3,1),make_number(2))"
   ]
  },
  {
   "cell_type": "code",
   "execution_count": 31,
   "id": "9839c09e-3482-4285-8ad2-6598076fa9e0",
   "metadata": {},
   "outputs": [],
   "source": [
    "make=make_number # 함수를 변수에 할당"
   ]
  },
  {
   "cell_type": "code",
   "execution_count": 32,
   "id": "ed94fc5a-c41f-4049-af2a-6f51d8c79e43",
   "metadata": {},
   "outputs": [
    {
     "data": {
      "text/plain": [
       "20"
      ]
     },
     "execution_count": 32,
     "metadata": {},
     "output_type": "execute_result"
    }
   ],
   "source": [
    "make(2)"
   ]
  },
  {
   "cell_type": "markdown",
   "id": "c01b76ff-c994-498b-9fd3-037f183db008",
   "metadata": {},
   "source": [
    "## 1.5 변수 삭제"
   ]
  },
  {
   "cell_type": "code",
   "execution_count": null,
   "id": "aaa87759-96dc-49b0-a948-18cdce952f09",
   "metadata": {},
   "outputs": [],
   "source": [
    "#변수 삭제\n",
    "del make"
   ]
  },
  {
   "cell_type": "code",
   "execution_count": 35,
   "id": "4d9dded4-368b-4b63-bf13-b188dcc192b3",
   "metadata": {},
   "outputs": [
    {
     "ename": "NameError",
     "evalue": "name 'make' is not defined",
     "output_type": "error",
     "traceback": [
      "\u001b[1;31m---------------------------------------------------------------------------\u001b[0m",
      "\u001b[1;31mNameError\u001b[0m                                 Traceback (most recent call last)",
      "Cell \u001b[1;32mIn[35], line 1\u001b[0m\n\u001b[1;32m----> 1\u001b[0m make(\u001b[38;5;241m6\u001b[39m)\n",
      "\u001b[1;31mNameError\u001b[0m: name 'make' is not defined"
     ]
    }
   ],
   "source": [
    "make(6)"
   ]
  },
  {
   "cell_type": "markdown",
   "id": "23ff3577-0c10-47da-ba03-d9615ca348a7",
   "metadata": {},
   "source": [
    "# 2절 화면 I/O"
   ]
  },
  {
   "cell_type": "code",
   "execution_count": 45,
   "id": "66d52c38-9eb3-45fc-9cae-d8a7242a08dc",
   "metadata": {},
   "outputs": [
    {
     "name": "stdin",
     "output_type": "stream",
     "text": [
      "첫번째 숫자는? 40\n",
      "두번째 숫자는? 2\n"
     ]
    }
   ],
   "source": [
    "first=input('첫번째 숫자는?')#문자로 return\n",
    "second=input('두번째 숫자는?')"
   ]
  },
  {
   "cell_type": "code",
   "execution_count": 47,
   "id": "19e9f394-142f-492c-8ffc-1689751f70b4",
   "metadata": {},
   "outputs": [
    {
     "name": "stdout",
     "output_type": "stream",
     "text": [
      "42\n",
      "두수의 합은 402\n"
     ]
    }
   ],
   "source": [
    "print(int(first)+int(second))\n",
    "print('두수의 합은 {}'.format(first+second))#문자+문자"
   ]
  },
  {
   "cell_type": "code",
   "execution_count": 52,
   "id": "8cfdc9c5-e198-47a5-bab3-ba95d166bddb",
   "metadata": {},
   "outputs": [
    {
     "name": "stdout",
     "output_type": "stream",
     "text": [
      "Hello~worldHello Python\n"
     ]
    }
   ],
   "source": [
    "print('Hello','world',sep='~',end='')#end:두개의 print 함수 사이의 형태 지정(기본값:\\n)\n",
    "print('Hello','Python')"
   ]
  },
  {
   "cell_type": "markdown",
   "id": "160f2fd3-4adb-4941-afe5-c16d41e5089b",
   "metadata": {},
   "source": [
    "# 3절 기본 자료형\n",
    "    - 숫자: int, float, complex\n",
    "    - 문자: str\n",
    "    - 논리: bool(True/False)\n",
    "    파이썬은 타입을 지칭하는 키워드가 없고, 변수 할당시 타입이 정해짐"
   ]
  },
  {
   "cell_type": "markdown",
   "id": "32d9570c-e7f2-450a-bc63-973f245d4e95",
   "metadata": {},
   "source": [
    "## 3.1 숫자형"
   ]
  },
  {
   "cell_type": "code",
   "execution_count": 57,
   "id": "46fa75f3-01f1-42a9-8b67-715e503ca2e3",
   "metadata": {},
   "outputs": [
    {
     "name": "stdout",
     "output_type": "stream",
     "text": [
      "9223372036854775807\n"
     ]
    }
   ],
   "source": [
    "import sys\n",
    "print(sys.maxsize) #모든 크기의 정수를 다 처리 가능"
   ]
  },
  {
   "cell_type": "code",
   "execution_count": 61,
   "id": "c3f00524-9dac-4501-924d-054b281a0336",
   "metadata": {},
   "outputs": [
    {
     "name": "stdout",
     "output_type": "stream",
     "text": [
      "값:9223372036854775817 / 주소:2258489918256\n",
      "<class 'int'>\n"
     ]
    }
   ],
   "source": [
    "a=sys.maxsize+10\n",
    "print(\"값:{} / 주소:{}\".format(a,id(a)))\n",
    "print(type(a))"
   ]
  },
  {
   "cell_type": "code",
   "execution_count": 62,
   "id": "b34fd63b-2b55-4bd8-953a-e40f2248be4e",
   "metadata": {},
   "outputs": [
    {
     "name": "stdout",
     "output_type": "stream",
     "text": [
      "값:1.5 / 주소:2258489754352\n",
      "<class 'float'>\n"
     ]
    }
   ],
   "source": [
    "a=3/2 #정수형/정수형 =>실수형\n",
    "print(\"값:{} / 주소:{}\". format(a,id(a)))\n",
    "print(type(a))\n"
   ]
  },
  {
   "cell_type": "code",
   "execution_count": 63,
   "id": "f623d208-3e65-40ff-9fc8-42916ace7de1",
   "metadata": {},
   "outputs": [
    {
     "name": "stdout",
     "output_type": "stream",
     "text": [
      "값:1 / 주소:140712752431912\n",
      "<class 'int'>\n"
     ]
    }
   ],
   "source": [
    "a=int(3/2) # 명시적 변환\n",
    "a=3//2 # C언어 결과처럼 하고자 하면 몫 연산자\n",
    "print(\"값:{} / 주소:{}\".format(a,id(a)))\n",
    "print(type(a))\n"
   ]
  },
  {
   "cell_type": "code",
   "execution_count": 66,
   "id": "f572e00d-3883-4074-815d-15abfe64c1ab",
   "metadata": {},
   "outputs": [
    {
     "name": "stdout",
     "output_type": "stream",
     "text": [
      "1.12e+20\n",
      "1.12e-20\n"
     ]
    }
   ],
   "source": [
    "f=1.12e20 #1.12의 10의 20승\n",
    "print(f)\n",
    "f=1.12e-20 #1.12의 10의 -20승\n",
    "print(f)"
   ]
  },
  {
   "cell_type": "markdown",
   "id": "d01a6e79-788b-4ad0-97d7-933c210f5173",
   "metadata": {},
   "source": [
    "## 3.2 문자형"
   ]
  },
  {
   "cell_type": "code",
   "execution_count": 67,
   "id": "07851f1b-3757-46de-b8c6-a7ea2935250c",
   "metadata": {},
   "outputs": [
    {
     "name": "stdout",
     "output_type": "stream",
     "text": [
      "홍길동\"님\" 서울시 \"금천구\" 가산디지털1로\n"
     ]
    }
   ],
   "source": [
    "name=\"홍길동'님'\" #\"님\" 강조\n",
    "name='홍길동\"님\"'\n",
    "address=\"서울시 \\\"금천구\\\" \\\n",
    "가산디지털1로\"\n",
    "# 줄 끝의 /:다음줄로 계속\n",
    "print(name, address)"
   ]
  },
  {
   "cell_type": "code",
   "execution_count": 69,
   "id": "d30994b7-8878-4308-b59b-d9da9bee6da9",
   "metadata": {},
   "outputs": [
    {
     "name": "stdout",
     "output_type": "stream",
     "text": [
      "안녕하세요\n",
      "홍길동입니다\n",
      "반갑습니다\n"
     ]
    }
   ],
   "source": [
    "text=\"안녕하세요\\n홍길동입니다\\n반갑습니다\"\n",
    "print(text)"
   ]
  },
  {
   "cell_type": "code",
   "execution_count": 71,
   "id": "b03ed891-50d2-4e45-b149-beea4866811f",
   "metadata": {},
   "outputs": [
    {
     "name": "stdout",
     "output_type": "stream",
     "text": [
      "안녕하세요\n",
      "홍길동입니다\n",
      "반갑습니다\n",
      "\n"
     ]
    }
   ],
   "source": [
    "text=\"\"\"안녕하세요\n",
    "홍길동입니다\n",
    "반갑습니다\n",
    "\"\"\"\n",
    "print(text)"
   ]
  },
  {
   "cell_type": "code",
   "execution_count": 72,
   "id": "6419b653-fc42-4618-83d8-8dc4b2ceabae",
   "metadata": {},
   "outputs": [
    {
     "data": {
      "text/plain": [
       "'0123456789'"
      ]
     },
     "execution_count": 72,
     "metadata": {},
     "output_type": "execute_result"
    }
   ],
   "source": [
    "# 문자열 슬라이싱(자르기)\n",
    "str_=\"0123456789\"\n",
    "str_"
   ]
  },
  {
   "cell_type": "code",
   "execution_count": 78,
   "id": "efb1f821-99e4-4246-8a21-a581696d0dbf",
   "metadata": {},
   "outputs": [
    {
     "data": {
      "text/plain": [
       "'012'"
      ]
     },
     "execution_count": 78,
     "metadata": {},
     "output_type": "execute_result"
    }
   ],
   "source": [
    "str_[0:3] # 0번째부터 3번째 앞까지"
   ]
  },
  {
   "cell_type": "code",
   "execution_count": 82,
   "id": "07092d36-e5a4-49a1-b7b0-4b8f5a8999d0",
   "metadata": {},
   "outputs": [
    {
     "data": {
      "text/plain": [
       "'9'"
      ]
     },
     "execution_count": 82,
     "metadata": {},
     "output_type": "execute_result"
    }
   ],
   "source": [
    "str_[-1] # 음수 index는 뒤에서부터"
   ]
  },
  {
   "cell_type": "code",
   "execution_count": 92,
   "id": "ac4e91ab-4795-45e9-9a34-0941c1116f35",
   "metadata": {},
   "outputs": [
    {
     "data": {
      "text/plain": [
       "'5678'"
      ]
     },
     "execution_count": 92,
     "metadata": {},
     "output_type": "execute_result"
    }
   ],
   "source": [
    "str_[-5:-1]"
   ]
  },
  {
   "cell_type": "code",
   "execution_count": 94,
   "id": "57bad02f-2bed-496f-91ca-bc66c9f0a9d2",
   "metadata": {},
   "outputs": [
    {
     "data": {
      "text/plain": [
       "'56789'"
      ]
     },
     "execution_count": 94,
     "metadata": {},
     "output_type": "execute_result"
    }
   ],
   "source": [
    "str_[-5:] # 시작하는/끝나는 index 없을 시 처음/끝 부터"
   ]
  },
  {
   "cell_type": "code",
   "execution_count": 96,
   "id": "11705b32-e2f5-4c6a-a4ad-ff7dbc548ab8",
   "metadata": {},
   "outputs": [
    {
     "data": {
      "text/plain": [
       "'56789'"
      ]
     },
     "execution_count": 96,
     "metadata": {},
     "output_type": "execute_result"
    }
   ],
   "source": [
    "str_[5:19] # index를 벗어나면 끝까지 라는 뜻"
   ]
  },
  {
   "cell_type": "code",
   "execution_count": 101,
   "id": "831e4498-4df0-4991-b159-af5e741bcc94",
   "metadata": {},
   "outputs": [
    {
     "name": "stdout",
     "output_type": "stream",
     "text": [
      "02468\n",
      "\n"
     ]
    }
   ],
   "source": [
    "# str_[from:tp:step]\n",
    "print(str_[0:9:2]) # 0부터 9번째 앞까지 2씩 인덱스 증가해서\n",
    "print(str_[::2]) # 처음부터 끝까지 2씩 증가해서"
   ]
  },
  {
   "cell_type": "code",
   "execution_count": 108,
   "id": "8f379980-0883-404c-b82c-4a0cee6d1e6a",
   "metadata": {},
   "outputs": [
    {
     "name": "stdout",
     "output_type": "stream",
     "text": [
      "9876543210\n",
      "9876543210\n"
     ]
    }
   ],
   "source": [
    "#끝부터 처음까지(거꾸로)\n",
    "print(str_[9::-1])\n",
    "print(str_[::-1])"
   ]
  },
  {
   "cell_type": "markdown",
   "id": "dfd116fd-4303-463d-8500-4f73afe3beb6",
   "metadata": {},
   "source": [
    "## 3.3 논리형(True,False)"
   ]
  },
  {
   "cell_type": "code",
   "execution_count": 109,
   "id": "521c86fd-a948-4387-bc66-0bb61ce93873",
   "metadata": {},
   "outputs": [
    {
     "name": "stdout",
     "output_type": "stream",
     "text": [
      "True\n",
      "<class 'bool'>\n",
      "True\n"
     ]
    }
   ],
   "source": [
    "a=True\n",
    "print(a)\n",
    "print(type(a))\n",
    "print(isinstance(a,bool)) # isinstance(a,b): a가 b형 객체인지 판단 "
   ]
  },
  {
   "cell_type": "code",
   "execution_count": 110,
   "id": "7158e20e-c315-4e25-a5ee-99a390be06cc",
   "metadata": {},
   "outputs": [],
   "source": [
    "#False로 간주하는 것: 0 None \"\" ''(빈스트링) [](빈list) () {}\n",
    "#True로 간주하는 것: \" \"(space) \\0(NULL) "
   ]
  },
  {
   "cell_type": "code",
   "execution_count": 116,
   "id": "6baccd6d-c760-47d6-b1a1-c16c8cea9380",
   "metadata": {},
   "outputs": [
    {
     "name": "stdout",
     "output_type": "stream",
     "text": [
      "False다\n"
     ]
    }
   ],
   "source": [
    "if 0:\n",
    "    print('True다')\n",
    "else: \n",
    "    print('False다')"
   ]
  },
  {
   "cell_type": "markdown",
   "id": "b9b03843-ca3f-436f-a831-95b29b5ddf9f",
   "metadata": {},
   "source": [
    "## 3.4 자료형 확인 및 변환\n",
    "    - type(): 자료형 확인\n",
    "    - int(): 정수형 변환\n",
    "    - float(): 실수형 변환\n",
    "    - str(): 문자형 변환\n",
    "    - bool(): 논리형 변환"
   ]
  },
  {
   "cell_type": "code",
   "execution_count": 117,
   "id": "2ddbc329-e9a0-40e3-99f1-173f999c0929",
   "metadata": {},
   "outputs": [
    {
     "data": {
      "text/plain": [
       "10"
      ]
     },
     "execution_count": 117,
     "metadata": {},
     "output_type": "execute_result"
    }
   ],
   "source": [
    "int('10')"
   ]
  },
  {
   "cell_type": "code",
   "execution_count": null,
   "id": "50d6240b-d704-49ca-8029-fb5c0c81cd3a",
   "metadata": {},
   "outputs": [],
   "source": [
    "int('2,000')"
   ]
  },
  {
   "cell_type": "code",
   "execution_count": 120,
   "id": "1ff2babf-0309-4ad4-b0e1-dfea64ce0bcc",
   "metadata": {},
   "outputs": [
    {
     "data": {
      "text/plain": [
       "1.0"
      ]
     },
     "execution_count": 120,
     "metadata": {},
     "output_type": "execute_result"
    }
   ],
   "source": [
    "float(True)#bool True:1, False:0"
   ]
  },
  {
   "cell_type": "markdown",
   "id": "fa7c4f7e-6a16-4680-84e6-5fed6856c744",
   "metadata": {},
   "source": [
    "# 4절 포맷팅"
   ]
  },
  {
   "cell_type": "code",
   "execution_count": 122,
   "id": "4fe3e11a-74ff-42f6-a65a-063f769503fa",
   "metadata": {},
   "outputs": [
    {
     "name": "stdout",
     "output_type": "stream",
     "text": [
      "이름은 홍길동       , 주소는 서울시 금천구\n"
     ]
    }
   ],
   "source": [
    "name='홍길동'\n",
    "add='서울시 금천구'\n",
    "print(\"이름은 {1:10}, 주소는 {0}\".format(add,name)) # {index:출력형태}"
   ]
  },
  {
   "cell_type": "code",
   "execution_count": 123,
   "id": "d92149e9-a0e3-46df-aa3a-7141207824bf",
   "metadata": {},
   "outputs": [
    {
     "name": "stdout",
     "output_type": "stream",
     "text": [
      "이름은 홍길동, 주소는 서울시 금천구\n"
     ]
    }
   ],
   "source": [
    "print(\"이름은 %s, 주소는 %s\"%(name,add))"
   ]
  },
  {
   "cell_type": "code",
   "execution_count": 125,
   "id": "bcc43d83-8598-4b28-80a9-3e1fadadb1eb",
   "metadata": {},
   "outputs": [
    {
     "name": "stdout",
     "output_type": "stream",
     "text": [
      "이름은 홍길동, 주소는 서울시 금천구\n"
     ]
    }
   ],
   "source": [
    "print(f\"이름은 {name}, 주소는 {add}\")"
   ]
  },
  {
   "cell_type": "markdown",
   "id": "b357b3ba-d6f2-4169-934d-380d3a92a970",
   "metadata": {},
   "source": [
    "format()함수\n",
    "- \"{[인덱스]:[공백대체문자][정렬방법][자릿수][타입]}\".format(변수명,....)\n",
    "    - 정렬방법: <(왼쪽정렬),>(오른쪽정렬), ^(가운데정렬)\n",
    "    - 타입: d(10진수), x(16진수), b(2진수), f(실수), s(문자)"
   ]
  },
  {
   "cell_type": "code",
   "execution_count": 130,
   "id": "763147a0-1c0d-4cc8-82fa-708b013b3e8d",
   "metadata": {},
   "outputs": [
    {
     "name": "stdout",
     "output_type": "stream",
     "text": [
      "[$$$$$$$$10],[Hello***************]\n"
     ]
    }
   ],
   "source": [
    "a=10\n",
    "s='Hello'\n",
    "print(\"[{0:$>10d}],[{1:*<20}]\".format(a,s))"
   ]
  },
  {
   "cell_type": "markdown",
   "id": "7f426772-0508-4225-8c1f-8af312d7e770",
   "metadata": {},
   "source": [
    "# 5절 연산자\n",
    "## 5.1 산술연산자: + - / * //(몫) %(나머지) **(제곱)\n",
    "## 5.2 할당연산자: = += -= /= %= ...\n",
    "## 5.3 논리연산자: & and | or not (연산자 우선순위가 높음)\n",
    "## 5.4 비트연산자: & | ^ (연산자 우선순위가 높음)"
   ]
  },
  {
   "cell_type": "code",
   "execution_count": 131,
   "id": "c2f498f1-fa8b-4db2-97dc-894ddc4df3b0",
   "metadata": {},
   "outputs": [
    {
     "name": "stdout",
     "output_type": "stream",
     "text": [
      "True\n"
     ]
    }
   ],
   "source": [
    "print((10>3)&(10>5)) #논리 연산자 True/False"
   ]
  },
  {
   "cell_type": "code",
   "execution_count": 132,
   "id": "b6fbde39-0a37-414b-9291-84846594b05a",
   "metadata": {},
   "outputs": [
    {
     "name": "stdout",
     "output_type": "stream",
     "text": [
      "0\n",
      "13\n"
     ]
    }
   ],
   "source": [
    "print(12&1) # 비트연산 12: 1100\n",
    "            #          1: 0001\n",
    "print(12|1)"
   ]
  },
  {
   "cell_type": "markdown",
   "id": "4498e6a0-768a-4c34-986f-52b28c2879de",
   "metadata": {},
   "source": [
    "## 5.5 비교연산자: > >= < <= == != "
   ]
  },
  {
   "cell_type": "code",
   "execution_count": 136,
   "id": "481e8570-4158-4ec9-8de3-1dfbba26d5fd",
   "metadata": {},
   "outputs": [
    {
     "data": {
      "text/plain": [
       "True"
      ]
     },
     "execution_count": 136,
     "metadata": {},
     "output_type": "execute_result"
    }
   ],
   "source": [
    "'아'<'하' #사전식"
   ]
  },
  {
   "cell_type": "code",
   "execution_count": 135,
   "id": "edfca2b0-1523-4659-9ef4-085429134b63",
   "metadata": {},
   "outputs": [
    {
     "data": {
      "text/plain": [
       "True"
      ]
     },
     "execution_count": 135,
     "metadata": {},
     "output_type": "execute_result"
    }
   ],
   "source": [
    "'*' < '1' < 'A' < 'a' # 특수문자<숫자<대문자<소문자"
   ]
  },
  {
   "cell_type": "code",
   "execution_count": 138,
   "id": "742b62d9-edac-42f5-8177-580e0a637950",
   "metadata": {},
   "outputs": [
    {
     "data": {
      "text/plain": [
       "True"
      ]
     },
     "execution_count": 138,
     "metadata": {},
     "output_type": "execute_result"
    }
   ],
   "source": [
    "score=85\n",
    "80<=score<90<100"
   ]
  },
  {
   "cell_type": "markdown",
   "id": "fa499729-3cad-46bb-998d-64facf838778",
   "metadata": {},
   "source": [
    "# 6절 문자열 다루기\n",
    "    - 문자열 슬라이싱: 문자변수[from:to:step]\n",
    "    - len(문자열): 문자 갯수\n",
    "    - .upper(): 대문자로\n",
    "    - .lower(): 소문자로\n",
    "    - .title(): 각 단어의 앞글자만 대문자로\n",
    "    - .capitalize(): 첫문자만 대문자로, 그 외는 소문자\n",
    "    - count('찾을문자열'): 찾을 문자열이 몇개들어있는지 갯수 반환\n",
    "    - find('찾을문자열'): 찾을 문자열을 왼쪽부터 시작하여 몇번째 인덱스에 있는지 index 반환\n",
    "    - rfind('찾을문자열'): 찾을 문자열을 오른쪽부터 시작하여 몇번째 인덱스에 있는지 index 반환\n",
    "                            =>찾을 문자열이 없는 경우 -1 반환\n",
    "    - startswith('특정문자열'): 특정 문자열로 시작하는지 여부 T/F 반환\n",
    "    - endswith('특정문자열'): 특정 문자열로 끝나는지 여부 T/F 반환\n",
    "    - .strip(): 좌우 공백 제거 (lstrip(), rstrip(): l/r 공백만 제거)\n",
    "    - isdigit(): 문자열이 숫자문자열인지 여부 T/F 반환\n",
    "    - isupper()/islower(): 문자열이 대문자/소문자인지 여부 T/F 반환\n",
    "    - replace(oldStr,newStr) oldStr을 newStr로 변경\n",
    "    - split(): space 단위로 분리하여 list로 반환\n"
   ]
  },
  {
   "cell_type": "code",
   "execution_count": 142,
   "id": "0e100bab-f9d3-4fa0-984e-bbdedf8421ea",
   "metadata": {},
   "outputs": [
    {
     "data": {
      "text/plain": [
       "['__add__',\n",
       " '__class__',\n",
       " '__contains__',\n",
       " '__delattr__',\n",
       " '__dir__',\n",
       " '__doc__',\n",
       " '__eq__',\n",
       " '__format__',\n",
       " '__ge__',\n",
       " '__getattribute__',\n",
       " '__getitem__',\n",
       " '__getnewargs__',\n",
       " '__getstate__',\n",
       " '__gt__',\n",
       " '__hash__',\n",
       " '__init__',\n",
       " '__init_subclass__',\n",
       " '__iter__',\n",
       " '__le__',\n",
       " '__len__',\n",
       " '__lt__',\n",
       " '__mod__',\n",
       " '__mul__',\n",
       " '__ne__',\n",
       " '__new__',\n",
       " '__reduce__',\n",
       " '__reduce_ex__',\n",
       " '__repr__',\n",
       " '__rmod__',\n",
       " '__rmul__',\n",
       " '__setattr__',\n",
       " '__sizeof__',\n",
       " '__str__',\n",
       " '__subclasshook__',\n",
       " 'capitalize',\n",
       " 'casefold',\n",
       " 'center',\n",
       " 'count',\n",
       " 'encode',\n",
       " 'endswith',\n",
       " 'expandtabs',\n",
       " 'find',\n",
       " 'format',\n",
       " 'format_map',\n",
       " 'index',\n",
       " 'isalnum',\n",
       " 'isalpha',\n",
       " 'isascii',\n",
       " 'isdecimal',\n",
       " 'isdigit',\n",
       " 'isidentifier',\n",
       " 'islower',\n",
       " 'isnumeric',\n",
       " 'isprintable',\n",
       " 'isspace',\n",
       " 'istitle',\n",
       " 'isupper',\n",
       " 'join',\n",
       " 'ljust',\n",
       " 'lower',\n",
       " 'lstrip',\n",
       " 'maketrans',\n",
       " 'partition',\n",
       " 'removeprefix',\n",
       " 'removesuffix',\n",
       " 'replace',\n",
       " 'rfind',\n",
       " 'rindex',\n",
       " 'rjust',\n",
       " 'rpartition',\n",
       " 'rsplit',\n",
       " 'rstrip',\n",
       " 'split',\n",
       " 'splitlines',\n",
       " 'startswith',\n",
       " 'strip',\n",
       " 'swapcase',\n",
       " 'title',\n",
       " 'translate',\n",
       " 'upper',\n",
       " 'zfill']"
      ]
     },
     "execution_count": 142,
     "metadata": {},
     "output_type": "execute_result"
    }
   ],
   "source": [
    "# 문자열을 다룰 수 이쓴ㄴ 함수 목록\n",
    "dir(str)"
   ]
  },
  {
   "cell_type": "code",
   "execution_count": 143,
   "id": "48a0a019-3a49-4295-8f27-7830c15ced77",
   "metadata": {},
   "outputs": [
    {
     "data": {
      "text/plain": [
       "('PYTHON IS EASY. PYTHON IS SMART.', 32)"
      ]
     },
     "execution_count": 143,
     "metadata": {},
     "output_type": "execute_result"
    }
   ],
   "source": [
    "temp='Python is easy. Python is smart.'\n",
    "#     01234567890123456789012345678901\n",
    "temp.upper(), len(temp)"
   ]
  },
  {
   "cell_type": "code",
   "execution_count": 154,
   "id": "2a238715-37e2-4fc6-8116-46046f0ba8f3",
   "metadata": {},
   "outputs": [
    {
     "name": "stdout",
     "output_type": "stream",
     "text": [
      "첫번째 글자:P,마지막글자:.\n",
      "upper: PYTHON IS EASY. PYTHON IS SMART.\n",
      "첫번째만 대문자 Python is easy. python is smart.\n",
      "title() Python Is Easy. Python Is Smart.\n",
      "count() 2\n",
      "find() 0\n",
      "rfind() 0\n",
      "replace(Python,' '):   is easy.   is smart.\n",
      "startswith(): True\n"
     ]
    }
   ],
   "source": [
    "print(\"첫번째 글자:{},마지막글자:{}\".format(temp[0],temp[-1]))\n",
    "print('upper:',temp.upper())\n",
    "print('첫번째만 대문자',temp.capitalize())\n",
    "print('title()',temp.title())      \n",
    "print('count()',temp.count('Python'))\n",
    "print('find()',temp.find('Python'))\n",
    "print('rfind()',temp.find('Python'))\n",
    "print(\"replace(Python,' '):\",temp.replace('Python',' '))\n",
    "print(\"startswith():\",temp.startswith('Py'))"
   ]
  },
  {
   "cell_type": "code",
   "execution_count": 159,
   "id": "b04f64aa-c856-4b0b-a5a7-8e6016164b91",
   "metadata": {},
   "outputs": [
    {
     "name": "stdout",
     "output_type": "stream",
     "text": [
      "temp: [    Python         ]\n",
      "strip: [Python]\n",
      "lstrip: [Python         ]\n",
      "rstrip: [    Python]\n"
     ]
    }
   ],
   "source": [
    "temp=\"    Python         \"\n",
    "print(\"temp: [{}]\".format(temp))\n",
    "print(\"strip: [{}]\".format(temp.strip()))\n",
    "print(\"lstrip: [{}]\".format(temp.lstrip()))\n",
    "print(\"rstrip: [{}]\".format(temp.rstrip()))"
   ]
  },
  {
   "cell_type": "code",
   "execution_count": 160,
   "id": "c2ffd9bd-7216-44ff-9c6f-527dff0b05f6",
   "metadata": {},
   "outputs": [
    {
     "name": "stdout",
     "output_type": "stream",
     "text": [
      "space 단위로 분리 list로 반환: ['Python', 'is', 'easy.', 'Python', 'is', 'smart.']\n"
     ]
    }
   ],
   "source": [
    "temp='Python is easy. Python is smart.'\n",
    "print('space 단위로 분리 list로 반환:',temp.split())"
   ]
  },
  {
   "cell_type": "code",
   "execution_count": 166,
   "id": "f7125ff2-71e9-4725-95f8-30f79618a10a",
   "metadata": {},
   "outputs": [
    {
     "name": "stdout",
     "output_type": "stream",
     "text": [
      "년월일 분리: ['2024', '05', '20']\n",
      "연결된 temp: 2024~05~20\n"
     ]
    }
   ],
   "source": [
    "temp=\"2024-05-20\"\n",
    "temp_list=temp.split('-') # '-' 단위로 분리 \n",
    "temp_join='~'.join(temp_list) # 리스트 요소들을 '~'를 이용하여 결합\n",
    "print(\"년월일 분리:\",temp_list)\n",
    "print(\"연결된 temp:\",temp_join)"
   ]
  },
  {
   "cell_type": "markdown",
   "id": "012badfc-0710-4440-a187-0b703307f754",
   "metadata": {},
   "source": [
    "# 7절. 날짜 다루기\n",
    "## 7.1 날짜\n"
   ]
  },
  {
   "cell_type": "code",
   "execution_count": 167,
   "id": "1d0293ef-02b4-4263-af57-b3405685f09d",
   "metadata": {},
   "outputs": [
    {
     "data": {
      "text/plain": [
       "datetime.date(2024, 5, 30)"
      ]
     },
     "execution_count": 167,
     "metadata": {},
     "output_type": "execute_result"
    }
   ],
   "source": [
    "from datetime import date # datetime 중 date만 가져오기\n",
    "someday=date(2024,5,30)\n",
    "someday\n"
   ]
  },
  {
   "cell_type": "code",
   "execution_count": 171,
   "id": "661845bd-92c3-458d-832c-3c50e24a9a0e",
   "metadata": {},
   "outputs": [
    {
     "name": "stdout",
     "output_type": "stream",
     "text": [
      "2024-05-30\n",
      "2024년 05월 30일 00시 00분\n"
     ]
    }
   ],
   "source": [
    "print(\"{}\".format(someday))\n",
    "print(\"{:%Y년 %m월 %d일 %H시 %M분}\".format(someday))"
   ]
  },
  {
   "cell_type": "code",
   "execution_count": 176,
   "id": "0ff74007-f697-4bf8-9a52-c0ff46f75ae0",
   "metadata": {},
   "outputs": [
    {
     "name": "stdout",
     "output_type": "stream",
     "text": [
      "2024년 05월 30일 12시 48분\n"
     ]
    }
   ],
   "source": [
    "from datetime import datetime\n",
    "now=datetime.today()\n",
    "print(\"{:%Y년 %m월 %d일 %H시 %M분}\".format(now))"
   ]
  },
  {
   "cell_type": "markdown",
   "id": "8d05e0c7-fe77-4254-af2d-2e94aed1026e",
   "metadata": {},
   "source": [
    "## 8.연습문제"
   ]
  },
  {
   "cell_type": "code",
   "execution_count": 179,
   "id": "62326787-93ab-416a-a22a-764188214eb3",
   "metadata": {},
   "outputs": [
    {
     "name": "stdin",
     "output_type": "stream",
     "text": [
      "이름 : 홍길동\n",
      "나이 : 23\n"
     ]
    },
    {
     "name": "stdout",
     "output_type": "stream",
     "text": [
      "[홍길동님의 나이는 23살입니다]\n"
     ]
    }
   ],
   "source": [
    "#1\n",
    "name=input('이름 :')\n",
    "age=input('나이 :')\n",
    "print('[{}님의 나이는 {}살입니다]'.format(name,age))"
   ]
  },
  {
   "cell_type": "code",
   "execution_count": 194,
   "id": "9e8beb34-c9bc-4160-93c4-6ae3c54be91d",
   "metadata": {},
   "outputs": [
    {
     "name": "stdin",
     "output_type": "stream",
     "text": [
      "첫번째 정수: 3\n",
      "두번째 정수: 0\n"
     ]
    },
    {
     "name": "stdout",
     "output_type": "stream",
     "text": [
      "두번째 정수에 0을 넣으면 안됨\n"
     ]
    }
   ],
   "source": [
    "#2\n",
    "n1=int(input('첫번째 정수:'))\n",
    "n2=int(input('두번째 정수:'))\n",
    "\n",
    "try:\n",
    "    print('덧셈:{} 뺄셈:{} 곱셈:{} 나눗셈:{} 몫:{} 나머지:{}'.format(n1+n2,n1-n2,n1*n2,n1/n2,n1//n2,n1%n2))\n",
    "except:#예외처리\n",
    "    print('두번째 정수에 0을 넣으면 안됨')"
   ]
  },
  {
   "cell_type": "code",
   "execution_count": 193,
   "id": "1278e633-7d0c-41e5-8678-e6ca4e204a0a",
   "metadata": {},
   "outputs": [
    {
     "name": "stdout",
     "output_type": "stream",
     "text": [
      "World Hello\n"
     ]
    }
   ],
   "source": [
    "#3\n",
    "str_='Hello World'\n",
    "ans=str_.split()\n",
    "print(ans[1], ans[0])"
   ]
  },
  {
   "cell_type": "code",
   "execution_count": null,
   "id": "db3675dc-044c-43f2-8965-625539152756",
   "metadata": {},
   "outputs": [],
   "source": [
    "#4'abcdef'=>'bcdefa'(문자슬라이싱이용)"
   ]
  },
  {
   "cell_type": "code",
   "execution_count": 196,
   "id": "be7082f8-e71f-4ad5-8c3c-cc8bd2c7b0c8",
   "metadata": {},
   "outputs": [
    {
     "name": "stdout",
     "output_type": "stream",
     "text": [
      "fedcba\n"
     ]
    }
   ],
   "source": [
    "#5\n",
    "x='abcdef'\n",
    "print(x[::-1])"
   ]
  },
  {
   "cell_type": "code",
   "execution_count": null,
   "id": "00197bcd-5e72-4550-9779-4f44d8dcc03b",
   "metadata": {},
   "outputs": [],
   "source": [
    "#6\n",
    "C=int(intput('섭씨온도:'))\n",
    "F=(C*1.8)+32\n"
   ]
  },
  {
   "cell_type": "code",
   "execution_count": null,
   "id": "fb129b0a-527f-43f8-9614-9c17f3524411",
   "metadata": {},
   "outputs": [],
   "source": []
  }
 ],
 "metadata": {
  "kernelspec": {
   "display_name": "Python 3 (ipykernel)",
   "language": "python",
   "name": "python3"
  },
  "language_info": {
   "codemirror_mode": {
    "name": "ipython",
    "version": 3
   },
   "file_extension": ".py",
   "mimetype": "text/x-python",
   "name": "python",
   "nbconvert_exporter": "python",
   "pygments_lexer": "ipython3",
   "version": "3.11.7"
  }
 },
 "nbformat": 4,
 "nbformat_minor": 5
}
