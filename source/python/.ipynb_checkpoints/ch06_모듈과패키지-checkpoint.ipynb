{
 "cells": [
  {
   "cell_type": "markdown",
   "id": "fe54e287-9c25-48d8-a758-82a888f242ca",
   "metadata": {},
   "source": [
    "<font color=\"79e5cb\" size=\"6\"><b>ch06 모듈과 패키지<b/></font>"
   ]
  },
  {
   "cell_type": "markdown",
   "id": "526454c4-e5ca-495c-b33b-ee2ab86e1044",
   "metadata": {},
   "source": [
    "# 1절 모듈 사용하기\n",
    "- 모듈은 함수, 변수, 클래스가 담긴 파일(*.py)\n",
    "- 파이썬 표준 모듈 200여개\n",
    "- 표준 모듈 외에 모듈 사용하려면 라이브러리를 설치:   \n",
    "                      \"pip install 라이브러리명\"   \"conda install 라이브러리명\"   "
   ]
  },
  {
   "cell_type": "markdown",
   "id": "a5bde631-f502-451c-8ce8-03c2fa15f893",
   "metadata": {},
   "source": [
    "# 2절 사용자 정의 모듈\n",
    "- 모듈을 가져오는 순서 (1)표준모듈 (2)sys.path 변수에 저장된 경로"
   ]
  },
  {
   "cell_type": "code",
   "execution_count": 3,
   "id": "44085962-4e78-43e3-ba37-1d20c204d640",
   "metadata": {},
   "outputs": [],
   "source": [
    "import sys\n",
    "sys.path.append('C:\\JiYoon\\\\C_python\\\\source\\pylib')"
   ]
  },
  {
   "cell_type": "code",
   "execution_count": 4,
   "id": "000826ca-8a6b-46cb-a05e-b7335bdbced5",
   "metadata": {},
   "outputs": [
    {
     "data": {
      "text/plain": [
       "['C:\\\\JiYoon\\\\C_python\\\\source\\\\python',\n",
       " 'C:\\\\Users\\\\USER\\\\anaconda3\\\\python311.zip',\n",
       " 'C:\\\\Users\\\\USER\\\\anaconda3\\\\DLLs',\n",
       " 'C:\\\\Users\\\\USER\\\\anaconda3\\\\Lib',\n",
       " 'C:\\\\Users\\\\USER\\\\anaconda3',\n",
       " '',\n",
       " 'C:\\\\Users\\\\USER\\\\anaconda3\\\\Lib\\\\site-packages',\n",
       " 'C:\\\\Users\\\\USER\\\\anaconda3\\\\Lib\\\\site-packages\\\\win32',\n",
       " 'C:\\\\Users\\\\USER\\\\anaconda3\\\\Lib\\\\site-packages\\\\win32\\\\lib',\n",
       " 'C:\\\\Users\\\\USER\\\\anaconda3\\\\Lib\\\\site-packages\\\\Pythonwin',\n",
       " 'C:\\\\JiYoon\\\\C_python\\\\source\\\\pylib']"
      ]
     },
     "execution_count": 4,
     "metadata": {},
     "output_type": "execute_result"
    }
   ],
   "source": [
    "sys.path"
   ]
  },
  {
   "cell_type": "markdown",
   "id": "5c49366e-74fa-4cb0-87fb-ca47098ea3e0",
   "metadata": {},
   "source": [
    "```python\n",
    "1. import A #A모듈을 가져옴\n",
    "2. import A as B #A모듈을 B이름으로 가져옴\n",
    "3. from A import B #A모듈 안의 B함수 가져옴\n",
    "4. from A import B as C #A모듈 안의 B함수를 C이름으로 가져옴\n",
    "5. from A.B import C #A패키지 안의 B모듈의 C함수를 가져옴\n",
    "6. from A.B import C as D #A패키지 안의 B모듈의 C함수를 D이름으로 가져옴\n",
    "```"
   ]
  },
  {
   "cell_type": "code",
   "execution_count": 23,
   "id": "6f4d13e8-0b05-44fd-8427-961919babf3b",
   "metadata": {},
   "outputs": [
    {
     "name": "stdout",
     "output_type": "stream",
     "text": [
      "0, 1, 1, 2, 3, 5, 8, 13, 21, 34, 55, 89, \n"
     ]
    }
   ],
   "source": [
    "#1\n",
    "import fibonacci\n",
    "fibonacci.fibonacci(100)"
   ]
  },
  {
   "cell_type": "code",
   "execution_count": 24,
   "id": "a378c040-39f3-4f09-b25f-bcd4bf510891",
   "metadata": {},
   "outputs": [],
   "source": [
    "del fibonacci"
   ]
  },
  {
   "cell_type": "code",
   "execution_count": 25,
   "id": "ac1f0626-0711-49bd-84f1-cfe22224af69",
   "metadata": {},
   "outputs": [
    {
     "name": "stdout",
     "output_type": "stream",
     "text": [
      "0, 1, 1, 2, 3, 5, 8, 13, 21, 34, 55, 89, 144, 233, 377, 610, 987, \n"
     ]
    }
   ],
   "source": [
    "#2\n",
    "import fibonacci as fibo\n",
    "fibo.fibonacci(1000)"
   ]
  },
  {
   "cell_type": "code",
   "execution_count": 26,
   "id": "668fbed9-6280-424a-af72-2f4bb2ec2040",
   "metadata": {},
   "outputs": [],
   "source": [
    "del fibo"
   ]
  },
  {
   "cell_type": "code",
   "execution_count": 27,
   "id": "ba6b0f9d-9b98-48b6-93d8-32ce5c06e51a",
   "metadata": {},
   "outputs": [
    {
     "name": "stdout",
     "output_type": "stream",
     "text": [
      "0, 1, 1, 2, 3, 5, 8, 13, 21, 34, 55, 89, \n"
     ]
    }
   ],
   "source": [
    "#3\n",
    "from fibonacci import fibonacci # ,이용해서 다수의 함수 로드 가능\n",
    "fibonacci(100)"
   ]
  },
  {
   "cell_type": "code",
   "execution_count": 28,
   "id": "1d74dec8-5023-4c15-8deb-2cc0404d20c7",
   "metadata": {},
   "outputs": [],
   "source": [
    "del fibonacci"
   ]
  },
  {
   "cell_type": "code",
   "execution_count": 29,
   "id": "98547b46-70e2-4083-9adb-98eca96af080",
   "metadata": {},
   "outputs": [
    {
     "name": "stdout",
     "output_type": "stream",
     "text": [
      "0, 1, 1, 2, 3, 5, 8, 13, 21, \n"
     ]
    }
   ],
   "source": [
    "#4\n",
    "from fibonacci import fibonacci as fibo\n",
    "fibo(30)"
   ]
  },
  {
   "cell_type": "code",
   "execution_count": 31,
   "id": "c4541589-61f9-4672-a122-1a14a411b700",
   "metadata": {},
   "outputs": [],
   "source": [
    "del fibo"
   ]
  },
  {
   "cell_type": "code",
   "execution_count": 32,
   "id": "bfe64b64-7171-495d-a098-a22b92a0716e",
   "metadata": {},
   "outputs": [
    {
     "data": {
      "text/plain": [
       "['__builtins__',\n",
       " '__cached__',\n",
       " '__doc__',\n",
       " '__file__',\n",
       " '__loader__',\n",
       " '__name__',\n",
       " '__package__',\n",
       " '__spec__',\n",
       " 'fibonacci']"
      ]
     },
     "execution_count": 32,
     "metadata": {},
     "output_type": "execute_result"
    }
   ],
   "source": [
    "import fibonacci\n",
    "dir(fibonacci)"
   ]
  },
  {
   "cell_type": "code",
   "execution_count": null,
   "id": "99226038-6e67-4ef1-93ab-65f383b3c420",
   "metadata": {},
   "outputs": [],
   "source": []
  }
 ],
 "metadata": {
  "kernelspec": {
   "display_name": "Python 3 (ipykernel)",
   "language": "python",
   "name": "python3"
  },
  "language_info": {
   "codemirror_mode": {
    "name": "ipython",
    "version": 3
   },
   "file_extension": ".py",
   "mimetype": "text/x-python",
   "name": "python",
   "nbconvert_exporter": "python",
   "pygments_lexer": "ipython3",
   "version": "3.11.7"
  }
 },
 "nbformat": 4,
 "nbformat_minor": 5
}
