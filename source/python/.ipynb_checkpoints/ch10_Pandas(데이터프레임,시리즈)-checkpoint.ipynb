{
 "cells": [
  {
   "cell_type": "markdown",
   "id": "a9a480c9-1326-4148-8919-ce5ac0c5122c",
   "metadata": {},
   "source": [
    "<font color=\"violet\" size=\"6\"><b>ch10 Pandas(데이터프레임,시리즈)<b/></font>\n",
    "- pip install pandas (cmd창에서 실행)"
   ]
  },
  {
   "cell_type": "markdown",
   "id": "c6e6e146-98c0-47a8-b79c-c279cfb8230b",
   "metadata": {},
   "source": [
    "# 1절 판다스 패키지\n",
    "- 데이터 분석을 위한 반드시 알아야 할 패키지\n",
    "- numpy를 기반으로 하며, 다른 라이브러리와 잘 통합되어 설계\n",
    "- 1차원 구조를 갖는 시리즈, 2차원 구조를 갖는 데이터 프레임을 제공\n",
    "- 결측치처리, 크기변경(열삭제/추가, 행삭제/추가), 데이터정렬, 데이터분할/병합, 통계처리, 부분데이터 추출, 파일입출력, 레이블링, 시각화용이, ...)"
   ]
  },
  {
   "cell_type": "code",
   "execution_count": null,
   "id": "5b65ecde-81de-4434-8e74-daae6af0b757",
   "metadata": {},
   "outputs": [],
   "source": [
    "import numpy as np\n",
    "np.pi"
   ]
  },
  {
   "cell_type": "code",
   "execution_count": null,
   "id": "f23d272f-f0ea-42ca-845b-83e0f98d944d",
   "metadata": {},
   "outputs": [],
   "source": [
    "import pandas as pd\n",
    "pd.__version__"
   ]
  },
  {
   "cell_type": "code",
   "execution_count": null,
   "id": "00206a2b-897c-4a0f-8250-68dc2b9f731d",
   "metadata": {},
   "outputs": [],
   "source": [
    "data=pd.read_json('data/ch10_member1.json',encoding=\"cp949\")#디폴트가 UTF-8\n",
    "print(type(data))\n",
    "data"
   ]
  },
  {
   "cell_type": "code",
   "execution_count": null,
   "id": "2e3ddb6e-cc2d-4a6e-bf2a-8e9c3c8a8f60",
   "metadata": {},
   "outputs": [],
   "source": [
    "data=pd.read_json('data/ch10_member2.json')#UTF-8로 read, encoding 다르면 에러\n",
    "print(type(data))\n",
    "data"
   ]
  },
  {
   "cell_type": "code",
   "execution_count": null,
   "id": "fb2a3b12-d134-4cc4-abcd-27295d002d9e",
   "metadata": {},
   "outputs": [],
   "source": [
    "member1=pd.read_csv('data/ch09_member1.csv',header=None, names=['name','age','email','address'],encoding='utf-8')\n",
    "member1"
   ]
  },
  {
   "cell_type": "markdown",
   "id": "3fb06993-6ace-482b-89c4-3590563e86c5",
   "metadata": {},
   "source": [
    "# 2절 데이터 프레임 만들기\n",
    "## 2.1 딕셔너리를 이용해 데이터프레임 만들기"
   ]
  },
  {
   "cell_type": "code",
   "execution_count": null,
   "id": "09cc07af-a485-461a-a784-7e4763ec840b",
   "metadata": {},
   "outputs": [],
   "source": [
    "d={'name':['홍길동','신길동'],'age':[20,30]}\n",
    "df=pd.DataFrame(data=d)\n",
    "df"
   ]
  },
  {
   "cell_type": "markdown",
   "id": "e0c9f05e-c036-4e96-bfd2-10944dbd1955",
   "metadata": {},
   "source": [
    "## 2.2 리스트를 이용해 데이터프레임 만들기"
   ]
  },
  {
   "cell_type": "code",
   "execution_count": null,
   "id": "8125ecf5-23a3-4b41-932c-7c9344c7dcbf",
   "metadata": {},
   "outputs": [],
   "source": [
    "d=[{'name':'홍길동','age':20},{'name':'신길동','age':30}]"
   ]
  },
  {
   "cell_type": "code",
   "execution_count": null,
   "id": "d3347154-07e4-43b7-872c-895eb3b192b3",
   "metadata": {},
   "outputs": [],
   "source": [
    "df=pd.DataFrame(data=d)\n"
   ]
  },
  {
   "cell_type": "markdown",
   "id": "bb4563af-9e83-499a-bdee-13b9c088fdce",
   "metadata": {},
   "source": [
    "## 2.3 read_csv()"
   ]
  },
  {
   "cell_type": "code",
   "execution_count": null,
   "id": "a1b8ae9a-e245-4a13-9efc-7acb93900587",
   "metadata": {},
   "outputs": [],
   "source": [
    "df= pd.read_csv('data/전국 평균 평당 분양가격(2013년 9월부터 2015년 8월까지).csv',encoding='cp949')\n",
    "df.shape #행, 열\n",
    "df"
   ]
  },
  {
   "cell_type": "code",
   "execution_count": null,
   "id": "ca913e37-57a5-466d-9f1c-8e5c3ada6c7f",
   "metadata": {},
   "outputs": [],
   "source": [
    "df.head(2)"
   ]
  },
  {
   "cell_type": "code",
   "execution_count": null,
   "id": "aecaba99-8eb3-4b25-9044-93bde65c239b",
   "metadata": {},
   "outputs": [],
   "source": [
    "pd.options.display.max_columns # 최대 데이터 프레임의 표현될 수 있는 열 수"
   ]
  },
  {
   "cell_type": "markdown",
   "id": "129166da-0e05-4459-9c4c-550e75869877",
   "metadata": {},
   "source": [
    "## 2.4 sklearn, statsmodels, seaborn 등의 라이브러리에서 데이터프레임 불러오기"
   ]
  },
  {
   "cell_type": "code",
   "execution_count": null,
   "id": "0743bacf-d6a5-498a-859a-6bb65160b5c6",
   "metadata": {},
   "outputs": [],
   "source": [
    "import statsmodels.api as sm\n",
    "iris=sm.datasets.get_rdataset(\"iris\",package=\"datasets\").data\n",
    "iris.tail() #끝 5행"
   ]
  },
  {
   "cell_type": "markdown",
   "id": "b5df07b5-899c-454e-99a9-c95f7a164a98",
   "metadata": {},
   "source": [
    "# 3절 이름(열,행) 지정하기"
   ]
  },
  {
   "cell_type": "code",
   "execution_count": null,
   "id": "37ab7d0c-009e-4360-9ff0-dcc38c3c98d8",
   "metadata": {},
   "outputs": [],
   "source": [
    "member_df=pd.read_csv('data/ch09_member1.csv',header=None)\n",
    "member_df"
   ]
  },
  {
   "cell_type": "code",
   "execution_count": null,
   "id": "6c228161-ddb2-4460-899c-25bf7407eefb",
   "metadata": {},
   "outputs": [],
   "source": [
    "#열이름 지정하기\n",
    "member_df.columns=['name','age','email','address']\n",
    "member_df"
   ]
  },
  {
   "cell_type": "code",
   "execution_count": null,
   "id": "5f23bdd3-9238-41ac-a4de-b6e3cb05e38e",
   "metadata": {},
   "outputs": [],
   "source": [
    "member_df=pd.concat([member_df,member_df]) # 행 이름이 연속되지 않음\n",
    "member_df"
   ]
  },
  {
   "cell_type": "code",
   "execution_count": null,
   "id": "4a012e16-0717-4169-81e6-2ee990123dc8",
   "metadata": {},
   "outputs": [],
   "source": [
    "member_df.index"
   ]
  },
  {
   "cell_type": "code",
   "execution_count": null,
   "id": "bf6e0288-e06e-4032-88d8-6a6d45bb3e4e",
   "metadata": {},
   "outputs": [],
   "source": [
    "member_df.index=range(len(member_df))\n",
    "member_df"
   ]
  },
  {
   "cell_type": "code",
   "execution_count": null,
   "id": "5a7e90d2-ffd5-4aa2-ae64-ad1c28a25e96",
   "metadata": {},
   "outputs": [],
   "source": [
    "# name열을 행(index)이름으로\n",
    "#member_df=member_df.set_index(\"name\")#inplace=false적용된 내용 return\n",
    "member_df.set_index(\"name\",inplace=True)#inplace=true 데이터프레임에 적용\n",
    "member_df"
   ]
  },
  {
   "cell_type": "code",
   "execution_count": null,
   "id": "3e7cbb61-e5c1-4952-88cb-80ba3f957c00",
   "metadata": {},
   "outputs": [],
   "source": [
    "#행 이름을 컬럼에 편입시키기\n",
    "#member_df=member_df.reset_index()#reset 적용한 것을 return\n",
    "member_df.reset_index(inplace=True) #reset을 member_df에 적용\n",
    "member_df"
   ]
  },
  {
   "cell_type": "code",
   "execution_count": null,
   "id": "3854da7b-f369-4018-bcce-c96a1497fdb5",
   "metadata": {},
   "outputs": [],
   "source": [
    "name=member_df['name'] #1차원 데이터 시리즈\n",
    "print(type(name))\n",
    "name"
   ]
  },
  {
   "cell_type": "markdown",
   "id": "c7d0d8b0-6438-4f13-8c48-2aa721225c95",
   "metadata": {},
   "source": [
    "member=member_df.loc[0] # 0번 인덱스 행 =>시리즈(1차원)\n",
    "print(type(member))\n",
    "member"
   ]
  },
  {
   "cell_type": "code",
   "execution_count": null,
   "id": "f5ca7cc4-c17b-412e-a163-d8b72c8fb703",
   "metadata": {},
   "outputs": [],
   "source": [
    "member_df.info()"
   ]
  },
  {
   "cell_type": "code",
   "execution_count": null,
   "id": "3631a6eb-0376-46fa-84cb-06b9b7d8d52e",
   "metadata": {},
   "outputs": [],
   "source": [
    "#타입 바꾸기\n",
    "member_df['age']=member_df['age'].astype('float64')#데이터 프레임의 열의 타입을 변경\n",
    "member_df.info()"
   ]
  },
  {
   "cell_type": "markdown",
   "id": "5941135e-9916-425f-857b-c13064fdbdba",
   "metadata": {},
   "source": [
    "# 4절 부분 데이터 조회\n",
    "- 특정열, 특정행, 특정행의 특정열, 특정조건의 행 모든열, 특정조건의 행의 특정열"
   ]
  },
  {
   "cell_type": "code",
   "execution_count": null,
   "id": "60c0a5f3-ee4e-47ae-8692-ce3f5565cbf1",
   "metadata": {},
   "outputs": [],
   "source": [
    "member=pd.read_csv('data/ch09_member2.csv')\n",
    "member"
   ]
  },
  {
   "cell_type": "markdown",
   "id": "ac504b1b-d1c6-42df-84ed-8e8e503abae8",
   "metadata": {},
   "source": [
    "## 4.1 단일열 조회"
   ]
  },
  {
   "cell_type": "code",
   "execution_count": null,
   "id": "5c9a4146-05ef-4ab6-9822-c058e55a0d17",
   "metadata": {},
   "outputs": [],
   "source": [
    "member['name'] # 시리즈\n",
    "member['name'].to_frame() #시리즈를 데이터프레임으로"
   ]
  },
  {
   "cell_type": "markdown",
   "id": "5dd06d22-7eee-46a5-be59-a7a9111d9842",
   "metadata": {},
   "source": [
    "## 4.2 loc[]을 이용한 이름(열,행)으로 조회\n",
    "- 단일행, 여러열, 행과 열 동시에 접근\n",
    "- member.loc[행,열] #행/열 슬라이싱 가능(0~4행:loc[[0:5],열])\n",
    "- "
   ]
  },
  {
   "cell_type": "code",
   "execution_count": null,
   "id": "2e689dae-0295-498f-8bcd-822b11903559",
   "metadata": {},
   "outputs": [],
   "source": [
    "# 단일행\n",
    "member.loc[0] #시리즈"
   ]
  },
  {
   "cell_type": "code",
   "execution_count": null,
   "id": "bb646045-d160-4686-b24c-084455435f20",
   "metadata": {},
   "outputs": [],
   "source": [
    "# 여러행\n",
    "member.loc[0:5] #0~4행"
   ]
  },
  {
   "cell_type": "code",
   "execution_count": null,
   "id": "59cebe80-c58f-4a4d-9369-6015901f68e1",
   "metadata": {},
   "outputs": [],
   "source": [
    "# 여러열\n",
    "member.loc[:,'name']\n",
    "#name열부터 email열까지 ==age열포함\n",
    "member.loc[:,'name':'email']#from:to:step"
   ]
  },
  {
   "cell_type": "code",
   "execution_count": null,
   "id": "6c5c9f57-2221-42da-a97d-b3ec96b0b40a",
   "metadata": {},
   "outputs": [],
   "source": [
    "#여러열(name열과 email 열)\n",
    "member.loc[:,['name','email']]"
   ]
  },
  {
   "cell_type": "code",
   "execution_count": null,
   "id": "4b092fbd-c3ab-4cad-b25a-46c689e18537",
   "metadata": {},
   "outputs": [],
   "source": [
    "#1행부터 4행까지 name과 email\n",
    "member.loc[1:4,['name','email']]"
   ]
  },
  {
   "cell_type": "code",
   "execution_count": null,
   "id": "bb5d3f7d-5340-4915-8458-3418da230fc4",
   "metadata": {},
   "outputs": [],
   "source": [
    "#1행과 4행, name,email,address\n",
    "member.loc[[1,4],['name','email','address']]"
   ]
  },
  {
   "cell_type": "code",
   "execution_count": null,
   "id": "183dd428-22a0-4881-b163-1aaa15c5c401",
   "metadata": {},
   "outputs": [],
   "source": [
    "#1행~4행까지 name~email열 출력\n",
    "member.loc[1:4,'name':'address']"
   ]
  },
  {
   "cell_type": "markdown",
   "id": "7518b148-6b7f-4044-b52f-087c878bd9a1",
   "metadata": {},
   "source": [
    "## 4.3 iloc[]을 이용한 숫자(index)로 조회\n",
    "- 몇번째 행부터 몇번째 행 앞까지, 몇번째 열부터 몇번째 열 앞까지;\n",
    "- 음수가능"
   ]
  },
  {
   "cell_type": "code",
   "execution_count": null,
   "id": "e94f5dd5-122e-4d68-ade6-d8748fb780e3",
   "metadata": {},
   "outputs": [],
   "source": [
    "member.iloc[0:4] #slicing from:to:step"
   ]
  },
  {
   "cell_type": "code",
   "execution_count": null,
   "id": "d8de5d86-22bf-4123-86db-8e5a2019a6b8",
   "metadata": {},
   "outputs": [],
   "source": [
    "member.iloc[0,0:3] #0열부터 3열 앞까지"
   ]
  },
  {
   "cell_type": "code",
   "execution_count": null,
   "id": "71a8aa6c-bc6a-4f27-8898-24693e739259",
   "metadata": {},
   "outputs": [],
   "source": [
    "#맨 오른쪽 열을 제외하고 입력\n",
    "member.iloc[:,:-1]"
   ]
  },
  {
   "cell_type": "code",
   "execution_count": null,
   "id": "287047a0-80db-436f-b4b9-255973560cb3",
   "metadata": {},
   "outputs": [],
   "source": [
    "#짝수번째 행의 모든 열 출력\n",
    "member.iloc[::2,0:2]"
   ]
  },
  {
   "cell_type": "code",
   "execution_count": null,
   "id": "822cb676-e830-4198-b4de-a5cf01011fda",
   "metadata": {},
   "outputs": [],
   "source": [
    "#member의 행순서를 역순 출력(맨 마지막 열을 제외하고)\n",
    "member.iloc[::-1,:-1]"
   ]
  },
  {
   "cell_type": "markdown",
   "id": "a4f00a0e-476a-4d32-9ba5-53aaa06a8029",
   "metadata": {},
   "source": [
    "## 4.4 조건으로 조회하기"
   ]
  },
  {
   "cell_type": "code",
   "execution_count": null,
   "id": "d4192653-ed10-42aa-b953-665bed23bd63",
   "metadata": {},
   "outputs": [],
   "source": [
    "member.loc[member['age']>30] #인덱스 대신 조건"
   ]
  },
  {
   "cell_type": "code",
   "execution_count": null,
   "id": "16ec82a2-817d-424d-811f-1e68558917be",
   "metadata": {},
   "outputs": [],
   "source": [
    "address='서울시 강동구'\n",
    "address.find('강동구')"
   ]
  },
  {
   "cell_type": "markdown",
   "id": "4c05731f-fe6c-47f8-8bde-50b49f7d661f",
   "metadata": {},
   "source": [
    "#시리즈에 문자함수\n",
    "https://pandas.pydata.org/pandas-docs/stable/reference/series.html#string-handling"
   ]
  },
  {
   "cell_type": "code",
   "execution_count": null,
   "id": "2e922dcb-5ee7-4c03-b127-1689423856ff",
   "metadata": {},
   "outputs": [],
   "source": [
    "member['address'].str.find('강서구')!=-1"
   ]
  },
  {
   "cell_type": "code",
   "execution_count": null,
   "id": "79b4d90c-162f-4bb9-878e-b7c91666f9de",
   "metadata": {},
   "outputs": [],
   "source": [
    "#address가 강서구인 데이터의 name,age, address를 출력\n",
    "member.loc[member['address'].str.find('강서구')!=-1,['name','age','address']]"
   ]
  },
  {
   "cell_type": "code",
   "execution_count": null,
   "id": "5a47db7d-afb6-4aec-b841-03c895aaa7c0",
   "metadata": {},
   "outputs": [],
   "source": [
    "member.isna().sum()#결측치여부"
   ]
  },
  {
   "cell_type": "code",
   "execution_count": null,
   "id": "e62b8ec9-f85b-4f89-9d31-ddec75abf3b6",
   "metadata": {},
   "outputs": [],
   "source": [
    "# iris\n",
    "import seaborn as sns\n",
    "iris_df=sns.load_dataset('iris')\n",
    "iris_df"
   ]
  },
  {
   "cell_type": "code",
   "execution_count": null,
   "id": "bd3bcc97-c4fb-430e-a5b2-5ce4876cb41c",
   "metadata": {},
   "outputs": [],
   "source": [
    "# 0~49 setosa/ 50~99: sesicolor/ 100~149: virginica\n",
    "iris_df.loc[100:149].head()"
   ]
  },
  {
   "cell_type": "code",
   "execution_count": null,
   "id": "ec834a85-6ff2-42b1-a9a6-e931ba6a4544",
   "metadata": {},
   "outputs": [],
   "source": [
    "#species가 versicolor인 데이터의 상위 3개의 모든열\n",
    "iris_df[iris_df['species']=='versicolor'].head(3)"
   ]
  },
  {
   "cell_type": "code",
   "execution_count": null,
   "id": "fcc2f040-5236-4243-b60e-b31c8872b3ec",
   "metadata": {},
   "outputs": [],
   "source": [
    "#species가 versicolor인 데이터의 맨 마지막 열을 제외한 데이터\n",
    "iris_df.loc[iris_df['species']=='versicolor',\"sepal_length\":\"petal_width\"].head(3)"
   ]
  },
  {
   "cell_type": "code",
   "execution_count": null,
   "id": "2b6acb88-e671-420a-af0e-8346213e93a2",
   "metadata": {},
   "outputs": [],
   "source": [
    "#species가 versicolor인 데이터의 맨 마지막 열을 제외한 데이터\n",
    "#iloc을 사용할때는 index만 사용 가능하므로 조건 뒤에 []로 뺌\n",
    "iris_df.iloc[:,:-1][iris_df['species']=='versicolor']"
   ]
  },
  {
   "cell_type": "code",
   "execution_count": null,
   "id": "2b9d65fe-58a9-4815-aa28-83b659f3e81b",
   "metadata": {},
   "outputs": [],
   "source": [
    "#조건이 2개인 경우\n",
    "#sepal_length>6.2 & species==versicolor\n",
    "#iris_df['species'] == iris_df.species\n",
    "iris_df[(iris_df.species=='versicolor') & (iris_df.sepal_length>6.2)]"
   ]
  },
  {
   "cell_type": "code",
   "execution_count": null,
   "id": "0dd871d8-63d9-4371-b385-438303259466",
   "metadata": {},
   "outputs": [],
   "source": [
    "#sepal_length>6.2 & species==versicolor인 데이터의 sepal_length와 species, sepal_width를 출력\n",
    "iris_df.loc[(iris_df.species=='versicolor') & (iris_df.sepal_length>6.2),['sepal_length','sepal_width','species']]"
   ]
  },
  {
   "cell_type": "markdown",
   "id": "f0c4b465-c132-4910-8ddf-ddc9b3c49a6b",
   "metadata": {},
   "source": [
    "# 5절 데이터 추가 및 삭제"
   ]
  },
  {
   "cell_type": "code",
   "execution_count": null,
   "id": "deaf22bf-98d1-4358-afaf-450fc2aee673",
   "metadata": {},
   "outputs": [],
   "source": [
    "member=pd.read_csv('data/ch09_member2.csv')\n",
    "member"
   ]
  },
  {
   "cell_type": "code",
   "execution_count": null,
   "id": "56cbca3c-9477-4332-86ee-d752a2775f71",
   "metadata": {},
   "outputs": [],
   "source": [
    "import numpy as np\n",
    "member['major']=['컴공','전기','전자','기계','AI',np.nan]\n",
    "member"
   ]
  },
  {
   "cell_type": "code",
   "execution_count": null,
   "id": "f5b18ffb-48cf-41e3-8d31-24e2d25b39f8",
   "metadata": {},
   "outputs": [],
   "source": [
    "hobby=pd.DataFrame({'hobby':['놀기','자기','읽기','먹기','공부','명상']})\n",
    "hobby"
   ]
  },
  {
   "cell_type": "code",
   "execution_count": null,
   "id": "a9e63899-53e0-415c-96e3-8c5d85985c2e",
   "metadata": {},
   "outputs": [],
   "source": [
    "#데이터 추가\n",
    "pd.concat([member,hobby],axis=1) #axis=0: 행병합, axis=1: 열병합\n",
    "member"
   ]
  },
  {
   "cell_type": "code",
   "execution_count": null,
   "id": "702dbf8d-db8c-45a9-b60b-9661f05957d4",
   "metadata": {},
   "outputs": [],
   "source": [
    "#열삭제: axis=1\n",
    "member.drop(['major'],axis=1,inplace=True)\n",
    "member"
   ]
  },
  {
   "cell_type": "code",
   "execution_count": null,
   "id": "d6c7ba2a-32a2-478b-9f81-82970f8e9aa0",
   "metadata": {},
   "outputs": [],
   "source": [
    "member.index=range(len(member)) #index정리\n",
    "member"
   ]
  },
  {
   "cell_type": "markdown",
   "id": "e0cd8fb5-9826-4ba5-8b1b-c8bc34720426",
   "metadata": {},
   "source": [
    "# 6절 정렬"
   ]
  },
  {
   "cell_type": "code",
   "execution_count": null,
   "id": "2f1510ae-40e5-4852-bd52-8fc0c348d8c0",
   "metadata": {},
   "outputs": [],
   "source": [
    "#index기준 내림차순/오름차순\n",
    "member=member.sort_index(axis=0,ascending=True)\n",
    "member"
   ]
  },
  {
   "cell_type": "code",
   "execution_count": null,
   "id": "d4976999-d626-4ee8-b031-18c30a0eb7b8",
   "metadata": {},
   "outputs": [],
   "source": [
    "#특정열의 값 기준 정렬\n",
    "#inplace=True하거나 member=member.sort~에 다시 할당\n",
    "member.sort_values(by=['name','age'],ascending=False,inplace=True)\n",
    "member"
   ]
  },
  {
   "cell_type": "markdown",
   "id": "8bc8fd8d-a500-40d3-ba57-6697a55ed0a9",
   "metadata": {},
   "source": [
    "# 7절 기초통계 분석\n",
    "- count: NA(결측치)를 제외한 갯수\n",
    "- min\n",
    "- max\n",
    "- sum\n",
    "- mean\n",
    "- std:표준편차\n",
    "- var:분산\n",
    "- quantile: 분위수(1사분위수,2사분위수,3사분위수)\n",
    "- median:중간값\n",
    "- corr:상관관계"
   ]
  },
  {
   "cell_type": "code",
   "execution_count": null,
   "id": "935fa0fd-cbbb-44ce-a946-deae45922eff",
   "metadata": {},
   "outputs": [],
   "source": [
    "iris_df.min(axis=0)#모든 열의  최소값\n",
    "iris_df.iloc[:,:-1].min(axis=1)#행마다 모든 열의 최솟값"
   ]
  },
  {
   "cell_type": "code",
   "execution_count": null,
   "id": "9c4d2b6d-f42b-4398-8293-f012505613f6",
   "metadata": {},
   "outputs": [],
   "source": [
    "iris_df.max()"
   ]
  },
  {
   "cell_type": "code",
   "execution_count": null,
   "id": "45445dab-0aac-4755-aea6-a18ee8ca3c2b",
   "metadata": {},
   "outputs": [],
   "source": [
    "iris_df.iloc[:,:-1].mean()"
   ]
  },
  {
   "cell_type": "code",
   "execution_count": null,
   "id": "5e82d997-f865-4a21-9d9b-1f93c1307396",
   "metadata": {},
   "outputs": [],
   "source": [
    "iris_df.iloc[:,:-1].std()"
   ]
  },
  {
   "cell_type": "code",
   "execution_count": null,
   "id": "a46f3c16-e814-4c06-8897-d3117e767ae5",
   "metadata": {},
   "outputs": [],
   "source": [
    "iris_df.describe() #수치형 데이터의 갯수, 평균, 표준편차, 최소, 사분위수, 최대"
   ]
  },
  {
   "cell_type": "code",
   "execution_count": null,
   "id": "3eaa151e-1c24-4226-a6cb-f7b8e09e755b",
   "metadata": {},
   "outputs": [],
   "source": [
    "iris_df.species.describe() #범주형데이터: 전체갯수, 가장 많은것, 가장 많은것의 갯수"
   ]
  },
  {
   "cell_type": "code",
   "execution_count": null,
   "id": "c5ba9542-5e98-412c-88dc-7331f9daa9f5",
   "metadata": {},
   "outputs": [],
   "source": [
    "iris_df.describe(include='all') # 수치형, 범주형 모두 분석"
   ]
  },
  {
   "cell_type": "code",
   "execution_count": null,
   "id": "a81492d0-bdcc-48f9-9341-8dc77c022ef6",
   "metadata": {},
   "outputs": [],
   "source": [
    "iris_df[iris_df['species'].isna()] # species가 결측치인 행을 출력"
   ]
  },
  {
   "cell_type": "markdown",
   "id": "586892f5-6061-4b12-94d8-7df8b041d46b",
   "metadata": {},
   "source": [
    "# 8절 그룹화"
   ]
  },
  {
   "cell_type": "code",
   "execution_count": null,
   "id": "413febbb-b34f-4c68-9e94-6da021ebb281",
   "metadata": {},
   "outputs": [],
   "source": [
    "iris_df.groupby('species').max()"
   ]
  },
  {
   "cell_type": "code",
   "execution_count": null,
   "id": "af00caf6-4420-433b-81be-ff738e3e088d",
   "metadata": {},
   "outputs": [],
   "source": [
    "iris_group=iris_df.groupby('species')\n",
    "iris_group.mean()"
   ]
  },
  {
   "cell_type": "markdown",
   "id": "954c9c9b-a609-4f95-a154-9f7efedb0425",
   "metadata": {},
   "source": [
    "# 9절 연습문제"
   ]
  },
  {
   "cell_type": "code",
   "execution_count": null,
   "id": "379e094e-fd0c-451f-b630-12cd447977ed",
   "metadata": {},
   "outputs": [],
   "source": [
    "iris=sns.load_dataset(\"iris\")\n",
    "iris.sample(1)"
   ]
  },
  {
   "cell_type": "code",
   "execution_count": null,
   "id": "a1470f7a-95b0-4855-9fb7-6e2567bcf3e7",
   "metadata": {},
   "outputs": [],
   "source": [
    "#1 처음 다섯개의 행\n",
    "iris.head()"
   ]
  },
  {
   "cell_type": "code",
   "execution_count": null,
   "id": "acb7d045-32f7-46d9-b476-6328d444804a",
   "metadata": {},
   "outputs": [],
   "source": [
    "#2 독립변수 x, 종속변수 y\n",
    "y=iris.loc[:,'species'].to_frame() #한열밖에 없어서 series로 나오므로 프레임으로 변형\n",
    "x=iris.iloc[:,:-1]\n",
    "x,y"
   ]
  },
  {
   "cell_type": "code",
   "execution_count": null,
   "id": "941422c6-dfcd-4f44-95d3-0c0f870ccf98",
   "metadata": {},
   "outputs": [],
   "source": [
    "#3 처음 50개의 행\n",
    "temp=iris.head(50)\n",
    "temp"
   ]
  },
  {
   "cell_type": "code",
   "execution_count": null,
   "id": "67662442-1be9-4a10-863c-bb282a4c454c",
   "metadata": {},
   "outputs": [],
   "source": [
    "#4 모든 열의 요약정보\n",
    "temp.describe(include='all')"
   ]
  },
  {
   "cell_type": "code",
   "execution_count": null,
   "id": "bd0196f7-1796-42bf-83b5-cd4d47cbd5a0",
   "metadata": {},
   "outputs": [],
   "source": [
    "#5 versicolor종의 데이터만 iris_versicolor에 저장\n",
    "iris_versicolor=iris[iris.species=='versicolor']\n",
    "iris_versicolor"
   ]
  },
  {
   "cell_type": "code",
   "execution_count": null,
   "id": "3451070e-e16f-4980-a273-44c2d7b87e71",
   "metadata": {},
   "outputs": [],
   "source": [
    "#6 x,y합해서 iris_df만들기\n",
    "iris_df=pd.concat([x,y],axis=1)\n",
    "iris_df"
   ]
  },
  {
   "cell_type": "code",
   "execution_count": null,
   "id": "cdb21eef-6b13-47a7-9487-407847a37062",
   "metadata": {},
   "outputs": [],
   "source": [
    "#7 열 평균값\n",
    "iris.describe().mean()"
   ]
  },
  {
   "cell_type": "code",
   "execution_count": null,
   "id": "b825a4d3-3b3b-4f18-b705-b008931cc2aa",
   "metadata": {},
   "outputs": [],
   "source": [
    "#8 열들 사이의 상관계수\n",
    "r=iris.iloc[:,:-1].corr()"
   ]
  },
  {
   "cell_type": "code",
   "execution_count": null,
   "id": "01045e60-a737-47e9-9ab9-0a229d0b11e2",
   "metadata": {
    "scrolled": true
   },
   "outputs": [],
   "source": [
    "import seaborn as sns\n",
    "import matplotlib.pylot as plt\n",
    "plt.figure(figuresize=(12,6))#그래프 크기\n",
    "sns.heatmap(r,annot=True,cmap=\"Oranges\")\n",
    "plt.show()\n",
    "#seaborn 라이브러리 업그레이드: 아나콘다 프롬프트 pip install seaborn --upgrade\n",
    "#업그레이드 확인: pip show seaborn"
   ]
  },
  {
   "cell_type": "code",
   "execution_count": null,
   "id": "26f9bb05-46c5-494c-9435-502cf3e39553",
   "metadata": {},
   "outputs": [],
   "source": [
    "#9 종별 평균\n",
    "iris.groupby('species').mean()"
   ]
  },
  {
   "cell_type": "code",
   "execution_count": null,
   "id": "795bcd30-ca35-4519-aa52-a4703058ca83",
   "metadata": {},
   "outputs": [],
   "source": []
  },
  {
   "cell_type": "code",
   "execution_count": null,
   "id": "fbea51ec-48d3-4556-98e8-944857cb7160",
   "metadata": {},
   "outputs": [],
   "source": []
  },
  {
   "cell_type": "code",
   "execution_count": null,
   "id": "6bc63a62-1353-4cf1-bad3-39d157e434e2",
   "metadata": {},
   "outputs": [],
   "source": []
  },
  {
   "cell_type": "code",
   "execution_count": null,
   "id": "ae0772a8-142d-4de9-a04e-aac7c8cf459d",
   "metadata": {},
   "outputs": [],
   "source": []
  }
 ],
 "metadata": {
  "kernelspec": {
   "display_name": "Python 3 (ipykernel)",
   "language": "python",
   "name": "python3"
  },
  "language_info": {
   "codemirror_mode": {
    "name": "ipython",
    "version": 3
   },
   "file_extension": ".py",
   "mimetype": "text/x-python",
   "name": "python",
   "nbconvert_exporter": "python",
   "pygments_lexer": "ipython3",
   "version": "3.11.7"
  }
 },
 "nbformat": 4,
 "nbformat_minor": 5
}
