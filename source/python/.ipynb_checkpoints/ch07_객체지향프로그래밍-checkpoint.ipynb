{
 "cells": [
  {
   "cell_type": "markdown",
   "id": "9af6f9b3-dd91-4dde-a796-1ac9e6063278",
   "metadata": {},
   "source": [
    "<font color=\"79e5cb\" size=\"6\"><b>ch07 객체지향 프로그래밍<b/></font>"
   ]
  },
  {
   "cell_type": "markdown",
   "id": "5a50e476-dee6-4657-bafc-a8424abc7f74",
   "metadata": {},
   "source": [
    "# 1절 객체와 클래스\n",
    "```python\n",
    "class 클래스명(상속받을 클래스명):\n",
    "    변수나 함수들을 선언\n",
    "```\n",
    "- 클래스명은 대문자로 시작\n"
   ]
  },
  {
   "cell_type": "code",
   "execution_count": 2,
   "id": "7da157f0-40a9-4517-b2e4-48f8698bb18c",
   "metadata": {},
   "outputs": [],
   "source": [
    "class Person:\n",
    "    \"Person 클래스는 어쩌구 저쩌구 여러 줄 설명하는 독스트링\"\n",
    "    pass\n",
    "p1=Person()"
   ]
  },
  {
   "cell_type": "code",
   "execution_count": 93,
   "id": "7dc06e18-ecd0-4251-a36f-b19e37abd82b",
   "metadata": {},
   "outputs": [],
   "source": [
    "class Person():#객체 안의 함수는 self가 다 들어감!\n",
    "    \"Person은 이름과 성별 멤버 변수가 있는 객체타입입니다.\"\n",
    "    def __init__(self,name='홍길동',gender='남자'):#생성자함수 self:내객체다\n",
    "        self.name=name\n",
    "        self.gender=gender\n",
    "        print(\"{} {} Person 객체가 생성되었습니다\".format(self.name,self.gender))\n",
    "    def print_info(self):\n",
    "        print(\"{}님은 {}입니다.\".format(self.name,self.gender),end='\\t')\n",
    "    def printCnt(self,cnt):\n",
    "        for i in range(cnt):\n",
    "            print(self.name,end='\\t')\n",
    "    def __str__(self):#p1호출시 p1.__str__호출됨 => 원하는 출력 문자열로 설정\n",
    "        return \"name:{}\\tgender:{}\".format(self.name,self.gender)"
   ]
  },
  {
   "cell_type": "code",
   "execution_count": 94,
   "id": "84ce3639-6219-4339-af8d-5a2c1a5f34e0",
   "metadata": {},
   "outputs": [
    {
     "name": "stdout",
     "output_type": "stream",
     "text": [
      "성춘향 여자 Person 객체가 생성되었습니다\n"
     ]
    }
   ],
   "source": [
    "p1=Person('성춘향','여자')"
   ]
  },
  {
   "cell_type": "code",
   "execution_count": 95,
   "id": "e74e0e7b-3095-482a-a02f-9fad2b199d4c",
   "metadata": {},
   "outputs": [
    {
     "name": "stdout",
     "output_type": "stream",
     "text": [
      "성춘향 여자\n",
      "성춘향님은 여자입니다.\t성춘향\t성춘향\t성춘향\t"
     ]
    }
   ],
   "source": [
    "print(p1.name,p1.gender)\n",
    "p1.print_info()\n",
    "p1.printCnt(3)"
   ]
  },
  {
   "cell_type": "code",
   "execution_count": 96,
   "id": "c1b20277-b489-41d5-b677-8b7b84bb0cb4",
   "metadata": {},
   "outputs": [
    {
     "name": "stdout",
     "output_type": "stream",
     "text": [
      "name:성춘향\tgender:여자\n"
     ]
    }
   ],
   "source": [
    "print(p1)"
   ]
  },
  {
   "cell_type": "markdown",
   "id": "15d86fb1-c312-4b86-9c48-6687561f459b",
   "metadata": {},
   "source": [
    "# 2절 상속과 재정의"
   ]
  },
  {
   "cell_type": "code",
   "execution_count": 127,
   "id": "ceffe51e-ee7f-48bc-ab8f-ea6c2aa2f7d4",
   "metadata": {},
   "outputs": [],
   "source": [
    "class Student(Person):#Person을 상속받음\n",
    "    'name,gender,major 멤버 변수를 갖는 Student 타입'\n",
    "    def __init__(self, name, gender, major):\n",
    "        #부모 클래스의 생성자 함수로 name,gender 초기화\n",
    "        super().__init__(name,gender)#Person.__init__(nmae,gender)\n",
    "        self.major=major\n",
    "    def print_info(self):\n",
    "        super().print_info()\n",
    "        print('전공은',self.major)\n",
    "    def __str__(self):\n",
    "        return super().__str__()+'\\tmajor:'+self.major"
   ]
  },
  {
   "cell_type": "code",
   "execution_count": 128,
   "id": "e1b5ae6f-b03a-43ac-80a3-9241a9c72d05",
   "metadata": {},
   "outputs": [
    {
     "name": "stdout",
     "output_type": "stream",
     "text": [
      "김철수 남자 Person 객체가 생성되었습니다\n"
     ]
    }
   ],
   "source": [
    "s1=Student('김철수','남자','컴공')"
   ]
  },
  {
   "cell_type": "code",
   "execution_count": 129,
   "id": "61d94774-2bab-4adb-a886-3d176a3bb9bd",
   "metadata": {},
   "outputs": [
    {
     "name": "stdout",
     "output_type": "stream",
     "text": [
      "name:김철수\tgender:남자\tmajor:컴공\n"
     ]
    }
   ],
   "source": [
    "print(s1)"
   ]
  },
  {
   "cell_type": "code",
   "execution_count": 130,
   "id": "d6356e2e-9f4e-490d-b8ad-6d81739e44d5",
   "metadata": {},
   "outputs": [
    {
     "name": "stdout",
     "output_type": "stream",
     "text": [
      "김철수님은 남자입니다.\t전공은 컴공\n"
     ]
    }
   ],
   "source": [
    "s1.print_info()"
   ]
  },
  {
   "cell_type": "code",
   "execution_count": 131,
   "id": "d60e4c39-1307-4e47-a946-79b612a19f89",
   "metadata": {},
   "outputs": [
    {
     "name": "stdout",
     "output_type": "stream",
     "text": [
      "김철수\t김철수\t김철수\t김철수\t김철수\t"
     ]
    }
   ],
   "source": [
    "s1.printCnt(5)"
   ]
  },
  {
   "cell_type": "markdown",
   "id": "23cdf5b9-7f7c-4ea4-9e6e-4db520d7040a",
   "metadata": {},
   "source": [
    "# 3절 연습문제"
   ]
  },
  {
   "cell_type": "code",
   "execution_count": 159,
   "id": "31d5b652-7a0f-4857-906d-6e4655830601",
   "metadata": {},
   "outputs": [],
   "source": [
    "#1\n",
    "class Shape():\n",
    "    def __init__(self,width=0,height=0):\n",
    "        self.width=width\n",
    "        self.height=height\n",
    "    def modify(self,width,height):\n",
    "        self.width=width\n",
    "        self.height=height\n",
    "    def __str__(self):\n",
    "        return 'width: '+str(self.width)+'height: '+str(self.height)\n",
    "    def calc_area(self):\n",
    "        return self.width*self.height"
   ]
  },
  {
   "cell_type": "code",
   "execution_count": 160,
   "id": "262b5a52-ff40-45c5-8cf3-6cc583abc698",
   "metadata": {},
   "outputs": [
    {
     "name": "stdout",
     "output_type": "stream",
     "text": [
      "width: 3height: 4\n"
     ]
    }
   ],
   "source": [
    "s1=Shape(3,4)\n",
    "print(s1)"
   ]
  },
  {
   "cell_type": "code",
   "execution_count": 161,
   "id": "d675bb64-27de-47aa-8325-71a432012fde",
   "metadata": {},
   "outputs": [
    {
     "name": "stdout",
     "output_type": "stream",
     "text": [
      "width: 4height: 5\n"
     ]
    }
   ],
   "source": [
    "s1.modify(4,5)\n",
    "print(s1)"
   ]
  },
  {
   "cell_type": "code",
   "execution_count": 164,
   "id": "7f188050-e28d-4a7f-9a2a-a6d18099734f",
   "metadata": {},
   "outputs": [
    {
     "name": "stdout",
     "output_type": "stream",
     "text": [
      "20\n"
     ]
    }
   ],
   "source": [
    "print(s1.calc_area())"
   ]
  },
  {
   "cell_type": "code",
   "execution_count": null,
   "id": "a6b63677-e089-4713-81c8-4835256b5ba7",
   "metadata": {},
   "outputs": [],
   "source": []
  },
  {
   "cell_type": "code",
   "execution_count": null,
   "id": "dfacb337-e962-42c2-9476-50a93bb109e3",
   "metadata": {},
   "outputs": [],
   "source": []
  }
 ],
 "metadata": {
  "kernelspec": {
   "display_name": "Python 3 (ipykernel)",
   "language": "python",
   "name": "python3"
  },
  "language_info": {
   "codemirror_mode": {
    "name": "ipython",
    "version": 3
   },
   "file_extension": ".py",
   "mimetype": "text/x-python",
   "name": "python",
   "nbconvert_exporter": "python",
   "pygments_lexer": "ipython3",
   "version": "3.11.7"
  }
 },
 "nbformat": 4,
 "nbformat_minor": 5
}
