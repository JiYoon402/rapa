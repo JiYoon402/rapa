{
 "cells": [
  {
   "cell_type": "code",
   "execution_count": null,
   "id": "31434264-25dc-479a-933a-079a255c6e5c",
   "metadata": {},
   "outputs": [],
   "source": [
    "from IPython.display import display, HTML\n",
    "display(HTML(\"\"\"\n",
    "<style>\n",
    "div.jp-WindowedPanel-outer.lm-Widget{padding:5px;}\n",
    "div.lm-Widget{width:100%;font-size:10pt;}\n",
    "div.cm-content {font-family:Consolas; font-size:10pt;}\n",
    "div.jp-OutputArea-output pre {font-size:15pt; font-weight:bold;}\n",
    "input.jp-Stdin-input {font-family:Consolas; font-size:10pt;}\n",
    "</style>\n",
    "\"\"\"))"
   ]
  },
  {
   "cell_type": "markdown",
   "id": "32bd4216-3c5d-46e6-bd1a-8c7e0f923f96",
   "metadata": {},
   "source": [
    " <font color=\"red\" size=\"10\"><b>ch01. 파이썬 개요 및 환경 설정</b></font>"
   ]
  },
  {
   "cell_type": "markdown",
   "id": "aac268fa-f3a6-4cd3-909a-d9d5434bef5a",
   "metadata": {},
   "source": [
    "# 1. 주피터 노트북 사용법\n",
    " - shift+Enter : 포커스된 셀이 실행되고 다음셀로 이동\n",
    " - alt+Enter: 포커스된 셀이 실행되고 다음셀이 생성된 후 이동\n",
    " - ctrl+Enter: 포커스된 셀이 실행되고 포커스 이동 없음\n",
    " - Enter=클릭: 셀이 포커스됨(편집 상태)"
   ]
  },
  {
   "cell_type": "code",
   "execution_count": 1,
   "id": "71e4ca79-a298-4c70-abd1-1b3013588eba",
   "metadata": {},
   "outputs": [
    {
     "name": "stdout",
     "output_type": "stream",
     "text": [
      "Hello\n"
     ]
    }
   ],
   "source": [
    "print('Hello')"
   ]
  },
  {
   "cell_type": "code",
   "execution_count": 3,
   "id": "95c98187-b2cd-4c4d-b954-8de2cdeb3179",
   "metadata": {},
   "outputs": [],
   "source": [
    "a=1#t숫자\n",
    "b='2'#문자\n",
    "a+int(b)#형변환\n",
    "#중간에 결과 있을 시 출력 안됨\n",
    "#마지막 문장일 경우 출력됨\n",
    "c=3"
   ]
  },
  {
   "cell_type": "code",
   "execution_count": 5,
   "id": "799aff01-f318-474f-800c-a479332026ba",
   "metadata": {},
   "outputs": [
    {
     "name": "stdout",
     "output_type": "stream",
     "text": [
      "0\n",
      "1\n",
      "2\n",
      "3\n",
      "4\n",
      "5\n",
      "6\n",
      "7\n",
      "8\n",
      "9\n"
     ]
    }
   ],
   "source": [
    "# for i in range (10):#무한루프 시 커널-shutdown\n",
    "#     print(i)\n",
    "# 중지: kernel > 다양한 restart 기능이나 shutdown 기능\n"
   ]
  },
  {
   "cell_type": "markdown",
   "id": "274e6273-3075-44ae-801d-3370e09204e3",
   "metadata": {},
   "source": [
    "# 2. ESC키 누르고 핫키\n",
    "- dd: 셀 삭제\n",
    "- a: 윗셀추가\n",
    "- b: 아랫셀 추가\n",
    "- m: 마크업셀로 전환\n",
    "- y: 코드셀로 전환\n"
   ]
  },
  {
   "cell_type": "markdown",
   "id": "16bd9df9-6b9e-431f-9697-9cfdec5c0f85",
   "metadata": {},
   "source": [
    "# 3. 마크다운이란?\n",
    "- 코드와 함께 문서화 할 수 있다.\n",
    "```#틸드: tab,줄바꿈 먹힘\n",
    "  여러줄 설명은 \n",
    "  줄바꿈으로 할 수 있음\n",
    "```"
   ]
  },
  {
   "cell_type": "markdown",
   "id": "f22dedba-b11e-4882-973f-e8d3569c9a04",
   "metadata": {},
   "source": [
    "# 4. Table of contents\n",
    "- View > Table of Contents"
   ]
  },
  {
   "cell_type": "code",
   "execution_count": 7,
   "id": "882b8e69-9b60-4dd6-8e41-af024fe0b068",
   "metadata": {},
   "outputs": [
    {
     "name": "stdout",
     "output_type": "stream",
     "text": [
      " C 드라이브의 볼륨에는 이름이 없습니다.\n",
      " 볼륨 일련 번호: 82E2-A836\n",
      "\n",
      " C:\\JiYoon\\C_python\\source\\python 디렉터리\n",
      "\n",
      "\n",
      " C:\\JiYoon\\C_python\\source\\python 디렉터리\n",
      "\n",
      "\n",
      " C:\\JiYoon\\C_python\\source\\python 디렉터리\n",
      "\n",
      "\n",
      " C:\\JiYoon\\C_python\\source\\python 디렉터리\n",
      "\n"
     ]
    },
    {
     "name": "stderr",
     "output_type": "stream",
     "text": [
      "파일을 찾을 수 없습니다.\n"
     ]
    }
   ],
   "source": [
    "!dir #!:cmd 명령어 시행 가능"
   ]
  },
  {
   "cell_type": "code",
   "execution_count": null,
   "id": "e91950e5-e242-48f6-8e15-6dd02dd142bc",
   "metadata": {},
   "outputs": [],
   "source": []
  }
 ],
 "metadata": {
  "kernelspec": {
   "display_name": "Python 3 (ipykernel)",
   "language": "python",
   "name": "python3"
  },
  "language_info": {
   "codemirror_mode": {
    "name": "ipython",
    "version": 3
   },
   "file_extension": ".py",
   "mimetype": "text/x-python",
   "name": "python",
   "nbconvert_exporter": "python",
   "pygments_lexer": "ipython3",
   "version": "3.11.7"
  }
 },
 "nbformat": 4,
 "nbformat_minor": 5
}
