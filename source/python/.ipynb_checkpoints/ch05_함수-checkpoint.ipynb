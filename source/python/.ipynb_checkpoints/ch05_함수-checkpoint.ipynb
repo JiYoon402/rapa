{
 "cells": [
  {
   "cell_type": "markdown",
   "id": "268c31a2-c688-473e-bda4-1a735d85f830",
   "metadata": {},
   "source": [
    "<font color=\"skyblue\" size=\"7\"><b>ch05 함수<b/></font>\n",
    "- 반복해서 사용할 코드를 묶어서 구현해 놓은 것\n",
    "- 같은 이름의 함수는 덮어씀(오버로딩 불가)\n",
    "- 함수 정의(구현)\n",
    "  \n",
    "```python\n",
    "def 함수명([arg1,arg2,...]):\n",
    "    명령어1\n",
    "    명령어2\n",
    "    ...\n",
    "    return #유뮤 상관 없음\n",
    "```\n",
    "        \n"
   ]
  },
  {
   "cell_type": "markdown",
   "id": "2ea93c2e-9dd6-4fb3-a106-ee2cf74efc20",
   "metadata": {},
   "source": [
    "# 1절 함수의 정의 및 사용(호출)\n",
    "## 1.1 함수정의"
   ]
  },
  {
   "cell_type": "code",
   "execution_count": 35,
   "id": "8b7b6745-7757-4ec4-8bea-407fb59ca463",
   "metadata": {},
   "outputs": [],
   "source": [
    "def my_hello(x,msg): #함수 정의\n",
    "    for i in range(x):\n",
    "        print(i,msg)\n"
   ]
  },
  {
   "cell_type": "code",
   "execution_count": 36,
   "id": "265c4879-f4e1-452e-aa97-7ecfa2bdf953",
   "metadata": {},
   "outputs": [
    {
     "name": "stdout",
     "output_type": "stream",
     "text": [
      "0 Hello World\n",
      "1 Hello World\n",
      "2 Hello World\n",
      "3 Hello World\n",
      "4 Hello World\n"
     ]
    }
   ],
   "source": [
    "my_hello(5,'Hello World')"
   ]
  },
  {
   "cell_type": "code",
   "execution_count": 37,
   "id": "ccf17025-f8c6-4eae-8cf9-fcd424d16b41",
   "metadata": {},
   "outputs": [
    {
     "data": {
      "text/plain": [
       "function"
      ]
     },
     "execution_count": 37,
     "metadata": {},
     "output_type": "execute_result"
    }
   ],
   "source": [
    "type(my_hello)"
   ]
  },
  {
   "cell_type": "code",
   "execution_count": 38,
   "id": "3b9c88c1-ec6b-4331-b2ca-7b69c2a5ac3f",
   "metadata": {},
   "outputs": [
    {
     "data": {
      "text/plain": [
       "int"
      ]
     },
     "execution_count": 38,
     "metadata": {},
     "output_type": "execute_result"
    }
   ],
   "source": [
    "my_hello=10\n",
    "type(my_hello)"
   ]
  },
  {
   "cell_type": "code",
   "execution_count": 39,
   "id": "c531e496-47b9-418b-b61f-ec3ab014996d",
   "metadata": {},
   "outputs": [
    {
     "name": "stdout",
     "output_type": "stream",
     "text": [
      "6\n",
      "3\n"
     ]
    }
   ],
   "source": [
    "def my_add(num1,num2,num3=0):# 기본값을 갖는 인수는 순서 인수 뒤에\n",
    "    return num1+num2+num3\n",
    "print(my_add(1,2,3))\n",
    "print(my_add(1,2))"
   ]
  },
  {
   "cell_type": "markdown",
   "id": "2faea45c-3890-411e-a2c5-75ee84b4357b",
   "metadata": {},
   "source": [
    "## 1.2 docstring\n",
    "- 함수 도움말 shift+tab로 볼 수 있음"
   ]
  },
  {
   "cell_type": "code",
   "execution_count": 40,
   "id": "ed826b7e-46f0-4e95-8b3a-0e77768431ea",
   "metadata": {},
   "outputs": [],
   "source": [
    "def fibonacci(n):\n",
    "    \"\"\"\n",
    "    매개변수로 들어온 n값 미만의 피보나치 수열을 출력하는 함수\n",
    "    n3=n1+n2\n",
    "    ex. n=10: 0, 1, 1, 2, 3, 5, 8\n",
    "    \"\"\"\n",
    "    a,b=0,1\n",
    "    while a<n:\n",
    "        print(a,end=', ')\n",
    "        a,b=b,a+b\n",
    "    print()"
   ]
  },
  {
   "cell_type": "code",
   "execution_count": 41,
   "id": "5445693e-5ebf-4160-9ba2-14e66d2623f7",
   "metadata": {},
   "outputs": [
    {
     "name": "stdout",
     "output_type": "stream",
     "text": [
      "0, 1, 1, 2, 3, 5, 8, 13, 21, 34, 55, 89, \n"
     ]
    }
   ],
   "source": [
    "fibonacci(100)"
   ]
  },
  {
   "cell_type": "code",
   "execution_count": 42,
   "id": "56fb15ca-df3a-4edc-b7e3-968a1b0232a2",
   "metadata": {},
   "outputs": [
    {
     "data": {
      "text/plain": [
       "<function __main__.fibonacci(n)>"
      ]
     },
     "execution_count": 42,
     "metadata": {},
     "output_type": "execute_result"
    }
   ],
   "source": [
    "fibonacci #__main__: main영역에서 작동하는 함수"
   ]
  },
  {
   "cell_type": "code",
   "execution_count": 43,
   "id": "b28777dc-81c6-4cae-9c00-5904feb8c209",
   "metadata": {},
   "outputs": [
    {
     "data": {
      "text/plain": [
       "'__main__'"
      ]
     },
     "execution_count": 43,
     "metadata": {},
     "output_type": "execute_result"
    }
   ],
   "source": [
    "__name__"
   ]
  },
  {
   "cell_type": "code",
   "execution_count": 44,
   "id": "3c8897ea-ae09-4095-90c2-2a9197820d76",
   "metadata": {},
   "outputs": [
    {
     "name": "stdout",
     "output_type": "stream",
     "text": [
      "0, 1, 1, 2, 3, 5, 8, 13, 21, 34, 55, 89, 144, 233, 377, 610, 987, \n"
     ]
    }
   ],
   "source": [
    "if __name__=='__main__':\n",
    "    fibonacci(1000)"
   ]
  },
  {
   "cell_type": "code",
   "execution_count": 45,
   "id": "35a81127-6b98-4f41-8a16-969f45613ad9",
   "metadata": {},
   "outputs": [],
   "source": [
    "import fibonacci as fibo#fibonacci.py이 해석되서 memory에 로드됨\n"
   ]
  },
  {
   "cell_type": "code",
   "execution_count": 46,
   "id": "889371b1-7dce-4db4-a1ba-9c0247a25bff",
   "metadata": {},
   "outputs": [
    {
     "name": "stdout",
     "output_type": "stream",
     "text": [
      "0, 1, 1, 2, 3, 5, 8, 13, 21, 34, 55, 89, 144, 233, 377, 610, 987, \n"
     ]
    }
   ],
   "source": [
    "fibo.fibonacci(1000)\n"
   ]
  },
  {
   "cell_type": "markdown",
   "id": "c8ca3be1-9d24-4d27-a66e-4f1323d0f6ac",
   "metadata": {},
   "source": [
    "## 1.3 지역변수(local var)와 전역변수(Global var)"
   ]
  },
  {
   "cell_type": "code",
   "execution_count": 47,
   "id": "bbecf58f-0fc3-49c2-aac4-a3cc8e059d8c",
   "metadata": {},
   "outputs": [
    {
     "name": "stdout",
     "output_type": "stream",
     "text": [
      "100\n"
     ]
    }
   ],
   "source": [
    "global_var=100 #전역변수\n",
    "def func1():\n",
    "    print(global_var)\n",
    "func1()"
   ]
  },
  {
   "cell_type": "code",
   "execution_count": 48,
   "id": "19078f6d-4091-4200-aadf-dc560b01f48d",
   "metadata": {},
   "outputs": [
    {
     "name": "stdout",
     "output_type": "stream",
     "text": [
      "10\n"
     ]
    },
    {
     "ename": "NameError",
     "evalue": "name 'local_var' is not defined",
     "output_type": "error",
     "traceback": [
      "\u001b[1;31m---------------------------------------------------------------------------\u001b[0m",
      "\u001b[1;31mNameError\u001b[0m                                 Traceback (most recent call last)",
      "Cell \u001b[1;32mIn[48], line 5\u001b[0m\n\u001b[0;32m      3\u001b[0m     \u001b[38;5;28mprint\u001b[39m(local_var)\n\u001b[0;32m      4\u001b[0m func2()\n\u001b[1;32m----> 5\u001b[0m local_var\n",
      "\u001b[1;31mNameError\u001b[0m: name 'local_var' is not defined"
     ]
    }
   ],
   "source": [
    "def func2():\n",
    "    local_var=10 # 함수 안의 지역변수\n",
    "    print(local_var)\n",
    "func2()\n",
    "local_var #함수 밖에서 호출 불가"
   ]
  },
  {
   "cell_type": "markdown",
   "id": "927fd080-9332-4e41-b0b8-d7b85dd15450",
   "metadata": {},
   "source": [
    "## 1.4 Lexical 특성"
   ]
  },
  {
   "cell_type": "code",
   "execution_count": 49,
   "id": "264f8174-75a6-4fbf-ada1-a189aaa75e2c",
   "metadata": {},
   "outputs": [
    {
     "ename": "UnboundLocalError",
     "evalue": "cannot access local variable 'g_var' where it is not associated with a value",
     "output_type": "error",
     "traceback": [
      "\u001b[1;31m---------------------------------------------------------------------------\u001b[0m",
      "\u001b[1;31mUnboundLocalError\u001b[0m                         Traceback (most recent call last)",
      "Cell \u001b[1;32mIn[49], line 7\u001b[0m\n\u001b[0;32m      4\u001b[0m     g_var\u001b[38;5;241m=\u001b[39m\u001b[38;5;241m200\u001b[39m \u001b[38;5;66;03m#지역변수\u001b[39;00m\n\u001b[0;32m      5\u001b[0m     \u001b[38;5;28mprint\u001b[39m(g_var)\n\u001b[1;32m----> 7\u001b[0m func3()    \n\u001b[0;32m      8\u001b[0m \u001b[38;5;28mprint\u001b[39m(g_var)\n",
      "Cell \u001b[1;32mIn[49], line 3\u001b[0m, in \u001b[0;36mfunc3\u001b[1;34m()\u001b[0m\n\u001b[0;32m      2\u001b[0m \u001b[38;5;28;01mdef\u001b[39;00m \u001b[38;5;21mfunc3\u001b[39m():\n\u001b[1;32m----> 3\u001b[0m     \u001b[38;5;28mprint\u001b[39m(g_var)\u001b[38;5;66;03m# 코드가 위에서부터 시행되지않아서 혼란 야기\u001b[39;00m\n\u001b[0;32m      4\u001b[0m     g_var\u001b[38;5;241m=\u001b[39m\u001b[38;5;241m200\u001b[39m \u001b[38;5;66;03m#지역변수\u001b[39;00m\n\u001b[0;32m      5\u001b[0m     \u001b[38;5;28mprint\u001b[39m(g_var)\n",
      "\u001b[1;31mUnboundLocalError\u001b[0m: cannot access local variable 'g_var' where it is not associated with a value"
     ]
    }
   ],
   "source": [
    "g_var=100 #전역변수\n",
    "def func3():\n",
    "    print(g_var)# 코드가 위에서부터 시행되지않아서 혼란 야기\n",
    "    g_var=200 #지역변수\n",
    "    print(g_var)\n",
    "\n",
    "func3()    \n",
    "print(g_var)"
   ]
  },
  {
   "cell_type": "markdown",
   "id": "5ad4a11c-be64-47e7-971e-f4bcb2f954ab",
   "metadata": {},
   "source": [
    "## 1.5 전역변수 수정"
   ]
  },
  {
   "cell_type": "code",
   "execution_count": 50,
   "id": "f194b65c-dbf4-403a-995a-3851fe68c24f",
   "metadata": {},
   "outputs": [
    {
     "name": "stdout",
     "output_type": "stream",
     "text": [
      "100\n",
      "200\n",
      "200\n"
     ]
    }
   ],
   "source": [
    "g_var=100 #전역변수\n",
    "def func3():\n",
    "    global g_var\n",
    "    print(g_var)\n",
    "    g_var=200 #지역변수\n",
    "    print(g_var)\n",
    "\n",
    "func3()    \n",
    "print(g_var)"
   ]
  },
  {
   "cell_type": "markdown",
   "id": "bb025ee7-2a23-466b-b4c2-9dcfa3933576",
   "metadata": {},
   "source": [
    "## 1.6 값에 의한 호출(call by value)\n",
    "- 함수에 인수로 전달되는 변수가 스칼라변수(숫자, 문자, 논리)일 경우"
   ]
  },
  {
   "cell_type": "code",
   "execution_count": 52,
   "id": "e04875b2-31ac-4afb-af68-ff67e9171fba",
   "metadata": {},
   "outputs": [
    {
     "data": {
      "text/plain": [
       "2841199266992"
      ]
     },
     "execution_count": 52,
     "metadata": {},
     "output_type": "execute_result"
    }
   ],
   "source": [
    "foo='ab'#스칼라변수(문자=문자열\n",
    "id(foo)"
   ]
  },
  {
   "cell_type": "code",
   "execution_count": 53,
   "id": "006bbf39-a828-48c7-aba0-3b14e9f4a48d",
   "metadata": {},
   "outputs": [
    {
     "name": "stdout",
     "output_type": "stream",
     "text": [
      "Before : ab의 주소는 2841199266992\n",
      "After : ababab의 주소는 2841255663408\n",
      "함수 호출 후 foo:ab의 주소는2841199266992\n"
     ]
    }
   ],
   "source": [
    "def func1(f):\n",
    "    print(\"Before : {}의 주소는 {}\".format(f,id(f)))\n",
    "    f*=3 #매개변수는 지역변수\n",
    "    print(\"After : {}의 주소는 {}\".format(f,id(f)))\n",
    "\n",
    "func1(foo)\n",
    "print(\"함수 호출 후 foo:{}의 주소는{}\".format(foo,id(foo)))"
   ]
  },
  {
   "cell_type": "markdown",
   "id": "abf5c7b5-2880-46a8-b03a-d5c69dc0d615",
   "metadata": {},
   "source": [
    "## 1.7 참조에 의한 호출(call by reference)\n",
    "- 함수에 전달되는 인수가 리스트, 딕셔너리, 셋인 경우"
   ]
  },
  {
   "cell_type": "code",
   "execution_count": 55,
   "id": "b51bc52e-15c4-4915-94d9-a30786e58ae6",
   "metadata": {},
   "outputs": [
    {
     "name": "stdout",
     "output_type": "stream",
     "text": [
      "L의 내용은 [1, 2, 3], 주소는 2841271263296\n"
     ]
    }
   ],
   "source": [
    "L=[1,2,3]\n",
    "print(\"L의 내용은 {}, 주소는 {}\". format(L,id(L)))"
   ]
  },
  {
   "cell_type": "code",
   "execution_count": 56,
   "id": "da166551-6c75-4b02-ad77-91851933e08b",
   "metadata": {},
   "outputs": [
    {
     "name": "stdout",
     "output_type": "stream",
     "text": [
      "함수 내 before: L의 내용은 [1, 2, 3], 주소는 2841271263296\n",
      "함수 내 after: L의 내용은 [1, 2, 3, 4], 주소는 2841271263296\n",
      "L의 내용은 [1, 2, 3, 4], 주소는 2841271263296\n"
     ]
    }
   ],
   "source": [
    "def func2(f):\n",
    "    print(\"함수 내 before: L의 내용은 {}, 주소는 {}\". format(L,id(L)))\n",
    "    f.append(4)\n",
    "    print(\"함수 내 after: L의 내용은 {}, 주소는 {}\". format(L,id(L)))\n",
    "\n",
    "func2(L)\n",
    "print(\"L의 내용은 {}, 주소는 {}\". format(L,id(L)))"
   ]
  },
  {
   "cell_type": "markdown",
   "id": "ee1d7068-845e-4d79-974e-213a977346d4",
   "metadata": {},
   "source": [
    "# 2절 함수의 실행 결과를 반환하는 return\n",
    "- 여러개의 값을 반환할 수 있다(하나의 tuple로 반환)"
   ]
  },
  {
   "cell_type": "code",
   "execution_count": 57,
   "id": "70f17fca-cfa9-471e-8866-a9e0d08e38b3",
   "metadata": {},
   "outputs": [],
   "source": [
    "#여러값을 return\n",
    "def swap(a,b):\n",
    "    return b,a"
   ]
  },
  {
   "cell_type": "code",
   "execution_count": 62,
   "id": "6a9739f1-2313-44b9-8fbd-8a53c8c397f7",
   "metadata": {},
   "outputs": [
    {
     "name": "stdout",
     "output_type": "stream",
     "text": [
      "함수 실행 전 x=5, y=10\n",
      "함수 실행 후 x=10, y=5\n"
     ]
    }
   ],
   "source": [
    "x,y=5,10\n",
    "print('함수 실행 전 x={}, y={}'.format(x,y))\n",
    "x,y=swap(x,y)\n",
    "print('함수 실행 후 x={}, y={}'.format(x,y))"
   ]
  },
  {
   "cell_type": "markdown",
   "id": "00bd3251-2ee9-4c9f-b6b6-07e358c0cc4d",
   "metadata": {},
   "source": [
    "# 3절 함수의 매개변수 ★\n",
    "## 3.1 기본값을 갖는 매개변수"
   ]
  },
  {
   "cell_type": "code",
   "execution_count": 63,
   "id": "80208977-e08d-44df-a6e0-2915d129e60c",
   "metadata": {},
   "outputs": [],
   "source": [
    "def make_url(ip,port=80):\n",
    "    # 순서인수, 기본값을 갖는 인수 순으로 \n",
    "    return \"http//{}:{}\".format(ip,port)"
   ]
  },
  {
   "cell_type": "code",
   "execution_count": 66,
   "id": "7e7282f5-e86e-4f08-bdbf-f474693ffbe7",
   "metadata": {},
   "outputs": [
    {
     "name": "stdout",
     "output_type": "stream",
     "text": [
      "http//localhost:80\n",
      "http//localhost:8090\n",
      "http//localhost:8090\n"
     ]
    }
   ],
   "source": [
    "print(make_url(\"localhost\"))\n",
    "print(make_url(\"localhost\",8090))\n",
    "print(make_url(port=8090,ip=\"localhost\"))             "
   ]
  },
  {
   "cell_type": "markdown",
   "id": "af32be07-6e65-4727-b280-61c8267e659c",
   "metadata": {},
   "source": [
    "## 3.2 tuple 매개변수를 이용한 가변인수(인수 갯수가 가변) 설정"
   ]
  },
  {
   "cell_type": "code",
   "execution_count": 68,
   "id": "4d423d7e-dbc5-4f00-8c08-9100c3f3b127",
   "metadata": {},
   "outputs": [
    {
     "name": "stdout",
     "output_type": "stream",
     "text": [
      "Hello World\n"
     ]
    }
   ],
   "source": [
    "print('Hello','World') # 인수의 갯수가 가변 = 가변인수"
   ]
  },
  {
   "cell_type": "code",
   "execution_count": 91,
   "id": "9e58bbe7-17e8-42bb-94fb-21c0054d2038",
   "metadata": {},
   "outputs": [],
   "source": [
    "#args 앞에 *: args가 튜플로 전달\n",
    "def add1(args): # * 사용 안할 시 tuple 형태로 입력받아야함\n",
    "    print(\"전달받은 args:\",args)\n",
    "    print(type(args))\n",
    "    sum=0\n",
    "    for num in args:\n",
    "        sum+=num;\n",
    "    return sum\n",
    "\n",
    "def add2(*args): # * 사용시 인수 형태로 입력 받을 수 있음\n",
    "    print(\"전달받은 args:\",args)\n",
    "    print(type(args))\n",
    "    sum=0\n",
    "    for num in args:\n",
    "        sum+=num;\n",
    "    return sum"
   ]
  },
  {
   "cell_type": "code",
   "execution_count": 92,
   "id": "92590bf0-cc29-4481-9d15-817f3d3945a5",
   "metadata": {},
   "outputs": [
    {
     "name": "stdout",
     "output_type": "stream",
     "text": [
      "전달받은 args: (1, 2, 3, 4)\n",
      "<class 'tuple'>\n",
      "10\n",
      "전달받은 args: (1, 2, 3, 4)\n",
      "<class 'tuple'>\n",
      "10\n"
     ]
    }
   ],
   "source": [
    "print(add1((1,2,3,4)))\n",
    "print(add2(1,2,3,4))"
   ]
  },
  {
   "cell_type": "code",
   "execution_count": 100,
   "id": "e4207719-b7a2-4c07-ad9a-35b8a567fe55",
   "metadata": {},
   "outputs": [],
   "source": [
    "def concat(*args, sep):\n",
    "    return sep.join(args)"
   ]
  },
  {
   "cell_type": "code",
   "execution_count": 97,
   "id": "e192ae3a-a7f9-47dd-82c8-25e44631dd34",
   "metadata": {},
   "outputs": [
    {
     "data": {
      "text/plain": [
       "'C~python~oracle'"
      ]
     },
     "execution_count": 97,
     "metadata": {},
     "output_type": "execute_result"
    }
   ],
   "source": [
    "concat('C','python','oracle','~')# 어디까지 arg인지 몰라서 에러 발생"
   ]
  },
  {
   "cell_type": "code",
   "execution_count": 102,
   "id": "823b5588-3279-4d0b-b6d5-2de08891ea90",
   "metadata": {},
   "outputs": [
    {
     "data": {
      "text/plain": [
       "'C~python~oracle'"
      ]
     },
     "execution_count": 102,
     "metadata": {},
     "output_type": "execute_result"
    }
   ],
   "source": [
    "# 해결책1\n",
    "concat('C','python','oracle',sep='~')\n",
    "\n",
    "# 해결책2: args를 뒤에쪽으로!\n",
    "def concat(sep,*args):\n",
    "    return sep.join(args)\n",
    "concat('~','C','python','oracle')\n",
    "\n",
    "#해결책3: default값을 가질 경우 뒤에 배치해야함\n",
    "#순서인수>튜플인수>키워드인수(변수명을 기재해야되는 인수)\n",
    "def concat(*args, sep='/'):\n",
    "    return sep.join(args)\n",
    "concat('C','python','oracle',sep='~')"
   ]
  },
  {
   "cell_type": "markdown",
   "id": "2b8ce81d-8627-40ec-a3c6-1a0f32b38219",
   "metadata": {},
   "source": [
    "## 3.3 dictionary를 이용한 매개변수"
   ]
  },
  {
   "cell_type": "code",
   "execution_count": 107,
   "id": "24ceb4e6-7cf6-4ca8-b703-e7a5e087a9e6",
   "metadata": {},
   "outputs": [],
   "source": [
    "def func1(args): # args가 딕셔너리로 전달\n",
    "    print(args)\n",
    "    print(type(args))\n",
    "\n",
    "def func2(**args): # args가 딕셔너리로 전달\n",
    "    print(args)\n",
    "    print(type(args))\n",
    "    "
   ]
  },
  {
   "cell_type": "code",
   "execution_count": 108,
   "id": "e521a9da-1e96-4e16-8c55-a2ed1e804b5b",
   "metadata": {},
   "outputs": [
    {
     "name": "stdout",
     "output_type": "stream",
     "text": [
      "{'name': '홍길동', 'age': 20}\n",
      "<class 'dict'>\n",
      "{'name': '홍길동', 'age': 20}\n",
      "<class 'dict'>\n"
     ]
    }
   ],
   "source": [
    "dic={\"name\":\"홍길동\", 'age':20}\n",
    "func1(dic)\n",
    "func2(name='홍길동',age=20)"
   ]
  },
  {
   "cell_type": "code",
   "execution_count": 109,
   "id": "017caf3a-e79e-4497-8209-df956626609f",
   "metadata": {},
   "outputs": [],
   "source": [
    "def func(**args): # args가 딕셔너리로 전달\n",
    "    for key,value in args.items():\n",
    "        print(\"{} : {}\".format(key,value))"
   ]
  },
  {
   "cell_type": "code",
   "execution_count": 110,
   "id": "f9115d70-c3a2-4283-9306-0c343415f259",
   "metadata": {},
   "outputs": [
    {
     "name": "stdout",
     "output_type": "stream",
     "text": [
      "gameName : 서바이벌C\n",
      "year : 2024\n",
      "price : 33000\n"
     ]
    }
   ],
   "source": [
    "func(gameName='서바이벌C', year=2024,price=33000)"
   ]
  },
  {
   "cell_type": "markdown",
   "id": "2115c424-f56f-4f7d-8288-886eccbdebb9",
   "metadata": {},
   "source": [
    "## 3.4 함수 정의시 매개변수의 순서\n",
    "- 순서인수>튜플인수(*)>키워드인수(매개변수 이름을 명시)> 딕셔너리인수(**)"
   ]
  },
  {
   "cell_type": "code",
   "execution_count": 112,
   "id": "8fe4b574-8440-4238-8caf-f2f93c15b467",
   "metadata": {},
   "outputs": [],
   "source": [
    "def func(a,b,c,*d,e=10,**f):\n",
    "    print('a=',a)\n",
    "    print('b=',b)\n",
    "    print('c=',c)\n",
    "    print('d=',d)\n",
    "    print('e=',e)\n",
    "    print('f=',f)"
   ]
  },
  {
   "cell_type": "code",
   "execution_count": 113,
   "id": "36964718-614f-4aa0-a8a6-ad096979a7d9",
   "metadata": {},
   "outputs": [
    {
     "name": "stdout",
     "output_type": "stream",
     "text": [
      "a= 10\n",
      "b= 20\n",
      "c= 30\n",
      "d= (1, 2, 3, 4, 5)\n",
      "e= 100\n",
      "f= {'height': 180, 'name': '홍길동', 'address': '서울시'}\n"
     ]
    }
   ],
   "source": [
    "func(10,20,30, 1,2,3,4,5, e=100, height=180,name=\"홍길동\",address='서울시')"
   ]
  },
  {
   "cell_type": "markdown",
   "id": "ff7d4a20-0547-4446-8cb9-84d9ef980683",
   "metadata": {},
   "source": [
    "## 3.5 인수의 언패킹"
   ]
  },
  {
   "cell_type": "markdown",
   "id": "96561032-11b5-466b-b050-baa3d5088265",
   "metadata": {},
   "source": [
    "### *tuple 변수 언패킹"
   ]
  },
  {
   "cell_type": "code",
   "execution_count": 123,
   "id": "7d584db7-b7e1-41ca-9bcd-d6bb1930c58c",
   "metadata": {},
   "outputs": [],
   "source": [
    "def add(*args): # * 사용시 인수 형태로 입력 받을 수 있음\n",
    "    sum=0\n",
    "    for num in args:\n",
    "        sum+=num;\n",
    "    return sum\n",
    "    \n",
    "def func(**args): # args가 딕셔너리로 전달\n",
    "    for key,value in args.items():\n",
    "        print(\"{} : {}\".format(key,value))"
   ]
  },
  {
   "cell_type": "code",
   "execution_count": 124,
   "id": "8bc8c704-4aa6-4b3a-b3db-7f65472cf636",
   "metadata": {},
   "outputs": [
    {
     "data": {
      "text/plain": [
       "6"
      ]
     },
     "execution_count": 124,
     "metadata": {},
     "output_type": "execute_result"
    }
   ],
   "source": [
    "add(1,2,3)\n",
    "data=(1,2,3)\n",
    "add(*data) #tuple 형식을 언패킹"
   ]
  },
  {
   "cell_type": "markdown",
   "id": "51a8f40f-6e59-4bad-b98e-0693a7e4f64a",
   "metadata": {},
   "source": [
    "### *dictionary 변수 언패킹"
   ]
  },
  {
   "cell_type": "code",
   "execution_count": 125,
   "id": "f8b13a5f-5914-4f70-8e66-331de4087754",
   "metadata": {},
   "outputs": [
    {
     "name": "stdout",
     "output_type": "stream",
     "text": [
      "height : 180\n",
      "name : 홍길동\n",
      "address : 서울시\n"
     ]
    }
   ],
   "source": [
    "dic={'height': 180, 'name': '홍길동', 'address': '서울시'}\n",
    "func(**dic)"
   ]
  },
  {
   "cell_type": "markdown",
   "id": "7b0361d6-e5c8-499f-814c-79c2ea4bf30c",
   "metadata": {},
   "source": [
    "# 4절 람다식\n",
    "- `lambda 변수: return값`\n",
    "- 람다식은 작은 익명함수를 의미함\n",
    "- 실행할 문장을 한문장만 작성할 수 있음\n",
    "- 리스트 컴프리헨션과 같이 참조해서 학습 추천\n",
    "- 함수의 매개변수로 사용하기 위함\n",
    "- ex. map(), filter()에서 사용할 예정"
   ]
  },
  {
   "cell_type": "code",
   "execution_count": 126,
   "id": "f8c8df1b-9cb0-45bc-b108-f265ef972272",
   "metadata": {},
   "outputs": [
    {
     "data": {
      "text/plain": [
       "8"
      ]
     },
     "execution_count": 126,
     "metadata": {},
     "output_type": "execute_result"
    }
   ],
   "source": [
    "#일반함수\n",
    "def add(a,b):\n",
    "    return a+b\n",
    "add(3,5)"
   ]
  },
  {
   "cell_type": "code",
   "execution_count": 127,
   "id": "4c7cfd67-3ae1-452b-9bbf-6b97684ed251",
   "metadata": {},
   "outputs": [
    {
     "data": {
      "text/plain": [
       "function"
      ]
     },
     "execution_count": 127,
     "metadata": {},
     "output_type": "execute_result"
    }
   ],
   "source": [
    "type(add)"
   ]
  },
  {
   "cell_type": "code",
   "execution_count": null,
   "id": "81d0bbe3-61e9-4871-a990-0295f40ca21e",
   "metadata": {},
   "outputs": [],
   "source": [
    "#람다식\n",
    "add=lambda a,b: a+b"
   ]
  },
  {
   "cell_type": "code",
   "execution_count": 128,
   "id": "4bf1a5d7-1171-4596-93e2-040928e1d23e",
   "metadata": {},
   "outputs": [
    {
     "data": {
      "text/plain": [
       "8"
      ]
     },
     "execution_count": 128,
     "metadata": {},
     "output_type": "execute_result"
    }
   ],
   "source": [
    "add(5,3)"
   ]
  },
  {
   "cell_type": "code",
   "execution_count": 129,
   "id": "08b8227f-ff17-44ff-93f2-774d71516ac5",
   "metadata": {},
   "outputs": [
    {
     "data": {
      "text/plain": [
       "function"
      ]
     },
     "execution_count": 129,
     "metadata": {},
     "output_type": "execute_result"
    }
   ],
   "source": [
    "type(add)"
   ]
  },
  {
   "cell_type": "markdown",
   "id": "9c7fca78-0b67-439b-88c2-cb1b9a19577b",
   "metadata": {},
   "source": [
    "### *매개변수로 람다식 이용"
   ]
  },
  {
   "cell_type": "code",
   "execution_count": 131,
   "id": "d13ed164-3b80-4bcb-b3f3-4fdcd61ffb5a",
   "metadata": {},
   "outputs": [
    {
     "data": {
      "text/plain": [
       "9"
      ]
     },
     "execution_count": 131,
     "metadata": {},
     "output_type": "execute_result"
    }
   ],
   "source": [
    "f=lambda x: x**2\n",
    "f(3)"
   ]
  },
  {
   "cell_type": "code",
   "execution_count": 140,
   "id": "e50603fb-b3a8-475b-bab7-5d982c5f9873",
   "metadata": {},
   "outputs": [],
   "source": [
    "def map_template(func,L=[]):\n",
    "    result=[]\n",
    "    for data in L:\n",
    "        result.append(func(data))\n",
    "    return result #func(L)"
   ]
  },
  {
   "cell_type": "code",
   "execution_count": 141,
   "id": "9c35fbd1-c7eb-484c-ae7b-b62d5f6f59ef",
   "metadata": {},
   "outputs": [
    {
     "data": {
      "text/plain": [
       "[1, 4, 9, 16, 25]"
      ]
     },
     "execution_count": 141,
     "metadata": {},
     "output_type": "execute_result"
    }
   ],
   "source": [
    "list_data=[1,2,3,4,5]\n",
    "map_template(lambda x:x**2,list_data)"
   ]
  },
  {
   "cell_type": "code",
   "execution_count": 142,
   "id": "6fda9bf0-817a-4877-b780-c69f7b82c305",
   "metadata": {},
   "outputs": [
    {
     "data": {
      "text/plain": [
       "[2, 4, 6, 8, 10]"
      ]
     },
     "execution_count": 142,
     "metadata": {},
     "output_type": "execute_result"
    }
   ],
   "source": [
    "list(map(lambda x:x*2,list_data))"
   ]
  },
  {
   "cell_type": "code",
   "execution_count": 144,
   "id": "c0ec4cb1-f22c-4bcf-ada9-1d1da2f49335",
   "metadata": {},
   "outputs": [
    {
     "data": {
      "text/plain": [
       "[2, 4, 6, 8, 10]"
      ]
     },
     "execution_count": 144,
     "metadata": {},
     "output_type": "execute_result"
    }
   ],
   "source": [
    "#list comprehension\n",
    "[x*2 for x in list_data]"
   ]
  },
  {
   "cell_type": "code",
   "execution_count": 145,
   "id": "a22deffd-214a-4c50-ba28-80777d6ef678",
   "metadata": {},
   "outputs": [],
   "source": [
    "def filter_template(func, L=[]):\n",
    "    result=[]\n",
    "    for data in L:\n",
    "        if func(data):\n",
    "            result.append(data)\n",
    "    return result\n",
    "    "
   ]
  },
  {
   "cell_type": "code",
   "execution_count": 147,
   "id": "2f5e8cae-9890-4f91-9a58-87b0c26620ff",
   "metadata": {},
   "outputs": [
    {
     "data": {
      "text/plain": [
       "[2, 4]"
      ]
     },
     "execution_count": 147,
     "metadata": {},
     "output_type": "execute_result"
    }
   ],
   "source": [
    "filter_template(lambda x:x%2==0,list_data)"
   ]
  },
  {
   "cell_type": "code",
   "execution_count": 150,
   "id": "8c0208c0-3a53-422e-a9bc-2a24c2972208",
   "metadata": {},
   "outputs": [
    {
     "data": {
      "text/plain": [
       "[2, 4]"
      ]
     },
     "execution_count": 150,
     "metadata": {},
     "output_type": "execute_result"
    }
   ],
   "source": [
    "list(filter(lambda x:x%2==0,list_data))"
   ]
  },
  {
   "cell_type": "code",
   "execution_count": 151,
   "id": "45ba5518-8c8f-4629-a6d6-4890df95774d",
   "metadata": {},
   "outputs": [
    {
     "data": {
      "text/plain": [
       "[2, 4]"
      ]
     },
     "execution_count": 151,
     "metadata": {},
     "output_type": "execute_result"
    }
   ],
   "source": [
    "#list comprehension 이용\n",
    "[x for x in list_data if x%2==0]"
   ]
  },
  {
   "cell_type": "markdown",
   "id": "159a1c52-f29c-4100-8c52-bd0f6ce385b9",
   "metadata": {},
   "source": [
    "# 5절 파이썬 내장함수\n",
    "- point처럼 import하지 않고 즉시 사용 가능한 함수"
   ]
  },
  {
   "cell_type": "code",
   "execution_count": 152,
   "id": "31b3cdba-f26e-46cd-a2bc-04c67850d76c",
   "metadata": {},
   "outputs": [],
   "source": [
    "#연습문제"
   ]
  },
  {
   "cell_type": "code",
   "execution_count": 156,
   "id": "7f86688a-d838-4e9b-9ca8-53d35376bf55",
   "metadata": {},
   "outputs": [
    {
     "name": "stdout",
     "output_type": "stream",
     "text": [
      "(1, 9)\n"
     ]
    }
   ],
   "source": [
    "#1 \n",
    "def get_max_min(data_list):\n",
    "    data_list.sort()\n",
    "    return data_list[0],data_list[len(data_list)-1]\n",
    "list=[5,7,2,1,9,3]\n",
    "print(get_max_min(list))"
   ]
  },
  {
   "cell_type": "code",
   "execution_count": null,
   "id": "e8132841-c3e2-4420-bc0a-6600b5b61f31",
   "metadata": {},
   "outputs": [],
   "source": [
    "#로또 생성 함수 make_lotto\n",
    "import random\n",
    "def make_loto():\n",
    "#lotto={random.randint(1,45),}\n",
    "    lotto=set()\n",
    "    while(len(lotto)<6):\n",
    "        lotto.add(random.randint(1,45))\n",
    "    lotto=list(lotto)\n",
    "    #lotto=[num for num in set]\n",
    "    lotto.sort()\n",
    "    return lotto\n",
    "\n",
    "print(make_loto())"
   ]
  },
  {
   "cell_type": "code",
   "execution_count": 167,
   "id": "cc331862-d646-4841-8a44-77129effef83",
   "metadata": {},
   "outputs": [
    {
     "name": "stdout",
     "output_type": "stream",
     "text": [
      "[1, 2, '짝', 4, 5, '짝', 7, 8, '짝', '짝', 20, '짝짝']\n"
     ]
    }
   ],
   "source": [
    "#3 3,6,9게임\n",
    "def game_369(*list):\n",
    "    result=[]\n",
    "    for val in list:\n",
    "        result.append(val)\n",
    "        cnt=0;\n",
    "        while(val!=0):\n",
    "            if((val%10%3==0)&(val%10!=0)):\n",
    "                cnt+=1\n",
    "            val-=val%10\n",
    "            val/=10\n",
    "        if(cnt>0):\n",
    "            result.pop()\n",
    "            result.append('짝'*cnt)\n",
    "    return result\n",
    "    \n",
    "#print(game_369([1,2,3,4,5,6,7,8,9,13,20,33]))\n",
    "print(game_369(1,2,3,4,5,6,7,8,9,13,20,33))"
   ]
  },
  {
   "cell_type": "code",
   "execution_count": 174,
   "id": "8a45bec8-7e73-4c5a-996d-eb671d4d0920",
   "metadata": {},
   "outputs": [
    {
     "ename": "TypeError",
     "evalue": "'list' object is not callable",
     "output_type": "error",
     "traceback": [
      "\u001b[1;31m---------------------------------------------------------------------------\u001b[0m",
      "\u001b[1;31mTypeError\u001b[0m                                 Traceback (most recent call last)",
      "Cell \u001b[1;32mIn[174], line 16\u001b[0m\n\u001b[0;32m     13\u001b[0m             result\u001b[38;5;241m.\u001b[39mappend(val)\n\u001b[0;32m     14\u001b[0m     \u001b[38;5;28;01mreturn\u001b[39;00m result\n\u001b[1;32m---> 16\u001b[0m \u001b[38;5;28mprint\u001b[39m(game_369([\u001b[38;5;241m1\u001b[39m,\u001b[38;5;241m2\u001b[39m,\u001b[38;5;241m3\u001b[39m,\u001b[38;5;241m4\u001b[39m,\u001b[38;5;241m5\u001b[39m,\u001b[38;5;241m6\u001b[39m,\u001b[38;5;241m7\u001b[39m,\u001b[38;5;241m8\u001b[39m,\u001b[38;5;241m9\u001b[39m,\u001b[38;5;241m13\u001b[39m,\u001b[38;5;241m20\u001b[39m,\u001b[38;5;241m33\u001b[39m]))\n",
      "Cell \u001b[1;32mIn[174], line 5\u001b[0m, in \u001b[0;36mgame_369\u001b[1;34m(l)\u001b[0m\n\u001b[0;32m      3\u001b[0m \u001b[38;5;28;01mfor\u001b[39;00m val \u001b[38;5;129;01min\u001b[39;00m l:\n\u001b[0;32m      4\u001b[0m     val_str\u001b[38;5;241m=\u001b[39m\u001b[38;5;28mstr\u001b[39m(val)\n\u001b[1;32m----> 5\u001b[0m     valstr_list\u001b[38;5;241m=\u001b[39m\u001b[38;5;28mlist\u001b[39m(val_str)\n\u001b[0;32m      6\u001b[0m     clap\u001b[38;5;241m=\u001b[39m\u001b[38;5;124m'\u001b[39m\u001b[38;5;124m'\u001b[39m\n\u001b[0;32m      7\u001b[0m     \u001b[38;5;28;01mfor\u001b[39;00m s \u001b[38;5;129;01min\u001b[39;00m datastr_list:\n",
      "\u001b[1;31mTypeError\u001b[0m: 'list' object is not callable"
     ]
    }
   ],
   "source": [
    "def game_369(l):\n",
    "    result=[]\n",
    "    for val in l:\n",
    "        val_str=str(val)\n",
    "        valstr_list=list(val_str)\n",
    "        clap=''\n",
    "        for s in datastr_list:\n",
    "            if(int(s)!=0)&(int(s)%3==0):#3의 배수 판정\n",
    "                clap+='짝'\n",
    "        if(clap):\n",
    "            result.append(clap)\n",
    "        else:\n",
    "            result.append(val)\n",
    "    return result\n",
    "    \n",
    "print(game_369([1,2,3,4,5,6,7,8,9,13,20,33]))"
   ]
  },
  {
   "cell_type": "code",
   "execution_count": null,
   "id": "39c1261c-4eea-485f-8cfe-953a8fd7defc",
   "metadata": {},
   "outputs": [],
   "source": []
  }
 ],
 "metadata": {
  "kernelspec": {
   "display_name": "Python 3 (ipykernel)",
   "language": "python",
   "name": "python3"
  },
  "language_info": {
   "codemirror_mode": {
    "name": "ipython",
    "version": 3
   },
   "file_extension": ".py",
   "mimetype": "text/x-python",
   "name": "python",
   "nbconvert_exporter": "python",
   "pygments_lexer": "ipython3",
   "version": "3.11.7"
  }
 },
 "nbformat": 4,
 "nbformat_minor": 5
}
