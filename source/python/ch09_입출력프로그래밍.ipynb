{
 "cells": [
  {
   "cell_type": "markdown",
   "id": "bc0c6f44-c057-4723-ad95-96c881de8fc2",
   "metadata": {},
   "source": [
    "<font color=\"79e5cb\" size=\"6\"><b>ch09 파일 입출력<b/></font>"
   ]
  },
  {
   "cell_type": "markdown",
   "id": "f143f36f-269f-4dfa-978d-839dda6ab0a9",
   "metadata": {},
   "source": [
    "# 1절 파일에 데이터를 저장하고 불러오기"
   ]
  },
  {
   "cell_type": "code",
   "execution_count": 8,
   "id": "7383419c-394a-4e00-9637-db7474f98110",
   "metadata": {},
   "outputs": [
    {
     "name": "stdout",
     "output_type": "stream",
     "text": [
      "True\n"
     ]
    }
   ],
   "source": [
    "#양방향 stream 불가, 읽기전용 or쓰기전용\n",
    "#w: 있는 파일은 기존의 파일에 덮어쓰고 없는 파일은 생성(쓰기전용)\n",
    "#a: append있는 파일은 추가/ 없는 파일은 생성(쓰기전용)\n",
    "#r: 읽기 전용\n",
    "\n",
    "f=open('data/ch09.txt','a')#encoding 기본값: cp949, 한글 없을 시:아스키코드\n",
    "print(f.writable())"
   ]
  },
  {
   "cell_type": "code",
   "execution_count": 9,
   "id": "e1cb3ea1-eaed-4ea9-998b-779b4fb2906c",
   "metadata": {},
   "outputs": [],
   "source": [
    "f.write('hello\\nworld\\nhello\\npython\\n반갑습니다\\n')#한글은 cp949\n",
    "f.write('여러번 write가능\\n')\n",
    "f.close()"
   ]
  },
  {
   "cell_type": "code",
   "execution_count": 11,
   "id": "50b9b6ff-209a-4d64-855d-f0a222e790c1",
   "metadata": {},
   "outputs": [
    {
     "name": "stdout",
     "output_type": "stream",
     "text": [
      "['hello\\n', 'world\\n', 'hello\\n', 'python\\n', '반갑습니다\\n', '여러번 write가능\\n', 'hello\\n', 'world\\n', 'hello\\n', 'python\\n', '반갑습니다\\n', '여러번 write가능\\n']\n"
     ]
    }
   ],
   "source": [
    "with open('data/ch09.txt','r') as f:#f:with절 안의 지역변수\n",
    "    data=f.readlines()\n",
    "    print(data)\n",
    "    "
   ]
  },
  {
   "cell_type": "code",
   "execution_count": 13,
   "id": "8845d4d4-f205-4084-a540-72e11f483a38",
   "metadata": {},
   "outputs": [],
   "source": [
    "with open('data/ch09.txt','w')as f:\n",
    "    print('python is easy 꺄\\n',file=f)#파일에 출력"
   ]
  },
  {
   "cell_type": "code",
   "execution_count": 15,
   "id": "c87649bd-f06d-4cd1-b78e-2128961965ca",
   "metadata": {},
   "outputs": [
    {
     "name": "stdout",
     "output_type": "stream",
     "text": [
      "홍길동,20,hong@hong.com,서울시 강동구\n",
      "박길서,33,park@hong.com,서울시 강서구\n",
      "박길남,23,park@hong.com,서울시 강남구\n",
      "김길북,20,park@hong.com,서울시 강북구\n",
      "신길서,40,park@hong.com,서울시 강서구\n",
      "신길동,28,park@hong.com,서울시 강서동"
     ]
    }
   ],
   "source": [
    "# utf-8로 인코딩 csv파일을 read\n",
    "with open('data/ch09_member1.csv','r',encoding='utf-8') as f:\n",
    "    data=f.readlines()\n",
    "    for row in data:\n",
    "        print(row,end='')"
   ]
  },
  {
   "cell_type": "code",
   "execution_count": 26,
   "id": "49ba569b-9f40-49d4-a01f-0bcb1edcc284",
   "metadata": {},
   "outputs": [
    {
     "data": {
      "text/html": [
       "<div>\n",
       "<style scoped>\n",
       "    .dataframe tbody tr th:only-of-type {\n",
       "        vertical-align: middle;\n",
       "    }\n",
       "\n",
       "    .dataframe tbody tr th {\n",
       "        vertical-align: top;\n",
       "    }\n",
       "\n",
       "    .dataframe thead th {\n",
       "        text-align: right;\n",
       "    }\n",
       "</style>\n",
       "<table border=\"1\" class=\"dataframe\">\n",
       "  <thead>\n",
       "    <tr style=\"text-align: right;\">\n",
       "      <th></th>\n",
       "      <th>name</th>\n",
       "      <th>age</th>\n",
       "      <th>email</th>\n",
       "      <th>address</th>\n",
       "    </tr>\n",
       "  </thead>\n",
       "  <tbody>\n",
       "    <tr>\n",
       "      <th>0</th>\n",
       "      <td>홍길동</td>\n",
       "      <td>20</td>\n",
       "      <td>hong@hong.com</td>\n",
       "      <td>서울시 강동구</td>\n",
       "    </tr>\n",
       "    <tr>\n",
       "      <th>1</th>\n",
       "      <td>박길서</td>\n",
       "      <td>33</td>\n",
       "      <td>park@hong.com</td>\n",
       "      <td>서울시 강서구</td>\n",
       "    </tr>\n",
       "    <tr>\n",
       "      <th>2</th>\n",
       "      <td>박길남</td>\n",
       "      <td>23</td>\n",
       "      <td>park@hong.com</td>\n",
       "      <td>서울시 강남구</td>\n",
       "    </tr>\n",
       "    <tr>\n",
       "      <th>3</th>\n",
       "      <td>김길북</td>\n",
       "      <td>20</td>\n",
       "      <td>park@hong.com</td>\n",
       "      <td>서울시 강북구</td>\n",
       "    </tr>\n",
       "    <tr>\n",
       "      <th>4</th>\n",
       "      <td>신길서</td>\n",
       "      <td>40</td>\n",
       "      <td>park@hong.com</td>\n",
       "      <td>서울시 강서구</td>\n",
       "    </tr>\n",
       "    <tr>\n",
       "      <th>5</th>\n",
       "      <td>신길동</td>\n",
       "      <td>28</td>\n",
       "      <td>park@hong.com</td>\n",
       "      <td>서울시 강서동</td>\n",
       "    </tr>\n",
       "  </tbody>\n",
       "</table>\n",
       "</div>"
      ],
      "text/plain": [
       "  name  age          email  address\n",
       "0  홍길동   20  hong@hong.com  서울시 강동구\n",
       "1  박길서   33  park@hong.com  서울시 강서구\n",
       "2  박길남   23  park@hong.com  서울시 강남구\n",
       "3  김길북   20  park@hong.com  서울시 강북구\n",
       "4  신길서   40  park@hong.com  서울시 강서구\n",
       "5  신길동   28  park@hong.com  서울시 강서동"
      ]
     },
     "execution_count": 26,
     "metadata": {},
     "output_type": "execute_result"
    }
   ],
   "source": [
    "import pandas as pd\n",
    "member1=pd.read_csv('data/ch09_member1.csv',header=None) #모드 선택 필요없음\n",
    "member1.columns=['name','age','email','address']\n",
    "member1"
   ]
  },
  {
   "cell_type": "code",
   "execution_count": 27,
   "id": "6c6ddab6-ad9f-47dd-8e7b-8f0cb6c7d844",
   "metadata": {},
   "outputs": [
    {
     "data": {
      "text/plain": [
       "pandas.core.frame.DataFrame"
      ]
     },
     "execution_count": 27,
     "metadata": {},
     "output_type": "execute_result"
    }
   ],
   "source": [
    "type(member1)"
   ]
  },
  {
   "cell_type": "code",
   "execution_count": 28,
   "id": "1e48d02d-9848-408d-9197-3c413fbcb9ea",
   "metadata": {},
   "outputs": [
    {
     "data": {
      "text/html": [
       "<div>\n",
       "<style scoped>\n",
       "    .dataframe tbody tr th:only-of-type {\n",
       "        vertical-align: middle;\n",
       "    }\n",
       "\n",
       "    .dataframe tbody tr th {\n",
       "        vertical-align: top;\n",
       "    }\n",
       "\n",
       "    .dataframe thead th {\n",
       "        text-align: right;\n",
       "    }\n",
       "</style>\n",
       "<table border=\"1\" class=\"dataframe\">\n",
       "  <thead>\n",
       "    <tr style=\"text-align: right;\">\n",
       "      <th></th>\n",
       "      <th>name</th>\n",
       "      <th>age</th>\n",
       "      <th>email</th>\n",
       "      <th>address</th>\n",
       "    </tr>\n",
       "  </thead>\n",
       "  <tbody>\n",
       "    <tr>\n",
       "      <th>0</th>\n",
       "      <td>홍길동</td>\n",
       "      <td>20</td>\n",
       "      <td>hong@hong.com</td>\n",
       "      <td>서울시 강동구</td>\n",
       "    </tr>\n",
       "    <tr>\n",
       "      <th>1</th>\n",
       "      <td>박길서</td>\n",
       "      <td>33</td>\n",
       "      <td>park@hong.com</td>\n",
       "      <td>서울시 강서구</td>\n",
       "    </tr>\n",
       "    <tr>\n",
       "      <th>2</th>\n",
       "      <td>박길남</td>\n",
       "      <td>23</td>\n",
       "      <td>park@hong.com</td>\n",
       "      <td>서울시 강남구</td>\n",
       "    </tr>\n",
       "  </tbody>\n",
       "</table>\n",
       "</div>"
      ],
      "text/plain": [
       "  name  age          email  address\n",
       "0  홍길동   20  hong@hong.com  서울시 강동구\n",
       "1  박길서   33  park@hong.com  서울시 강서구\n",
       "2  박길남   23  park@hong.com  서울시 강남구"
      ]
     },
     "execution_count": 28,
     "metadata": {},
     "output_type": "execute_result"
    }
   ],
   "source": [
    "member2=pd.read_csv('data/ch09_member2.csv',nrows=3)#nrows만큼만 열기\n",
    "member2"
   ]
  },
  {
   "cell_type": "code",
   "execution_count": 29,
   "id": "f157a45a-39af-4221-8426-ae40ddc238ce",
   "metadata": {},
   "outputs": [
    {
     "data": {
      "text/html": [
       "<div>\n",
       "<style scoped>\n",
       "    .dataframe tbody tr th:only-of-type {\n",
       "        vertical-align: middle;\n",
       "    }\n",
       "\n",
       "    .dataframe tbody tr th {\n",
       "        vertical-align: top;\n",
       "    }\n",
       "\n",
       "    .dataframe thead th {\n",
       "        text-align: right;\n",
       "    }\n",
       "</style>\n",
       "<table border=\"1\" class=\"dataframe\">\n",
       "  <thead>\n",
       "    <tr style=\"text-align: right;\">\n",
       "      <th></th>\n",
       "      <th>name</th>\n",
       "      <th>age</th>\n",
       "      <th>email</th>\n",
       "      <th>address</th>\n",
       "    </tr>\n",
       "  </thead>\n",
       "  <tbody>\n",
       "    <tr>\n",
       "      <th>0</th>\n",
       "      <td>홍길동</td>\n",
       "      <td>20</td>\n",
       "      <td>hong@hong.com</td>\n",
       "      <td>서울시 강동구</td>\n",
       "    </tr>\n",
       "    <tr>\n",
       "      <th>1</th>\n",
       "      <td>박길서</td>\n",
       "      <td>33</td>\n",
       "      <td>park@hong.com</td>\n",
       "      <td>서울시 강서구</td>\n",
       "    </tr>\n",
       "    <tr>\n",
       "      <th>2</th>\n",
       "      <td>박길남</td>\n",
       "      <td>23</td>\n",
       "      <td>park@hong.com</td>\n",
       "      <td>서울시 강남구</td>\n",
       "    </tr>\n",
       "    <tr>\n",
       "      <th>3</th>\n",
       "      <td>김길북</td>\n",
       "      <td>20</td>\n",
       "      <td>park@hong.com</td>\n",
       "      <td>서울시 강북구</td>\n",
       "    </tr>\n",
       "    <tr>\n",
       "      <th>4</th>\n",
       "      <td>신길서</td>\n",
       "      <td>40</td>\n",
       "      <td>park@hong.com</td>\n",
       "      <td>서울시 강서구</td>\n",
       "    </tr>\n",
       "    <tr>\n",
       "      <th>5</th>\n",
       "      <td>신길동</td>\n",
       "      <td>28</td>\n",
       "      <td>park@hong.com</td>\n",
       "      <td>서울시 강서동</td>\n",
       "    </tr>\n",
       "    <tr>\n",
       "      <th>0</th>\n",
       "      <td>홍길동</td>\n",
       "      <td>20</td>\n",
       "      <td>hong@hong.com</td>\n",
       "      <td>서울시 강동구</td>\n",
       "    </tr>\n",
       "    <tr>\n",
       "      <th>1</th>\n",
       "      <td>박길서</td>\n",
       "      <td>33</td>\n",
       "      <td>park@hong.com</td>\n",
       "      <td>서울시 강서구</td>\n",
       "    </tr>\n",
       "    <tr>\n",
       "      <th>2</th>\n",
       "      <td>박길남</td>\n",
       "      <td>23</td>\n",
       "      <td>park@hong.com</td>\n",
       "      <td>서울시 강남구</td>\n",
       "    </tr>\n",
       "  </tbody>\n",
       "</table>\n",
       "</div>"
      ],
      "text/plain": [
       "  name  age          email  address\n",
       "0  홍길동   20  hong@hong.com  서울시 강동구\n",
       "1  박길서   33  park@hong.com  서울시 강서구\n",
       "2  박길남   23  park@hong.com  서울시 강남구\n",
       "3  김길북   20  park@hong.com  서울시 강북구\n",
       "4  신길서   40  park@hong.com  서울시 강서구\n",
       "5  신길동   28  park@hong.com  서울시 강서동\n",
       "0  홍길동   20  hong@hong.com  서울시 강동구\n",
       "1  박길서   33  park@hong.com  서울시 강서구\n",
       "2  박길남   23  park@hong.com  서울시 강남구"
      ]
     },
     "execution_count": 29,
     "metadata": {},
     "output_type": "execute_result"
    }
   ],
   "source": [
    "member=pd.concat([member1,member2])#concat()두 자료 합하기(행병합/열병합)\n",
    "member"
   ]
  },
  {
   "cell_type": "code",
   "execution_count": 30,
   "id": "8dddb3ea-c447-410a-a4b9-b22674fef852",
   "metadata": {},
   "outputs": [],
   "source": [
    "member.to_csv('data/member.csv',index=False)#index 제외하고 csv파일로 저장"
   ]
  },
  {
   "cell_type": "code",
   "execution_count": null,
   "id": "0df3601c-1985-447a-bbfc-f3d134619709",
   "metadata": {},
   "outputs": [],
   "source": []
  },
  {
   "cell_type": "code",
   "execution_count": null,
   "id": "a2e25cae-788b-445d-9b36-80e404bab3ce",
   "metadata": {},
   "outputs": [],
   "source": []
  }
 ],
 "metadata": {
  "kernelspec": {
   "display_name": "Python 3 (ipykernel)",
   "language": "python",
   "name": "python3"
  },
  "language_info": {
   "codemirror_mode": {
    "name": "ipython",
    "version": 3
   },
   "file_extension": ".py",
   "mimetype": "text/x-python",
   "name": "python",
   "nbconvert_exporter": "python",
   "pygments_lexer": "ipython3",
   "version": "3.11.7"
  }
 },
 "nbformat": 4,
 "nbformat_minor": 5
}
