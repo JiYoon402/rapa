{
 "cells": [
  {
   "cell_type": "markdown",
   "id": "93cd8667-9933-4612-b7be-519442eb44b2",
   "metadata": {},
   "source": [
    "<font color=\"skyblue\" size=\"7\"><b>ch04 제어문<b/></font>"
   ]
  },
  {
   "cell_type": "markdown",
   "id": "0a96dc44-221a-4cfa-a2d2-53c0026241b6",
   "metadata": {},
   "source": [
    "- if문, for-in문, while문"
   ]
  },
  {
   "cell_type": "markdown",
   "id": "93beb868-b374-455f-90cc-da5468b0a417",
   "metadata": {},
   "source": [
    "# 1절 if문"
   ]
  },
  {
   "cell_type": "code",
   "execution_count": null,
   "id": "38ff5576-5f57-4444-bb76-fb28f2808997",
   "metadata": {},
   "outputs": [],
   "source": [
    "#점수를 입력받아 학점 출력\n",
    "name=\"HONG\"\n",
    "score=int(input(name+'! Enter your score:'))\n",
    "if 90<=score<=100:\n",
    "    grade='A'\n",
    "elif 80<=score<90:\n",
    "    grade='B'\n",
    "elif 70<=score<80:\n",
    "    grade='C'\n",
    "elif 60<=score<70:\n",
    "    grade='D'\n",
    "elif 0<=score<60:\n",
    "    grade='F'\n",
    "else:\n",
    "    grade='유효하지 않은 점수'\n",
    "\n",
    "print('입력하신 점수는 {}점이고, {}등급입니다'.format(score,grade))"
   ]
  },
  {
   "cell_type": "markdown",
   "id": "12460f2e-b18c-48b5-a37c-89ba6aa9ca3e",
   "metadata": {},
   "source": [
    "# 2절 for-in문\n",
    "```python\n",
    "for 변수 in 나열이가능한자료형:\n",
    "    반복할 문장1\n",
    "    반복할 문장2\n",
    "    break;\n",
    "else: #break를 수행시 else 수행 안함\n",
    "    변수에 값이 할당되지 않은 경우 시행할 문장(선택사항)\n",
    "\n",
    "```"
   ]
  },
  {
   "cell_type": "code",
   "execution_count": null,
   "id": "b0ec35bf-361c-42ce-860b-cf374d888f04",
   "metadata": {},
   "outputs": [],
   "source": [
    "list(range(1,10,2)) # range도 나열 가능한 자료"
   ]
  },
  {
   "cell_type": "code",
   "execution_count": null,
   "id": "9b64583d-2add-4f78-a0c6-3f53baf6b26a",
   "metadata": {},
   "outputs": [],
   "source": [
    "for i in range(10):\n",
    "    print(i,end='\\t')\n",
    "else:\n",
    "    print(\"\\nDone\")\n",
    "print('End')"
   ]
  },
  {
   "cell_type": "code",
   "execution_count": null,
   "id": "06dab6d1-217d-4f3b-bd4c-8f63090d098c",
   "metadata": {},
   "outputs": [],
   "source": [
    "# 1부터 100까지 짝수의 합을 계산하고 출력\n",
    "sum=0\n",
    "for i in range(1,51):\n",
    "    sum+=2*i;\n",
    "sum"
   ]
  },
  {
   "cell_type": "markdown",
   "id": "6a961320-e1f7-49e8-91e2-002ebd66267d",
   "metadata": {},
   "source": [
    "# 3절 while\n",
    "```python\n",
    "while 조건:\n",
    "    반복문장1\n",
    "    반복문장2\n",
    "else: # while문 내 break를 통해 빠져나올때는 수행X\n",
    "    조건이 거짓일 경우 한번 수행할 문장(선택사항)\n",
    "```"
   ]
  },
  {
   "cell_type": "code",
   "execution_count": 1,
   "id": "9a69d5c4-2fe4-4ce0-a80f-a5f8ce3d7c1c",
   "metadata": {},
   "outputs": [
    {
     "name": "stdin",
     "output_type": "stream",
     "text": [
      "d =10\n"
     ]
    },
    {
     "data": {
      "text/plain": [
       "'=10'"
      ]
     },
     "execution_count": 1,
     "metadata": {},
     "output_type": "execute_result"
    }
   ],
   "source": [
    "input('d')"
   ]
  },
  {
   "cell_type": "code",
   "execution_count": 7,
   "id": "a64cc8e6-c824-4100-a6fa-a670a86965eb",
   "metadata": {},
   "outputs": [
    {
     "name": "stdin",
     "output_type": "stream",
     "text": [
      "첫번째 정수(작은 수) 입력: 2\n",
      "두번째 정수(큰 수) 입력: 6\n"
     ]
    },
    {
     "name": "stdout",
     "output_type": "stream",
     "text": [
      "4\n"
     ]
    }
   ],
   "source": [
    "# 사용자에게 두 수를 입력받아 첫번째(작은수) 수 부터 두번째(큰수) 입력한 수 까지 홀수의 합 누적해서 출력\n",
    "n1=int(input('첫번째 정수(작은 수) 입력:'))\n",
    "n2=int(input('두번째 정수(큰 수) 입력:'))\n",
    "i=n1\n",
    "sum=0\n",
    "while n1<=n2:\n",
    "    if n1%2!=0:\n",
    "        sum+=i\n",
    "    n1+=1\n",
    "    \n",
    "print(sum)"
   ]
  },
  {
   "cell_type": "markdown",
   "id": "5e48b710-3293-46f2-8c1a-53aae03af1cd",
   "metadata": {},
   "source": [
    "# 4절 break, continue"
   ]
  },
  {
   "cell_type": "code",
   "execution_count": 6,
   "id": "28aa6ff8-407d-4007-ab12-7a24373589c6",
   "metadata": {},
   "outputs": [
    {
     "name": "stdout",
     "output_type": "stream",
     "text": [
      "1\t2\t4\t5\t6\t7\t8\t9\t10\t11\t"
     ]
    }
   ],
   "source": [
    "num=0\n",
    "while(num<=10):\n",
    "    num+=1\n",
    "    if num==3:\n",
    "        continue\n",
    "        #break\n",
    "    print(num,end='\\t')"
   ]
  },
  {
   "cell_type": "markdown",
   "id": "d80d8340-019d-4015-ab23-5444d9d77c10",
   "metadata": {},
   "source": [
    "# 5절 이중 loop"
   ]
  },
  {
   "cell_type": "code",
   "execution_count": 10,
   "id": "265a8acd-0041-43c7-ae20-967bd44ce889",
   "metadata": {},
   "outputs": [
    {
     "name": "stdout",
     "output_type": "stream",
     "text": [
      "2X1= 2\t3X1= 3\t4X1= 4\t5X1= 5\t6X1= 6\t7X1= 7\t8X1= 8\t9X1= 9\t\n",
      "2X2= 4\t3X2= 6\t4X2= 8\t5X2=10\t6X2=12\t7X2=14\t8X2=16\t9X2=18\t\n",
      "2X3= 6\t3X3= 9\t4X3=12\t5X3=15\t6X3=18\t7X3=21\t8X3=24\t9X3=27\t\n",
      "2X4= 8\t3X4=12\t4X4=16\t5X4=20\t6X4=24\t7X4=28\t8X4=32\t9X4=36\t\n",
      "2X5=10\t3X5=15\t4X5=20\t5X5=25\t6X5=30\t7X5=35\t8X5=40\t9X5=45\t\n",
      "2X6=12\t3X6=18\t4X6=24\t5X6=30\t6X6=36\t7X6=42\t8X6=48\t9X6=54\t\n",
      "2X7=14\t3X7=21\t4X7=28\t5X7=35\t6X7=42\t7X7=49\t8X7=56\t9X7=63\t\n",
      "2X8=16\t3X8=24\t4X8=32\t5X8=40\t6X8=48\t7X8=56\t8X8=64\t9X8=72\t\n",
      "2X9=18\t3X9=27\t4X9=36\t5X9=45\t6X9=54\t7X9=63\t8X9=72\t9X9=81\t\n"
     ]
    }
   ],
   "source": [
    "for i in range(1,10):\n",
    "    for j in range(2,10):\n",
    "        print('{}X{}={:>2}\\t'.format(j,i,j*i),end='')\n",
    "    print() # 줄바꾸기용\n",
    "    "
   ]
  },
  {
   "cell_type": "markdown",
   "id": "041f10e4-4a44-4afd-b8e3-3f60f817df54",
   "metadata": {},
   "source": [
    "# 6절 연습문제"
   ]
  },
  {
   "cell_type": "code",
   "execution_count": null,
   "id": "deb7abce-c206-4a7e-8207-525f34209668",
   "metadata": {},
   "outputs": [],
   "source": [
    "#1 1~100사이의 정수 맞추기\n",
    "import random\n",
    "random.seed(7) #\n",
    "num=random.randint(1,100)\n",
    "print(num)\n",
    "\n",
    "min=1\n",
    "max=100\n",
    "\n",
    "while(1):\n",
    "    ans=int(input(str(min)+'~'+str(max)+'범위의 정수 입력:'))\n",
    "    if ans>num:\n",
    "        print('DOWN')\n",
    "        if(max>ans):\n",
    "            max=ans\n",
    "    elif ans<num:\n",
    "        print('UP')\n",
    "        if(min<ans):\n",
    "            min=ans\n",
    "    else:\n",
    "        print(\"정답입니다!\")\n",
    "        break;\n"
   ]
  },
  {
   "cell_type": "code",
   "execution_count": 49,
   "id": "5c6cfacb-293f-4c93-9d0a-c64ac9cbaf90",
   "metadata": {},
   "outputs": [
    {
     "name": "stdout",
     "output_type": "stream",
     "text": [
      "60\n"
     ]
    },
    {
     "name": "stdin",
     "output_type": "stream",
     "text": [
      "1~100범위의 정수 입력: 5\n"
     ]
    },
    {
     "name": "stdout",
     "output_type": "stream",
     "text": [
      "UP 남은기회:4\n"
     ]
    },
    {
     "name": "stdin",
     "output_type": "stream",
     "text": [
      "5~100범위의 정수 입력: 10\n"
     ]
    },
    {
     "name": "stdout",
     "output_type": "stream",
     "text": [
      "UP 남은기회:3\n"
     ]
    },
    {
     "name": "stdin",
     "output_type": "stream",
     "text": [
      "10~100범위의 정수 입력: 90\n"
     ]
    },
    {
     "name": "stdout",
     "output_type": "stream",
     "text": [
      "DOWN 남은기회:2\n"
     ]
    },
    {
     "name": "stdin",
     "output_type": "stream",
     "text": [
      "10~90범위의 정수 입력: 80\n"
     ]
    },
    {
     "name": "stdout",
     "output_type": "stream",
     "text": [
      "DOWN 남은기회:1\n"
     ]
    },
    {
     "name": "stdin",
     "output_type": "stream",
     "text": [
      "10~80범위의 정수 입력: 55\n"
     ]
    },
    {
     "name": "stdout",
     "output_type": "stream",
     "text": [
      "UP 남은기회:0\n",
      "기회를 모두 사용하셨습니다. 실패\n"
     ]
    }
   ],
   "source": [
    "#1 1~100사이의 정수 맞추기(5회 제한)\n",
    "import random\n",
    "#random.seed(7) \n",
    "num=random.randint(1,100)\n",
    "print(num)\n",
    "\n",
    "min=1\n",
    "max=100\n",
    "i=1;\n",
    "\n",
    "while(i<6):\n",
    "    ans=int(input(str(min)+'~'+str(max)+'범위의 정수 입력:'))\n",
    "    if (ans<min)|(ans>max):\n",
    "        print('범위 안의 수를 입력하세요.')\n",
    "    elif ans>num:\n",
    "        print('DOWN 남은기회:{}'.format(5-i))\n",
    "        if(max>ans):\n",
    "            max=ans\n",
    "    elif ans<num:\n",
    "        print('UP 남은기회:{}'.format(5-i))\n",
    "        if(min<ans):\n",
    "            min=ans\n",
    "    else:\n",
    "        print(\"정답입니다! {}번째 시도에 맞춤!\".format(i))\n",
    "        break;\n",
    "    i+=1\n",
    "\n",
    "else:\n",
    "    print('기회를 모두 사용하셨습니다. 실패')\n"
   ]
  },
  {
   "cell_type": "code",
   "execution_count": 57,
   "id": "018ab01f-3492-44c4-a9cd-11cb69600433",
   "metadata": {},
   "outputs": [
    {
     "data": {
      "text/plain": [
       "[8, 10, 11, 22, 27, 33]"
      ]
     },
     "execution_count": 57,
     "metadata": {},
     "output_type": "execute_result"
    }
   ],
   "source": [
    "#2. 중복되지 않은 로또 번호를 오름차순 정렬하여 출력(set.add(n))=>list로 변환하여 정렬\n",
    "import random\n",
    "lotto={random.randint(1,45),}\n",
    "#lotto=set()\n",
    "while(len(lotto)<6):\n",
    "    lotto.add(random.randint(1,45))\n",
    "    \n",
    "lotto=list(lotto)\n",
    "#lotto=[num for num in set]\n",
    "lotto.sort()\n",
    "\n",
    "lotto"
   ]
  },
  {
   "cell_type": "code",
   "execution_count": null,
   "id": "53b38970-fd58-4c73-b2d1-925eac34b399",
   "metadata": {},
   "outputs": [],
   "source": []
  }
 ],
 "metadata": {
  "kernelspec": {
   "display_name": "Python 3 (ipykernel)",
   "language": "python",
   "name": "python3"
  },
  "language_info": {
   "codemirror_mode": {
    "name": "ipython",
    "version": 3
   },
   "file_extension": ".py",
   "mimetype": "text/x-python",
   "name": "python",
   "nbconvert_exporter": "python",
   "pygments_lexer": "ipython3",
   "version": "3.11.7"
  }
 },
 "nbformat": 4,
 "nbformat_minor": 5
}
